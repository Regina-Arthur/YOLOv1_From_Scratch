{
  "nbformat": 4,
  "nbformat_minor": 0,
  "metadata": {
    "colab": {
      "provenance": [],
      "gpuType": "T4",
      "include_colab_link": true
    },
    "kernelspec": {
      "name": "python3",
      "display_name": "Python 3"
    },
    "language_info": {
      "name": "python"
    },
    "accelerator": "GPU"
  },
  "cells": [
    {
      "cell_type": "markdown",
      "metadata": {
        "id": "view-in-github",
        "colab_type": "text"
      },
      "source": [
        "<a href=\"https://colab.research.google.com/github/Regina-Arthur/YOLOv1_From_Scratch/blob/main/YOLOv1_from_scratch.ipynb\" target=\"_parent\"><img src=\"https://colab.research.google.com/assets/colab-badge.svg\" alt=\"Open In Colab\"/></a>"
      ]
    },
    {
      "cell_type": "markdown",
      "source": [
        "#Building a YOLOv1 model from scratch by Regina Arthur\n"
      ],
      "metadata": {
        "id": "E075aKobGM0_"
      }
    },
    {
      "cell_type": "markdown",
      "source": [
        "###This will be done without the convolutional layers being pretrained on imagenet"
      ],
      "metadata": {
        "id": "2C124Tg5bKL-"
      }
    },
    {
      "cell_type": "markdown",
      "source": [
        "##Import the necessary libraries\n"
      ],
      "metadata": {
        "id": "B97rFjkKGMf5"
      }
    },
    {
      "cell_type": "code",
      "execution_count": 1,
      "metadata": {
        "id": "ZcJyo6t5oNmj"
      },
      "outputs": [],
      "source": [
        "#Let's import the necessary libraries to build YOLOv1\n",
        "#with pytorch\n",
        "import torch\n",
        "import torch.nn as nn\n",
        "import torch.nn.functional as F\n",
        "import torchvision\n",
        "import torchvision.transforms.v2 as v2\n",
        "import matplotlib.pyplot as plt\n",
        "import numpy as np"
      ]
    },
    {
      "cell_type": "code",
      "source": [
        "torch.__version__"
      ],
      "metadata": {
        "colab": {
          "base_uri": "https://localhost:8080/",
          "height": 35
        },
        "id": "DxEsdq5UpZQA",
        "outputId": "6b81536a-5db5-4838-c6e5-eb5cb8f49e81"
      },
      "execution_count": null,
      "outputs": [
        {
          "output_type": "execute_result",
          "data": {
            "text/plain": [
              "'2.8.0+cu126'"
            ],
            "application/vnd.google.colaboratory.intrinsic+json": {
              "type": "string"
            }
          },
          "metadata": {},
          "execution_count": 2
        }
      ]
    },
    {
      "cell_type": "markdown",
      "source": [
        "##Connect To a GPU if available"
      ],
      "metadata": {
        "id": "OfJGkqRgF28o"
      }
    },
    {
      "cell_type": "code",
      "source": [
        "#Let's check if cuda is available and connect to it.\n",
        "#If it is not available, use cpu\n",
        "device = torch.device('cuda' if torch.cuda.is_available() else 'cpu')\n",
        "device"
      ],
      "metadata": {
        "colab": {
          "base_uri": "https://localhost:8080/"
        },
        "id": "kATyTVUZpBC2",
        "outputId": "e5ad50d0-8072-49f4-849b-9c9b32e94004"
      },
      "execution_count": 2,
      "outputs": [
        {
          "output_type": "execute_result",
          "data": {
            "text/plain": [
              "device(type='cuda')"
            ]
          },
          "metadata": {},
          "execution_count": 2
        }
      ]
    },
    {
      "cell_type": "markdown",
      "source": [
        "##Load the Semantic Boundaries Dataset\n"
      ],
      "metadata": {
        "id": "X2eTGSsJOdtE"
      }
    },
    {
      "cell_type": "markdown",
      "source": [
        "### Create a folder to store the Semantic Boundaries Dataset"
      ],
      "metadata": {
        "id": "PMsa5er5doKs"
      }
    },
    {
      "cell_type": "code",
      "source": [
        "#Let's import the necessary libraries for creating a folder in google drive\n",
        "from google.colab import drive\n",
        "import os\n",
        "\n",
        "#Let's mount Google Drive\n",
        "drive.mount('/content/drive')\n",
        "\n",
        "def determinedirectory(directory):\n",
        "  #Let's define folder path in Google Drive\n",
        "  location = directory.upper()\n",
        "  root ='/content/drive/MyDrive/sb_Dataset/'\n",
        "  sb_root = root + location\n",
        "  #Let's check if the folder exists, if not, let's create it\n",
        "  if not os.path.exists(sb_root):\n",
        "      os.makedirs(sb_root)\n",
        "      print(f\"Created new folder: {sb_root}\")\n",
        "  else:\n",
        "      print(f\"Folder already exists: {sb_root}\")\n",
        "  return sb_root\n"
      ],
      "metadata": {
        "colab": {
          "base_uri": "https://localhost:8080/"
        },
        "id": "1hG5Argrdmr1",
        "outputId": "d522e39b-3436-4886-d6da-88509b53c7d4"
      },
      "execution_count": null,
      "outputs": [
        {
          "output_type": "stream",
          "name": "stdout",
          "text": [
            "Drive already mounted at /content/drive; to attempt to forcibly remount, call drive.mount(\"/content/drive\", force_remount=True).\n"
          ]
        }
      ]
    },
    {
      "cell_type": "markdown",
      "source": [
        "##How to load the Semantic Boundaries Dataset\n",
        "\n",
        "Documentation code\n",
        "\n",
        "**class**\n",
        "\n",
        "**classtorchvision.datasets.SBDataset(root: Union[str, Path], image_set: str = 'train', mode: str = 'boundaries', download: bool = False, transforms: Optional[Callable] = None)[source]**\n"
      ],
      "metadata": {
        "id": "WdEdF9L5Orvz"
      }
    },
    {
      "cell_type": "code",
      "source": [
        "#Let's reshape the images\n",
        "transforms = v2.Compose([\n",
        "    v2.Resize((448,448)),\n",
        "    v2.ToDtype(torch.float32, scale=True),\n",
        "    ])"
      ],
      "metadata": {
        "id": "4HFih5GnlV2P"
      },
      "execution_count": null,
      "outputs": []
    },
    {
      "cell_type": "code",
      "source": [
        "from torchvision.datasets import SBDataset"
      ],
      "metadata": {
        "id": "Vq1Nq_dAtH2e"
      },
      "execution_count": null,
      "outputs": []
    },
    {
      "cell_type": "code",
      "source": [
        "TrainData = torchvision.datasets.SBDataset(\n",
        "    root = determinedirectory(\"train\"),\n",
        "    image_set = 'train_noval',\n",
        "    mode = 'boundaries',\n",
        "    download = True,\n",
        "    transforms = transforms,\n",
        "    )"
      ],
      "metadata": {
        "colab": {
          "base_uri": "https://localhost:8080/"
        },
        "id": "oLDZe2WTOqgu",
        "outputId": "6b704826-30ca-4055-9b19-ff19fc5e763d"
      },
      "execution_count": null,
      "outputs": [
        {
          "output_type": "stream",
          "name": "stdout",
          "text": [
            "Created new folder: /content/drive/MyDrive/sb_Dataset/TRAIN\n"
          ]
        },
        {
          "output_type": "stream",
          "name": "stderr",
          "text": [
            "100%|██████████| 1.42G/1.42G [00:43<00:00, 32.8MB/s]\n",
            "100%|██████████| 67.5k/67.5k [00:00<00:00, 1.52MB/s]\n"
          ]
        }
      ]
    },
    {
      "cell_type": "markdown",
      "source": [
        "##Neural Network Architecture\n"
      ],
      "metadata": {
        "id": "ZoJTVgTjpDHI"
      }
    },
    {
      "cell_type": "markdown",
      "source": [
        "###I am following the documentation on the MODULE class to build my neural network. All neural network model are to inherit from the nn.Module class.\n",
        "\n",
        "####Conv2d\n",
        "####class torch.nn.Conv2d(in_channels, out_channels, kernel_size, stride=1, padding=0, dilation=1, groups=1, bias=True, padding_mode='zeros', device=None, dtype=None)\n",
        "\n",
        "####class torch.nn.LeakyReLU(negative_slope=0.01, inplace=False)\n",
        "\n",
        "####MaxPool2d\n",
        "####class torch.nn.MaxPool2d(kernel_size, stride=None, padding=0, dilation=1, return_indices=False, ceil_mode=False)[source]\n",
        "\n",
        "####Linear\n",
        "####class torch.nn.Linear(in_features, out_features, bias=True, device=None, dtype=None)[source]\n",
        "\n",
        "####Dropout2d\n",
        "####class torch.nn.Dropout2d(p=0.5, inplace=False)[source]\n",
        "\n"
      ],
      "metadata": {
        "id": "l3MISm9aqDlR"
      }
    },
    {
      "cell_type": "code",
      "source": [
        "class YOLOv1(nn.Module):\n",
        "  def __init__(self):\n",
        "    super().__init__()\n",
        "    self.conv1 = nn.Conv2d(in_channels = 3,out_channels = 64, kernel_size = 7,stride = 2, padding = 3)\n",
        "    self.conv2 = nn.Conv2d(in_channels = 64,out_channels = 192, kernel_size = 3, stride = 1, padding = 1)\n",
        "    self.conv3 = nn.Conv2d(in_channels = 192,out_channels = 128, kernel_size = 1,stride = 1, padding = 0)\n",
        "    self.conv4 = nn.Conv2d(in_channels = 128,out_channels = 256, kernel_size = 3, stride = 1, padding = 1)\n",
        "    self.conv5 = nn.Conv2d(in_channels = 256, out_channels = 256, kernel_size = 1, stride = 1, padding = 0)\n",
        "    self.conv6 = nn.Conv2d(in_channels = 256, out_channels = 512, kernel_size = 3, stride = 1, padding = 1)\n",
        "    self.conv7 = nn.Conv2d(in_channels = 512, out_channels = 256, kernel_size = 1,stride = 1, padding = 0)\n",
        "    self.conv8 = nn.Conv2d(in_channels = 256,out_channels = 512, kernel_size = 3, stride = 1, padding = 1)\n",
        "    self.conv9 = nn.Conv2d(in_channels = 512,out_channels = 256, kernel_size = 1,stride = 1, padding = 0)\n",
        "    self.conv10 = nn.Conv2d(in_channels = 256,out_channels = 512, kernel_size = 3,stride = 1, padding =1)\n",
        "    self.conv11 = nn.Conv2d(in_channels = 512,out_channels = 256, kernel_size = 1,stride = 1, padding = 0)\n",
        "    self.conv12 = nn.Conv2d(in_channels = 256,out_channels = 512, kernel_size = 3,stride = 1, padding = 1)\n",
        "    self.conv13 = nn.Conv2d(in_channels = 512,out_channels = 256, kernel_size = 1,stride = 1, padding = 0)\n",
        "    self.conv14 = nn.Conv2d(in_channels = 256,out_channels = 512, kernel_size = 3,stride = 1, padding = 1)\n",
        "    self.conv15 = nn.Conv2d(in_channels = 512,out_channels = 512, kernel_size = 1,stride = 1, padding = 0)\n",
        "    self.conv16 = nn.Conv2d(in_channels = 512,out_channels = 1024, kernel_size = 3,stride = 1, padding = 1)\n",
        "    self.conv17 = nn.Conv2d(in_channels = 1024,out_channels = 512, kernel_size = 1,stride = 1, padding = 0)\n",
        "    self.conv18 = nn.Conv2d(in_channels = 512,out_channels = 1024, kernel_size = 3,stride = 1, padding = 1)\n",
        "    self.conv19 = nn.Conv2d(in_channels = 1024,out_channels = 512, kernel_size = 1,stride = 1, padding = 0)\n",
        "    self.conv20 = nn.Conv2d(in_channels = 512,out_channels = 1024, kernel_size = 3,stride = 1, padding = 1)\n",
        "    self.conv21 = nn.Conv2d(in_channels = 1024,out_channels = 1024, kernel_size = 3,stride = 1, padding = 1)\n",
        "    self.conv22 = nn.Conv2d(in_channels = 1024,out_channels = 1024, kernel_size = 3,stride = 2, padding = 1)\n",
        "    self.conv23 = nn.Conv2d(in_channels = 1024,out_channels = 1024, kernel_size = 3,stride = 1, padding = 1)\n",
        "    self.conv24 = nn.Conv2d(in_channels = 1024,out_channels = 1024, kernel_size = 3,stride = 1, padding = 1)\n",
        "\n",
        "    #Pooling and Activation\n",
        "    self.MaxPooling2d = nn.MaxPool2d(kernel_size = 2, stride = 2)\n",
        "    self.LeakyReLU = nn.LeakyReLU()\n",
        "\n",
        "    #Flattening and Fully Connected Layer\n",
        "    self.Flatten = nn.Flatten()\n",
        "    self.Linear = nn.Linear(in_features = 50176 , out_features = 4096)\n",
        "    self.Dropout = nn.Dropout2d()\n",
        "    self.Linear2 = nn.Linear(in_features =4096 , out_features = 1470)\n",
        "\n",
        "  def forward(self, x):\n",
        "    x = self.MaxPooling2d(self.LeakyReLU(self.conv1(x)))\n",
        "    print(\"Shape of conv1 layer:\", x.shape)\n",
        "    x = self.MaxPooling2d(self.LeakyReLU(self.conv2(x)))\n",
        "    print(\"Shape of conv2 layer:\", x.shape)\n",
        "    x = self.LeakyReLU(self.conv3(x))\n",
        "    print(\"Shape of conv3 layer:\", x.shape)\n",
        "    x = self.LeakyReLU(self.conv4(x))\n",
        "    print(\"Shape of conv4 layer:\", x.shape)\n",
        "    x = self.LeakyReLU(self.conv5(x))\n",
        "    print(\"Shape of conv5 layer:\", x.shape)\n",
        "    x = self.MaxPooling2d(self.LeakyReLU(self.conv6(x)))\n",
        "    print(\"Shape of conv6 layer:\", x.shape)\n",
        "    x = self.LeakyReLU(self.conv7(x))\n",
        "    print(\"Shape of conv7 layer:\", x.shape)\n",
        "    x = self.LeakyReLU(self.conv8(x))\n",
        "    print(\"Shape of conv8 layer:\", x.shape)\n",
        "    x = self.LeakyReLU(self.conv9(x))\n",
        "    print(\"Shape of conv9 layer:\", x.shape)\n",
        "    x = self.LeakyReLU(self.conv10(x))\n",
        "    print(\"Shape of conv10 layer:\", x.shape)\n",
        "    x = self.LeakyReLU(self.conv11(x))\n",
        "    print(\"Shape of 11 layer:\", x.shape)\n",
        "    x = self.LeakyReLU(self.conv12(x))\n",
        "    print(\"Shape of conv12 layer:\", x.shape)\n",
        "    x = self.LeakyReLU(self.conv13(x))\n",
        "    print(\"Shape of conv13 layer:\", x.shape)\n",
        "    x = self.LeakyReLU(self.conv14(x))\n",
        "    print(\"Shape of conv14 layer:\", x.shape)\n",
        "    x = self.LeakyReLU(self.conv15(x))\n",
        "    print(\"Shape of conv15 layer:\", x.shape)\n",
        "    x = self.MaxPooling2d(self.LeakyReLU(self.conv16(x)))\n",
        "    print(\"Shape of conv16 layer:\", x.shape)\n",
        "    x = self.LeakyReLU(self.conv17(x))\n",
        "    print(\"Shape of conv17 layer:\", x.shape)\n",
        "    x = self.LeakyReLU(self.conv18(x))\n",
        "    print(\"Shape of conv18 layer:\", x.shape)\n",
        "    x = self.LeakyReLU(self.conv19(x))\n",
        "    print(\"Shape of conv19 layer:\", x.shape)\n",
        "    x = self.LeakyReLU(self.conv20(x))\n",
        "    print(\"Shape of conv20 layer:\", x.shape)\n",
        "    x = self.LeakyReLU(self.conv21(x))\n",
        "    print(\"Shape of conv21 layer:\", x.shape)\n",
        "    x = self.LeakyReLU(self.conv22(x))\n",
        "    print(\"Shape of conv22 layer:\", x.shape)\n",
        "    x = self.LeakyReLU(self.conv23(x))\n",
        "    print(\"Shape of conv23 layer:\", x.shape)\n",
        "    x = self.LeakyReLU(self.conv24(x))\n",
        "    print(\"Shape before flatten:\", x.shape)\n",
        "    x = self.LeakyReLU(self.Linear(self.Flatten(x)))\n",
        "    x = self.Dropout(x)\n",
        "    x = self.Linear2(x)\n",
        "    return x\n",
        "\n"
      ],
      "metadata": {
        "id": "zjf2zbBvpME-"
      },
      "execution_count": 24,
      "outputs": []
    },
    {
      "cell_type": "code",
      "source": [
        "model = YOLOv1()\n",
        "model = model.to(device)"
      ],
      "metadata": {
        "id": "cwXfGwm1IVwv"
      },
      "execution_count": 25,
      "outputs": []
    },
    {
      "cell_type": "code",
      "source": [
        "dummy_input = torch.randn(1, 3, 448, 448).to(device)\n",
        "\n",
        "with torch.no_grad():\n",
        "    output = model(dummy_input)\n",
        "\n",
        "print(\"Output shape:\", output.shape)"
      ],
      "metadata": {
        "colab": {
          "base_uri": "https://localhost:8080/"
        },
        "id": "w2tvjBG5KNa5",
        "outputId": "9804b2ce-b36e-4719-8be8-f2b274f1cc33"
      },
      "execution_count": 26,
      "outputs": [
        {
          "output_type": "stream",
          "name": "stdout",
          "text": [
            "Shape of conv1 layer: torch.Size([1, 64, 112, 112])\n",
            "Shape of conv2 layer: torch.Size([1, 192, 56, 56])\n",
            "Shape of conv3 layer: torch.Size([1, 128, 56, 56])\n",
            "Shape of conv4 layer: torch.Size([1, 256, 56, 56])\n",
            "Shape of conv5 layer: torch.Size([1, 256, 56, 56])\n",
            "Shape of conv6 layer: torch.Size([1, 512, 28, 28])\n",
            "Shape of conv7 layer: torch.Size([1, 256, 28, 28])\n",
            "Shape of conv8 layer: torch.Size([1, 512, 28, 28])\n",
            "Shape of conv9 layer: torch.Size([1, 256, 28, 28])\n",
            "Shape of conv10 layer: torch.Size([1, 512, 28, 28])\n",
            "Shape of 11 layer: torch.Size([1, 256, 28, 28])\n",
            "Shape of conv12 layer: torch.Size([1, 512, 28, 28])\n",
            "Shape of conv13 layer: torch.Size([1, 256, 28, 28])\n",
            "Shape of conv14 layer: torch.Size([1, 512, 28, 28])\n",
            "Shape of conv15 layer: torch.Size([1, 512, 28, 28])\n",
            "Shape of conv16 layer: torch.Size([1, 1024, 14, 14])\n",
            "Shape of conv17 layer: torch.Size([1, 512, 14, 14])\n",
            "Shape of conv18 layer: torch.Size([1, 1024, 14, 14])\n",
            "Shape of conv19 layer: torch.Size([1, 512, 14, 14])\n",
            "Shape of conv20 layer: torch.Size([1, 1024, 14, 14])\n",
            "Shape of conv21 layer: torch.Size([1, 1024, 14, 14])\n",
            "Shape of conv22 layer: torch.Size([1, 1024, 7, 7])\n",
            "Shape of conv23 layer: torch.Size([1, 1024, 7, 7])\n",
            "Shape before flatten: torch.Size([1, 1024, 7, 7])\n",
            "Output shape: torch.Size([1, 1470])\n"
          ]
        },
        {
          "output_type": "stream",
          "name": "stderr",
          "text": [
            "/usr/local/lib/python3.12/dist-packages/torch/nn/functional.py:1535: UserWarning: dropout2d: Received a 2-D input to dropout2d, which is deprecated and will result in an error in a future release. To retain the behavior and silence this warning, please use dropout instead. Note that dropout2d exists to provide channel-wise dropout on inputs with 2 spatial dimensions, a channel dimension, and an optional batch dimension (i.e. 3D or 4D inputs).\n",
            "  warnings.warn(warn_msg)\n"
          ]
        }
      ]
    },
    {
      "cell_type": "code",
      "source": [
        "total_params = sum(p.numel() for p in model.parameters())\n",
        "trainable_params = sum(p.numel() for p in model.parameters() if p.requires_grad)\n",
        "\n",
        "print(f\"Total params: {total_params:,}\")\n",
        "print(f\"Trainable params: {trainable_params:,}\")"
      ],
      "metadata": {
        "id": "kAtjUMCyKkv4",
        "colab": {
          "base_uri": "https://localhost:8080/"
        },
        "outputId": "9044de76-20ca-40da-b523-b07534e80a2f"
      },
      "execution_count": 27,
      "outputs": [
        {
          "output_type": "stream",
          "name": "stdout",
          "text": [
            "Total params: 271,703,550\n",
            "Trainable params: 271,703,550\n"
          ]
        }
      ]
    }
  ]
}
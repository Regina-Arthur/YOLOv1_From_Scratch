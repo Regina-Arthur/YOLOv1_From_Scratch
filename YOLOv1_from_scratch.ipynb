{
  "nbformat": 4,
  "nbformat_minor": 0,
  "metadata": {
    "colab": {
      "provenance": [],
      "gpuType": "T4",
      "include_colab_link": true
    },
    "kernelspec": {
      "name": "python3",
      "display_name": "Python 3"
    },
    "language_info": {
      "name": "python"
    },
    "accelerator": "GPU"
  },
  "cells": [
    {
      "cell_type": "markdown",
      "metadata": {
        "id": "view-in-github",
        "colab_type": "text"
      },
      "source": [
        "<a href=\"https://colab.research.google.com/github/Regina-Arthur/YOLOv1_From_Scratch/blob/main/YOLOv1_from_scratch.ipynb\" target=\"_parent\"><img src=\"https://colab.research.google.com/assets/colab-badge.svg\" alt=\"Open In Colab\"/></a>"
      ]
    },
    {
      "cell_type": "markdown",
      "source": [
        "#Building a YOLOv1 model from scratch by Regina Arthur\n"
      ],
      "metadata": {
        "id": "E075aKobGM0_"
      }
    },
    {
      "cell_type": "markdown",
      "source": [
        "###This will be done without the convolutional layers being pretrained on imagenet"
      ],
      "metadata": {
        "id": "2C124Tg5bKL-"
      }
    },
    {
      "cell_type": "markdown",
      "source": [
        "##Import the necessary libraries\n"
      ],
      "metadata": {
        "id": "B97rFjkKGMf5"
      }
    },
    {
      "cell_type": "code",
      "execution_count": 1,
      "metadata": {
        "id": "ZcJyo6t5oNmj"
      },
      "outputs": [],
      "source": [
        "#Let's import the necessary libraries to build YOLOv1\n",
        "#with pytorch\n",
        "import torch\n",
        "import torch.nn as nn\n",
        "import torch.nn.functional as F\n",
        "import torchvision\n",
        "import torchvision.transforms.v2 as v2\n",
        "import matplotlib.pyplot as plt\n",
        "import numpy as np\n",
        "from torchvision.datasets import VOCDetection\n",
        "from torch.utils.data import Dataset, DataLoader\n",
        "from collections import Counter\n",
        "from tqdm import tqdm"
      ]
    },
    {
      "cell_type": "markdown",
      "source": [
        "##Connect To a GPU if available"
      ],
      "metadata": {
        "id": "OfJGkqRgF28o"
      }
    },
    {
      "cell_type": "code",
      "source": [
        "#Let's check if cuda is available and connect to it.\n",
        "#If it is not available, use cpu\n",
        "device = torch.device('cuda' if torch.cuda.is_available() else 'cpu')\n",
        "device"
      ],
      "metadata": {
        "colab": {
          "base_uri": "https://localhost:8080/"
        },
        "id": "kATyTVUZpBC2",
        "outputId": "964478e7-fda9-400c-ec9d-c1073b4a524b"
      },
      "execution_count": 2,
      "outputs": [
        {
          "output_type": "execute_result",
          "data": {
            "text/plain": [
              "device(type='cuda')"
            ]
          },
          "metadata": {},
          "execution_count": 2
        }
      ]
    },
    {
      "cell_type": "markdown",
      "source": [
        "##Load the Semantic Boundaries Dataset\n"
      ],
      "metadata": {
        "id": "X2eTGSsJOdtE"
      }
    },
    {
      "cell_type": "markdown",
      "source": [
        "### Create a folder to store the Semantic Boundaries Dataset"
      ],
      "metadata": {
        "id": "PMsa5er5doKs"
      }
    },
    {
      "cell_type": "code",
      "source": [
        "# #Let's import the necessary libraries for creating a folder in google drive\n",
        "# from google.colab import drive\n",
        "# import os\n",
        "\n",
        "# #Let's mount Google Drive\n",
        "# drive.mount('/content/drive')\n",
        "\n",
        "# def determinedirectory(directory):\n",
        "#   #Let's define folder path in Google Drive\n",
        "#   location = directory.upper()\n",
        "#   root ='/content/drive/MyDrive/_Dataset/'\n",
        "#   new_root = root + location\n",
        "#   #Let's check if the folder exists, if not, let's create it\n",
        "#   if not os.path.exists(new_root):\n",
        "#       os.makedirs(new_root)\n",
        "#       print(f\"Created new folder: {new_root}\")\n",
        "#   else:\n",
        "#       print(f\"Folder already exists: {new_root}\")\n",
        "#   return new_root\n"
      ],
      "metadata": {
        "colab": {
          "base_uri": "https://localhost:8080/"
        },
        "id": "1hG5Argrdmr1",
        "outputId": "4499c06b-f679-45a5-c280-b7ddfb01d761"
      },
      "execution_count": 1,
      "outputs": [
        {
          "output_type": "stream",
          "name": "stdout",
          "text": [
            "Mounted at /content/drive\n"
          ]
        }
      ]
    },
    {
      "cell_type": "code",
      "source": [
        "# ! pip install -q kaggle"
      ],
      "metadata": {
        "id": "pT3cYLdDn-NT"
      },
      "execution_count": 2,
      "outputs": []
    },
    {
      "cell_type": "code",
      "source": [
        "import os\n",
        "\n",
        "# !mkdir -p ~/.kaggle\n",
        "# !cp kaggle.json ~/.kaggle/\n",
        "# !chmod 600 ~/.kaggle/kaggle.json\n",
        "\n",
        "# !kaggle datasets download -d vijayabhaskar96/pascal-voc-2007-and-2012\n",
        "\n",
        "\n",
        "# output_dir = determinedirectory(\"PascalVOC2007_and_2012\")\n",
        "\n",
        "\n",
        "# !unzip \"pascal-voc-2007-and-2012.zip\" -d \"$output_dir\""
      ],
      "metadata": {
        "id": "FDAruwWIvDAH"
      },
      "execution_count": null,
      "outputs": []
    },
    {
      "cell_type": "markdown",
      "source": [
        "##Neural Network Architecture\n"
      ],
      "metadata": {
        "id": "ZoJTVgTjpDHI"
      }
    },
    {
      "cell_type": "markdown",
      "source": [
        "###I am following the documentation on the MODULE class to build my neural network. All neural network model are to inherit from the nn.Module class.\n",
        "\n",
        "####Conv2d\n",
        "####class torch.nn.Conv2d(in_channels, out_channels, kernel_size, stride=1, padding=0, dilation=1, groups=1, bias=True, padding_mode='zeros', device=None, dtype=None)\n",
        "\n",
        "####class torch.nn.LeakyReLU(negative_slope=0.01, inplace=False)\n",
        "\n",
        "####MaxPool2d\n",
        "####class torch.nn.MaxPool2d(kernel_size, stride=None, padding=0, dilation=1, return_indices=False, ceil_mode=False)[source]\n",
        "\n",
        "####Linear\n",
        "####class torch.nn.Linear(in_features, out_features, bias=True, device=None, dtype=None)[source]\n",
        "\n",
        "####Dropout2d\n",
        "####class torch.nn.Dropout2d(p=0.5, inplace=False)[source]\n",
        "\n"
      ],
      "metadata": {
        "id": "l3MISm9aqDlR"
      }
    },
    {
      "cell_type": "code",
      "source": [
        "class YOLOv1(nn.Module):\n",
        "  def __init__(self, S=7, B=2, C=20):\n",
        "    super().__init__()\n",
        "    self.conv1 = nn.Conv2d(in_channels = 3,out_channels = 64, kernel_size = 7,stride = 2, padding = 3)\n",
        "    self.conv2 = nn.Conv2d(in_channels = 64,out_channels = 192, kernel_size = 3, stride = 1, padding = 1)\n",
        "    self.conv3 = nn.Conv2d(in_channels = 192,out_channels = 128, kernel_size = 1,stride = 1, padding = 0)\n",
        "    self.conv4 = nn.Conv2d(in_channels = 128,out_channels = 256, kernel_size = 3, stride = 1, padding = 1)\n",
        "    self.conv5 = nn.Conv2d(in_channels = 256, out_channels = 256, kernel_size = 1, stride = 1, padding = 0)\n",
        "    self.conv6 = nn.Conv2d(in_channels = 256, out_channels = 512, kernel_size = 3, stride = 1, padding = 1)\n",
        "    self.conv7 = nn.Conv2d(in_channels = 512, out_channels = 256, kernel_size = 1,stride = 1, padding = 0)\n",
        "    self.conv8 = nn.Conv2d(in_channels = 256,out_channels = 512, kernel_size = 3, stride = 1, padding = 1)\n",
        "    self.conv9 = nn.Conv2d(in_channels = 512,out_channels = 256, kernel_size = 1,stride = 1, padding = 0)\n",
        "    self.conv10 = nn.Conv2d(in_channels = 256,out_channels = 512, kernel_size = 3,stride = 1, padding =1)\n",
        "    self.conv11 = nn.Conv2d(in_channels = 512,out_channels = 256, kernel_size = 1,stride = 1, padding = 0)\n",
        "    self.conv12 = nn.Conv2d(in_channels = 256,out_channels = 512, kernel_size = 3,stride = 1, padding = 1)\n",
        "    self.conv13 = nn.Conv2d(in_channels = 512,out_channels = 256, kernel_size = 1,stride = 1, padding = 0)\n",
        "    self.conv14 = nn.Conv2d(in_channels = 256,out_channels = 512, kernel_size = 3,stride = 1, padding = 1)\n",
        "    self.conv15 = nn.Conv2d(in_channels = 512,out_channels = 512, kernel_size = 1,stride = 1, padding = 0)\n",
        "    self.conv16 = nn.Conv2d(in_channels = 512,out_channels = 1024, kernel_size = 3,stride = 1, padding = 1)\n",
        "    self.conv17 = nn.Conv2d(in_channels = 1024,out_channels = 512, kernel_size = 1,stride = 1, padding = 0)\n",
        "    self.conv18 = nn.Conv2d(in_channels = 512,out_channels = 1024, kernel_size = 3,stride = 1, padding = 1)\n",
        "    self.conv19 = nn.Conv2d(in_channels = 1024,out_channels = 512, kernel_size = 1,stride = 1, padding = 0)\n",
        "    self.conv20 = nn.Conv2d(in_channels = 512,out_channels = 1024, kernel_size = 3,stride = 1, padding = 1)\n",
        "    self.conv21 = nn.Conv2d(in_channels = 1024,out_channels = 1024, kernel_size = 3,stride = 1, padding = 1)\n",
        "    self.conv22 = nn.Conv2d(in_channels = 1024,out_channels = 1024, kernel_size = 3,stride = 2, padding = 1)\n",
        "    self.conv23 = nn.Conv2d(in_channels = 1024,out_channels = 1024, kernel_size = 3,stride = 1, padding = 1)\n",
        "    self.conv24 = nn.Conv2d(in_channels = 1024,out_channels = 1024, kernel_size = 3,stride = 1, padding = 1)\n",
        "\n",
        "    #Pooling and Activation\n",
        "    self.MaxPooling2d = nn.MaxPool2d(kernel_size = 2, stride = 2)\n",
        "    self.LeakyReLU = nn.LeakyReLU(negative_slope = 0.1)\n",
        "\n",
        "    #Flattening and Fully Connected Layer\n",
        "    self.Flatten = nn.Flatten()\n",
        "    self.Linear = nn.Linear(in_features = 50176 , out_features = 4096)\n",
        "    self.Dropout = nn.Dropout2d(0.5)\n",
        "    self.Linear2 = nn.Linear(in_features =4096 , out_features = S * S * ( B * 5 + C))\n",
        "\n",
        "  def forward(self, x):\n",
        "    x = self.MaxPooling2d(self.LeakyReLU(self.conv1(x)))\n",
        "    x = self.MaxPooling2d(self.LeakyReLU(self.conv2(x)))\n",
        "    x = self.LeakyReLU(self.conv3(x))\n",
        "    x = self.LeakyReLU(self.conv4(x))\n",
        "    x = self.LeakyReLU(self.conv5(x))\n",
        "    x = self.MaxPooling2d(self.LeakyReLU(self.conv6(x)))\n",
        "    x = self.LeakyReLU(self.conv7(x))\n",
        "    x = self.LeakyReLU(self.conv8(x))\n",
        "    x = self.LeakyReLU(self.conv9(x))\n",
        "    x = self.LeakyReLU(self.conv10(x))\n",
        "    x = self.LeakyReLU(self.conv11(x))\n",
        "    x = self.LeakyReLU(self.conv12(x))\n",
        "    x = self.LeakyReLU(self.conv13(x))\n",
        "    x = self.LeakyReLU(self.conv14(x))\n",
        "    x = self.LeakyReLU(self.conv15(x))\n",
        "    x = self.MaxPooling2d(self.LeakyReLU(self.conv16(x)))\n",
        "    x = self.LeakyReLU(self.conv17(x))\n",
        "    x = self.LeakyReLU(self.conv18(x))\n",
        "    x = self.LeakyReLU(self.conv19(x))\n",
        "    x = self.LeakyReLU(self.conv20(x))\n",
        "    x = self.LeakyReLU(self.conv21(x))\n",
        "    x = self.LeakyReLU(self.conv22(x))\n",
        "    x = self.LeakyReLU(self.conv23(x))\n",
        "    x = self.LeakyReLU(self.conv24(x))\n",
        "    x = self.LeakyReLU(self.Linear(self.Flatten(x)))\n",
        "    x = self.Dropout(x)\n",
        "    x = self.Linear2(x)\n",
        "    return x\n",
        "\n"
      ],
      "metadata": {
        "id": "zjf2zbBvpME-"
      },
      "execution_count": 3,
      "outputs": []
    },
    {
      "cell_type": "markdown",
      "source": [
        "## Architecture Test\n",
        "This just makes sure the architecture works as intended\n"
      ],
      "metadata": {
        "id": "PBdPPz0vH-th"
      }
    },
    {
      "cell_type": "code",
      "source": [
        "# model = YOLOv1()\n",
        "# model = model.to(device)"
      ],
      "metadata": {
        "id": "cwXfGwm1IVwv"
      },
      "execution_count": null,
      "outputs": []
    },
    {
      "cell_type": "code",
      "source": [
        "# dummy_input = torch.randn(1, 3, 448, 448).to(device)\n",
        "\n",
        "# with torch.no_grad():\n",
        "#     output = model(dummy_input)\n",
        "\n",
        "# print(\"Output shape:\", output.shape)"
      ],
      "metadata": {
        "colab": {
          "base_uri": "https://localhost:8080/"
        },
        "id": "w2tvjBG5KNa5",
        "outputId": "f99f3132-f9f6-4ce8-dfc0-398b45d9c2df"
      },
      "execution_count": null,
      "outputs": [
        {
          "output_type": "stream",
          "name": "stdout",
          "text": [
            "Output shape: torch.Size([1, 1470])\n"
          ]
        },
        {
          "output_type": "stream",
          "name": "stderr",
          "text": [
            "/usr/local/lib/python3.12/dist-packages/torch/nn/functional.py:1535: UserWarning: dropout2d: Received a 2-D input to dropout2d, which is deprecated and will result in an error in a future release. To retain the behavior and silence this warning, please use dropout instead. Note that dropout2d exists to provide channel-wise dropout on inputs with 2 spatial dimensions, a channel dimension, and an optional batch dimension (i.e. 3D or 4D inputs).\n",
            "  warnings.warn(warn_msg)\n"
          ]
        }
      ]
    },
    {
      "cell_type": "code",
      "source": [
        "# total_params = sum(p.numel() for p in model.parameters())\n",
        "# trainable_params = sum(p.numel() for p in model.parameters() if p.requires_grad)\n",
        "\n",
        "# print(f\"Total params: {total_params:,}\")\n",
        "# print(f\"Trainable params: {trainable_params:,}\")"
      ],
      "metadata": {
        "id": "kAtjUMCyKkv4",
        "colab": {
          "base_uri": "https://localhost:8080/"
        },
        "outputId": "c2a5f213-8ae2-4df9-cd61-4fe3ef2925ef"
      },
      "execution_count": null,
      "outputs": [
        {
          "output_type": "stream",
          "name": "stdout",
          "text": [
            "Total params: 271,703,550\n",
            "Trainable params: 271,703,550\n"
          ]
        }
      ]
    },
    {
      "cell_type": "markdown",
      "source": [
        "##Model loss\n",
        "![image.png](data:image/png;base64,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)"
      ],
      "metadata": {
        "id": "SQc3O55KwD3Z"
      }
    },
    {
      "cell_type": "code",
      "source": [
        "def intersection_over_union(boxes_preds, boxes_labels, box_format=\"midpoint\"):\n",
        "  if box_format == \"midpoint\":\n",
        "    box1_x1 = boxes_preds[..., 0:1] - boxes_preds[..., 2:3] / 2\n",
        "    box1_y1 = boxes_preds[..., 1:2] - boxes_preds[..., 3:4] / 2\n",
        "    box1_x2 = boxes_preds[..., 0:1] + boxes_preds[..., 2:3] / 2\n",
        "    box1_y2 = boxes_preds[..., 1:2] + boxes_preds[..., 3:4] / 2\n",
        "    box2_x1 = boxes_labels[..., 0:1] - boxes_labels[..., 2:3] / 2\n",
        "    box2_y1 = boxes_labels[..., 1:2] - boxes_labels[..., 3:4] / 2\n",
        "    box2_x2 = boxes_labels[..., 0:1] + boxes_labels[..., 2:3] / 2\n",
        "    box2_y2 = boxes_labels[..., 1:2] + boxes_labels[..., 3:4] / 2\n",
        "\n",
        "\n",
        "  if box_format == \"corners\":\n",
        "    box1_x1 = boxes_preds[..., 0:1]\n",
        "    box1_y1 = boxes_preds[..., 1:2]\n",
        "    box1_x2 = boxes_preds[..., 2:3]\n",
        "    box1_y2 = boxes_preds[..., 3:4]\n",
        "    box2_x1 = boxes_preds[..., 0:1]\n",
        "    box2_y1 = boxes_preds[..., 1:2]\n",
        "    box2_x2 = boxes_preds[..., 2:3]\n",
        "    box2_y2 = boxes_preds[..., 3:4]\n",
        "\n",
        "  x1 = torch.max(box1_x1, box2_x1)\n",
        "  y1 = torch.max(box1_y1, box2_y1)\n",
        "  x2 = torch.min(box1_x2, box2_x2)\n",
        "  y2 = torch.min(box1_y2, box2_y2)\n",
        "\n",
        "  intersection = (x2 - x1).clamp(0) * (y2 - y1).clamp(0)\n",
        "\n",
        "  box1_area = abs((box1_x2 - box1_x1) * (box1_y2 - box1_y1))\n",
        "  box2_area = abs((box2_x2 - box2_x1) * (box2_y2 - box2_y1))\n",
        "\n",
        "  return intersection / (box1_area + box2_area - intersection + 1e-6)"
      ],
      "metadata": {
        "id": "Dk1tcRFyxPzB"
      },
      "execution_count": null,
      "outputs": []
    },
    {
      "cell_type": "code",
      "source": [
        "def nms(bboxes, iou_threshold, threshold, box_format=\"corners\"):\n",
        "  assert type(bboxes) == list\n",
        "\n",
        "  bboxes = [box for box in bboxes if box[1] > threshold]\n",
        "  bboxes = sorted(bboxes, key=lambda x: x[1], reverse=True)\n",
        "  bboxes_after_nms = []\n",
        "\n",
        "  while bboxes:\n",
        "      chosen_box = bboxes.pop(0)\n",
        "\n",
        "      bboxes = [\n",
        "          box\n",
        "          for box in bboxes\n",
        "          if box[0] != chosen_box[0]\n",
        "          or intersection_over_union(\n",
        "              torch.tensor(chosen_box[2:]),\n",
        "              torch.tensor(box[2:]),\n",
        "              box_format=box_format,\n",
        "          )\n",
        "          < iou_threshold\n",
        "      ]\n",
        "\n",
        "      bboxes_after_nms.append(chosen_box)\n",
        "\n",
        "  return bboxes_after_nms"
      ],
      "metadata": {
        "id": "bMjpBGRl2mG4"
      },
      "execution_count": null,
      "outputs": []
    },
    {
      "cell_type": "code",
      "source": [
        "def mean_average_precision(pred_boxes, true_boxes,\n",
        "                           iou_threshold=0.5,\n",
        "                           box_format=\"midpoint\",\n",
        "                           num_classes=20\n",
        "                           ):\n",
        "  # list storing all AP for respective classes\n",
        "  average_precisions = []\n",
        "\n",
        "  # used for numerical stability later on\n",
        "  epsilon = 1e-6\n",
        "\n",
        "  for c in range(num_classes):\n",
        "      detections = []\n",
        "      ground_truths = []\n",
        "\n",
        "      # Go through all predictions and targets,\n",
        "      # and only add the ones that belong to the\n",
        "      # current class c\n",
        "      for detection in pred_boxes:\n",
        "          if detection[1] == c:\n",
        "              detections.append(detection)\n",
        "\n",
        "      for true_box in true_boxes:\n",
        "          if true_box[1] == c:\n",
        "              ground_truths.append(true_box)\n",
        "\n",
        "      # find the amount of bboxes for each training example\n",
        "      # Counter here finds how many ground truth bboxes we get\n",
        "      # for each training example, so let's say img 0 has 3,\n",
        "      # img 1 has 5 then we will obtain a dictionary with:\n",
        "      # amount_bboxes = {0:3, 1:5}\n",
        "      amount_bboxes = Counter([gt[0] for gt in ground_truths])\n",
        "\n",
        "      # We then go through each key, val in this dictionary\n",
        "      # and convert to the following (w.r.t same example):\n",
        "      # ammount_bboxes = {0:torch.tensor[0,0,0], 1:torch.tensor[0,0,0,0,0]}\n",
        "      for key, val in amount_bboxes.items():\n",
        "          amount_bboxes[key] = torch.zeros(val)\n",
        "\n",
        "      # sort by box probabilities which is index 2\n",
        "      detections.sort(key=lambda x: x[2], reverse=True)\n",
        "      TP = torch.zeros((len(detections)))\n",
        "      FP = torch.zeros((len(detections)))\n",
        "      total_true_bboxes = len(ground_truths)\n",
        "\n",
        "      # If none exists for this class then we can safely skip\n",
        "      if total_true_bboxes == 0:\n",
        "          continue\n",
        "\n",
        "      for detection_idx, detection in enumerate(detections):\n",
        "          # Only take out the ground_truths that have the same\n",
        "          # training idx as detection\n",
        "          ground_truth_img = [\n",
        "              bbox for bbox in ground_truths if bbox[0] == detection[0]\n",
        "          ]\n",
        "\n",
        "          num_gts = len(ground_truth_img)\n",
        "          best_iou = 0\n",
        "\n",
        "          for idx, gt in enumerate(ground_truth_img):\n",
        "              iou = intersection_over_union(\n",
        "                  torch.tensor(detection[3:]),\n",
        "                  torch.tensor(gt[3:]),\n",
        "                  box_format=box_format,\n",
        "              )\n",
        "\n",
        "              if iou > best_iou:\n",
        "                  best_iou = iou\n",
        "                  best_gt_idx = idx\n",
        "\n",
        "          if best_iou > iou_threshold:\n",
        "              # only detect ground truth detection once\n",
        "              if amount_bboxes[detection[0]][best_gt_idx] == 0:\n",
        "                  # true positive and add this bounding box to seen\n",
        "                  TP[detection_idx] = 1\n",
        "                  amount_bboxes[detection[0]][best_gt_idx] = 1\n",
        "              else:\n",
        "                  FP[detection_idx] = 1\n",
        "\n",
        "          # if IOU is lower then the detection is a false positive\n",
        "          else:\n",
        "              FP[detection_idx] = 1\n",
        "\n",
        "      TP_cumsum = torch.cumsum(TP, dim=0)\n",
        "      FP_cumsum = torch.cumsum(FP, dim=0)\n",
        "      recalls = TP_cumsum / (total_true_bboxes + epsilon)\n",
        "      precisions = TP_cumsum / (TP_cumsum + FP_cumsum + epsilon)\n",
        "      precisions = torch.cat((torch.tensor([1]), precisions))\n",
        "      recalls = torch.cat((torch.tensor([0]), recalls))\n",
        "      # torch.trapz for numerical integration\n",
        "      average_precisions.append(torch.trapz(precisions, recalls))\n",
        "\n",
        "  return sum(average_precisions) / len(average_precisions)\n"
      ],
      "metadata": {
        "id": "wLvVEz2s3GKS"
      },
      "execution_count": null,
      "outputs": []
    },
    {
      "cell_type": "code",
      "source": [
        "class YOLOv1Loss(nn.Module):\n",
        "  def __init__(self, S=7, B=2, C=20, λ_coord=5, λ_noobj=0.5):\n",
        "    super().__init__()\n",
        "        self.S = S\n",
        "        self.B = B\n",
        "        self.C = C\n",
        "        self.lambda_coord = λ_coord\n",
        "        self.lambda_noobj = λ_noobj\n",
        "\n",
        "  def forward(self, predictions, target):\n",
        "    # predictions are shaped (BATCH_SIZE, S*S(C+B*5) when inputted\n",
        "    predictions = predictions.reshape(-1, self.S, self.S, self.C + self.B * 5)\n",
        "\n",
        "    # Calculate IoU for the two predicted bounding boxes with target bbox\n",
        "    iou_b1 = intersection_over_union(predictions[..., 21:25], target[..., 21:25])\n",
        "    iou_b2 = intersection_over_union(predictions[..., 26:30], target[..., 21:25])\n",
        "    ious = torch.cat([iou_b1.unsqueeze(0), iou_b2.unsqueeze(0)], dim=0)\n",
        "\n",
        "    # Take the box with highest IoU out of the two prediction\n",
        "    # Note that bestbox will be indices of 0, 1 for which bbox was best\n",
        "    iou_maxes, bestbox = torch.max(ious, dim=0)\n",
        "    exists_box = target[..., 20].unsqueeze(3)  # in paper this is Iobj_i\n",
        "\n",
        "    # ======================== #\n",
        "    #   FOR BOX COORDINATES    #\n",
        "    # ======================== #\n",
        "\n",
        "    # Set boxes with no object in them to 0. We only take out one of the two\n",
        "    # predictions, which is the one with highest Iou calculated previously.\n",
        "    box_predictions = exists_box * (\n",
        "        (\n",
        "            bestbox * predictions[..., 26:30]\n",
        "            + (1 - bestbox) * predictions[..., 21:25]\n",
        "        )\n",
        "    )\n",
        "\n",
        "    box_targets = exists_box * target[..., 21:25]\n",
        "\n",
        "    # Take sqrt of width, height of boxes to ensure that\n",
        "    box_predictions[..., 2:4] = torch.sign(box_predictions[..., 2:4]) * torch.sqrt(\n",
        "        torch.abs(box_predictions[..., 2:4] + 1e-6)\n",
        "    )\n",
        "    box_targets[..., 2:4] = torch.sqrt(box_targets[..., 2:4])\n",
        "\n",
        "    box_loss = self.mse(\n",
        "        torch.flatten(box_predictions, end_dim=-2),\n",
        "        torch.flatten(box_targets, end_dim=-2),\n",
        "    )\n",
        "\n",
        "    # ==================== #\n",
        "    #   FOR OBJECT LOSS    #\n",
        "    # ==================== #\n",
        "\n",
        "    # pred_box is the confidence score for the bbox with highest IoU\n",
        "    pred_box = (\n",
        "        bestbox * predictions[..., 25:26] + (1 - bestbox) * predictions[..., 20:21]\n",
        "    )\n",
        "\n",
        "    object_loss = self.mse(\n",
        "        torch.flatten(exists_box * pred_box),\n",
        "        torch.flatten(exists_box * target[..., 20:21]),\n",
        "    )\n",
        "\n",
        "    # ======================= #\n",
        "    #   FOR NO OBJECT LOSS    #\n",
        "    # ======================= #\n",
        "\n",
        "    #max_no_obj = torch.max(predictions[..., 20:21], predictions[..., 25:26])\n",
        "    #no_object_loss = self.mse(\n",
        "    #    torch.flatten((1 - exists_box) * max_no_obj, start_dim=1),\n",
        "    #    torch.flatten((1 - exists_box) * target[..., 20:21], start_dim=1),\n",
        "    #)\n",
        "\n",
        "    no_object_loss = self.mse(\n",
        "        torch.flatten((1 - exists_box) * predictions[..., 20:21], start_dim=1),\n",
        "        torch.flatten((1 - exists_box) * target[..., 20:21], start_dim=1),\n",
        "    )\n",
        "\n",
        "    no_object_loss += self.mse(\n",
        "        torch.flatten((1 - exists_box) * predictions[..., 25:26], start_dim=1),\n",
        "        torch.flatten((1 - exists_box) * target[..., 20:21], start_dim=1)\n",
        "    )\n",
        "\n",
        "    # ================== #\n",
        "    #   FOR CLASS LOSS   #\n",
        "    # ================== #\n",
        "\n",
        "    class_loss = self.mse(\n",
        "        torch.flatten(exists_box * predictions[..., :20], end_dim=-2,),\n",
        "        torch.flatten(exists_box * target[..., :20], end_dim=-2,),\n",
        "    )\n",
        "\n",
        "    loss = (\n",
        "        self.lambda_coord * box_loss  # first two rows in paper\n",
        "        + object_loss  # third row in paper\n",
        "        + self.lambda_noobj * no_object_loss  # forth row\n",
        "        + class_loss  # fifth row\n",
        "    )\n",
        "\n",
        "    return loss\n"
      ],
      "metadata": {
        "id": "UvbjN5aqQkFs"
      },
      "execution_count": null,
      "outputs": []
    },
    {
      "cell_type": "markdown",
      "source": [
        "##Load the Pascal Visual Object Class Dataset"
      ],
      "metadata": {
        "id": "WdEdF9L5Orvz"
      }
    },
    {
      "cell_type": "code",
      "source": [
        "torch.manual_seed(0)\n",
        "model = YOLOv1()\n",
        "model = model.to(device)"
      ],
      "metadata": {
        "id": "RJdBbpI3Wf09"
      },
      "execution_count": 4,
      "outputs": []
    },
    {
      "cell_type": "code",
      "source": [
        "from google.colab import drive\n",
        "drive.mount('/content/drive')"
      ],
      "metadata": {
        "colab": {
          "base_uri": "https://localhost:8080/"
        },
        "id": "RLlkieRy_KEg",
        "outputId": "43b44a56-02f3-4a14-b14a-a4022272d334"
      },
      "execution_count": 5,
      "outputs": [
        {
          "output_type": "stream",
          "name": "stdout",
          "text": [
            "Mounted at /content/drive\n"
          ]
        }
      ]
    },
    {
      "cell_type": "markdown",
      "source": [],
      "metadata": {
        "id": "5b8KcKehZQzf"
      }
    },
    {
      "cell_type": "code",
      "source": [
        "#Let's reshape the images\n",
        "transforms = v2.Compose([\n",
        "    v2.ColorJitter(brightness=1.5, contrast=1.5, saturation=1.5),\n",
        "    v2.RandomHorizontalFlip(p=0.2),\n",
        "    v2.RandomVerticalFlip(p=0.2),\n",
        "    v2.Resize((448,448)),\n",
        "    v2.ToDtype(torch.float32, scale=True),\n",
        "    ])\n",
        "\n",
        "TrainData = torchvision.datasets.VOCDetection(\n",
        "    root = '/content/drive/MyDrive/_Dataset/PASCALVOC2007_AND_2012',\n",
        "    year = '2007',\n",
        "    image_set = 'train',\n",
        "    download = False,\n",
        "    transform = transforms,\n",
        "    )\n",
        "\n",
        "\n",
        "Traindataloader = DataLoader(TrainData,\n",
        "                             batch_size=16,\n",
        "                             shuffle=True,\n",
        "                             num_workers=2,\n",
        "                             )"
      ],
      "metadata": {
        "id": "4HFih5GnlV2P"
      },
      "execution_count": 14,
      "outputs": []
    },
    {
      "cell_type": "markdown",
      "source": [
        "###AdamW\n",
        "class torch.optim.AdamW(params, lr=0.001, betas=(0.9, 0.999), eps=1e-08, weight_decay=0.01, amsgrad=False, *, maximize=False, foreach=None, capturable=False, differentiable=False, fused=None)\n"
      ],
      "metadata": {
        "id": "fsgKHPV3VGV7"
      }
    },
    {
      "cell_type": "code",
      "source": [
        "def learning_rate(epoch, epochs):\n",
        "  first_stop = 0.6 * epochs\n",
        "  second_stop = 0.8 * epochs\n",
        "  if epoch <= first_stop:\n",
        "    return 0.1\n",
        "  elif epoch <= second_stop:\n",
        "    return 0.01\n",
        "  else:\n",
        "    return 0.001\n",
        "\n",
        "\n",
        "optimizer = torch.optim.AdamW(model.parameters(),\n",
        "                              lr= 0.1,\n",
        "                              betas=(0.9,0.99),\n",
        "                              weight_decay= 0.0005,\n",
        "                              )\n",
        "num_epochs = 10"
      ],
      "metadata": {
        "id": "vPCDKZ1PVCtD"
      },
      "execution_count": 15,
      "outputs": []
    },
    {
      "cell_type": "code",
      "source": [
        "\"\"\"\n",
        "Main file for training Yolo model on Pascal VOC dataset\n",
        "\n",
        "\"\"\"\n",
        "\n",
        "import torch\n",
        "import torchvision.transforms as transforms\n",
        "import torch.optim as optim\n",
        "import torchvision.transforms.functional as FT\n",
        "from tqdm import tqdm\n",
        "from torch.utils.data import DataLoader\n",
        "from model import Yolov1\n",
        "from dataset import VOCDataset\n",
        "from utils import (\n",
        "    non_max_suppression,\n",
        "    mean_average_precision,\n",
        "    intersection_over_union,\n",
        "    cellboxes_to_boxes,\n",
        "    get_bboxes,\n",
        "    plot_image,\n",
        "    save_checkpoint,\n",
        "    load_checkpoint,\n",
        ")\n",
        "from loss import YoloLoss\n",
        "\n",
        "seed = 123\n",
        "torch.manual_seed(seed)\n",
        "\n",
        "# Hyperparameters etc.\n",
        "LEARNING_RATE = 2e-5\n",
        "DEVICE = \"cuda\" if torch.cuda.is_available else \"cpu\"\n",
        "BATCH_SIZE = 16 # 64 in original paper but I don't have that much vram, grad accum?\n",
        "WEIGHT_DECAY = 0\n",
        "EPOCHS = 1000\n",
        "NUM_WORKERS = 2\n",
        "PIN_MEMORY = True\n",
        "LOAD_MODEL = False\n",
        "LOAD_MODEL_FILE = \"overfit.pth.tar\"\n",
        "IMG_DIR = \"data/images\"\n",
        "LABEL_DIR = \"data/labels\"\n",
        "\n",
        "\n",
        "\n",
        "\n",
        "\n",
        "def train(train_loader, model, optimizer, loss_fn):\n",
        "    loop = tqdm(train_loader, leave=True)\n",
        "    mean_loss = []\n",
        "\n",
        "    for batch_idx, (x, y) in enumerate(loop):\n",
        "        x, y = x.to(DEVICE), y.to(DEVICE)\n",
        "        out = model(x)\n",
        "        loss = loss_fn(out, y)\n",
        "        mean_loss.append(loss.item())\n",
        "        optimizer.zero_grad()\n",
        "        loss.backward()\n",
        "        optimizer.step()\n",
        "\n",
        "        # update progress bar\n",
        "        loop.set_postfix(loss=loss.item())\n",
        "\n",
        "    print(f\"Mean loss was {sum(mean_loss)/len(mean_loss)}\")\n",
        "\n",
        "\n",
        "def main():\n",
        "    model = Yolov1().to(device)\n",
        "    optimizer = optimizer\n",
        "    loss = YOLOv1Loss()\n",
        "\n",
        "    if LOAD_MODEL:\n",
        "        load_checkpoint(torch.load(LOAD_MODEL_FILE), model, optimizer)\n",
        "\n",
        "    train_dataset = VOCDataset(\n",
        "        \"data/100examples.csv\",\n",
        "        transform=transform,\n",
        "        img_dir=IMG_DIR,\n",
        "        label_dir=LABEL_DIR,\n",
        "    )\n",
        "\n",
        "    test_dataset = VOCDataset(\n",
        "        \"data/test.csv\", transform=transform, img_dir=IMG_DIR, label_dir=LABEL_DIR,\n",
        "    )\n",
        "\n",
        "    train_loader = DataLoader(\n",
        "        dataset=train_dataset,\n",
        "        batch_size=BATCH_SIZE,\n",
        "        num_workers=NUM_WORKERS,\n",
        "        pin_memory=PIN_MEMORY,\n",
        "        shuffle=True,\n",
        "        drop_last=True,\n",
        "    )\n",
        "\n",
        "    test_loader = DataLoader(\n",
        "        dataset=test_dataset,\n",
        "        batch_size=BATCH_SIZE,\n",
        "        num_workers=NUM_WORKERS,\n",
        "        pin_memory=PIN_MEMORY,\n",
        "        shuffle=True,\n",
        "        drop_last=True,\n",
        "    )\n",
        "\n",
        "    for epoch in range(EPOCHS):\n",
        "        # for x, y in train_loader:\n",
        "        #    x = x.to(DEVICE)\n",
        "        #    for idx in range(8):\n",
        "        #        bboxes = cellboxes_to_boxes(model(x))\n",
        "        #        bboxes = non_max_suppression(bboxes[idx], iou_threshold=0.5, threshold=0.4, box_format=\"midpoint\")\n",
        "        #        plot_image(x[idx].permute(1,2,0).to(\"cpu\"), bboxes)\n",
        "\n",
        "        #    import sys\n",
        "        #    sys.exit()\n",
        "\n",
        "        pred_boxes, target_boxes = get_bboxes(\n",
        "            train_loader, model, iou_threshold=0.5, threshold=0.4\n",
        "        )\n",
        "\n",
        "        mean_avg_prec = mean_average_precision(\n",
        "            pred_boxes, target_boxes, iou_threshold=0.5, box_format=\"midpoint\"\n",
        "        )\n",
        "        print(f\"Train mAP: {mean_avg_prec}\")\n",
        "\n",
        "        #if mean_avg_prec > 0.9:\n",
        "        #    checkpoint = {\n",
        "        #        \"state_dict\": model.state_dict(),\n",
        "        #        \"optimizer\": optimizer.state_dict(),\n",
        "        #    }\n",
        "        #    save_checkpoint(checkpoint, filename=LOAD_MODEL_FILE)\n",
        "        #    import time\n",
        "        #    time.sleep(10)\n",
        "\n",
        "        train(Traindataloader, model, optimizer, loss)\n",
        "\n",
        "\n",
        "if __name__ == \"__main__\":\n",
        "    main()"
      ],
      "metadata": {
        "id": "TKktMooQ6PVM"
      },
      "execution_count": null,
      "outputs": []
    },
    {
      "cell_type": "code",
      "source": [
        "for epoch in range(num_epochs):\n",
        "    model.train()\n",
        "    optimizer.param_groups[0]['lr'] = learning_rate(epoch, num_epochs)\n",
        "    for images, targets in Traindataloader:\n",
        "        images, targets = images.to(device), targets.to(device)\n",
        "\n",
        "        optimizer.zero_grad()\n",
        "        outputs = model(images)\n",
        "        loss = loss(outputs, targets)\n",
        "        loss.backward()\n",
        "        optimizer.step()"
      ],
      "metadata": {
        "id": "BNJjDJPpt9MN",
        "colab": {
          "base_uri": "https://localhost:8080/",
          "height": 446
        },
        "outputId": "d0eb371e-415f-4b7d-f1b3-a67ae2696b0b"
      },
      "execution_count": 19,
      "outputs": [
        {
          "output_type": "stream",
          "name": "stderr",
          "text": [
            "/usr/local/lib/python3.12/dist-packages/torch/nn/functional.py:1535: UserWarning: dropout2d: Received a 2-D input to dropout2d, which is deprecated and will result in an error in a future release. To retain the behavior and silence this warning, please use dropout instead. Note that dropout2d exists to provide channel-wise dropout on inputs with 2 spatial dimensions, a channel dimension, and an optional batch dimension (i.e. 3D or 4D inputs).\n",
            "  warnings.warn(warn_msg)\n",
            "/usr/local/lib/python3.12/dist-packages/torch/nn/modules/loss.py:616: UserWarning: Using a target size (torch.Size([4, 5])) that is different to the input size (torch.Size([4, 1470])). This will likely lead to incorrect results due to broadcasting. Please ensure they have the same size.\n",
            "  return F.mse_loss(input, target, reduction=self.reduction)\n"
          ]
        },
        {
          "output_type": "error",
          "ename": "RuntimeError",
          "evalue": "The size of tensor a (1470) must match the size of tensor b (5) at non-singleton dimension 1",
          "traceback": [
            "\u001b[0;31m---------------------------------------------------------------------------\u001b[0m",
            "\u001b[0;31mRuntimeError\u001b[0m                              Traceback (most recent call last)",
            "\u001b[0;32m/tmp/ipython-input-3324749312.py\u001b[0m in \u001b[0;36m<cell line: 0>\u001b[0;34m()\u001b[0m\n\u001b[1;32m      7\u001b[0m         \u001b[0moptimizer\u001b[0m\u001b[0;34m.\u001b[0m\u001b[0mzero_grad\u001b[0m\u001b[0;34m(\u001b[0m\u001b[0;34m)\u001b[0m\u001b[0;34m\u001b[0m\u001b[0;34m\u001b[0m\u001b[0m\n\u001b[1;32m      8\u001b[0m         \u001b[0moutputs\u001b[0m \u001b[0;34m=\u001b[0m \u001b[0mmodel\u001b[0m\u001b[0;34m(\u001b[0m\u001b[0mimages\u001b[0m\u001b[0;34m)\u001b[0m\u001b[0;34m\u001b[0m\u001b[0;34m\u001b[0m\u001b[0m\n\u001b[0;32m----> 9\u001b[0;31m         \u001b[0mloss\u001b[0m \u001b[0;34m=\u001b[0m \u001b[0mloss\u001b[0m\u001b[0;34m(\u001b[0m\u001b[0moutputs\u001b[0m\u001b[0;34m,\u001b[0m \u001b[0mtargets\u001b[0m\u001b[0;34m)\u001b[0m\u001b[0;34m\u001b[0m\u001b[0;34m\u001b[0m\u001b[0m\n\u001b[0m\u001b[1;32m     10\u001b[0m         \u001b[0mloss\u001b[0m\u001b[0;34m.\u001b[0m\u001b[0mbackward\u001b[0m\u001b[0;34m(\u001b[0m\u001b[0;34m)\u001b[0m\u001b[0;34m\u001b[0m\u001b[0;34m\u001b[0m\u001b[0m\n\u001b[1;32m     11\u001b[0m         \u001b[0moptimizer\u001b[0m\u001b[0;34m.\u001b[0m\u001b[0mstep\u001b[0m\u001b[0;34m(\u001b[0m\u001b[0;34m)\u001b[0m\u001b[0;34m\u001b[0m\u001b[0;34m\u001b[0m\u001b[0m\n",
            "\u001b[0;32m/usr/local/lib/python3.12/dist-packages/torch/nn/modules/module.py\u001b[0m in \u001b[0;36m_wrapped_call_impl\u001b[0;34m(self, *args, **kwargs)\u001b[0m\n\u001b[1;32m   1771\u001b[0m             \u001b[0;32mreturn\u001b[0m \u001b[0mself\u001b[0m\u001b[0;34m.\u001b[0m\u001b[0m_compiled_call_impl\u001b[0m\u001b[0;34m(\u001b[0m\u001b[0;34m*\u001b[0m\u001b[0margs\u001b[0m\u001b[0;34m,\u001b[0m \u001b[0;34m**\u001b[0m\u001b[0mkwargs\u001b[0m\u001b[0;34m)\u001b[0m  \u001b[0;31m# type: ignore[misc]\u001b[0m\u001b[0;34m\u001b[0m\u001b[0;34m\u001b[0m\u001b[0m\n\u001b[1;32m   1772\u001b[0m         \u001b[0;32melse\u001b[0m\u001b[0;34m:\u001b[0m\u001b[0;34m\u001b[0m\u001b[0;34m\u001b[0m\u001b[0m\n\u001b[0;32m-> 1773\u001b[0;31m             \u001b[0;32mreturn\u001b[0m \u001b[0mself\u001b[0m\u001b[0;34m.\u001b[0m\u001b[0m_call_impl\u001b[0m\u001b[0;34m(\u001b[0m\u001b[0;34m*\u001b[0m\u001b[0margs\u001b[0m\u001b[0;34m,\u001b[0m \u001b[0;34m**\u001b[0m\u001b[0mkwargs\u001b[0m\u001b[0;34m)\u001b[0m\u001b[0;34m\u001b[0m\u001b[0;34m\u001b[0m\u001b[0m\n\u001b[0m\u001b[1;32m   1774\u001b[0m \u001b[0;34m\u001b[0m\u001b[0m\n\u001b[1;32m   1775\u001b[0m     \u001b[0;31m# torchrec tests the code consistency with the following code\u001b[0m\u001b[0;34m\u001b[0m\u001b[0;34m\u001b[0m\u001b[0m\n",
            "\u001b[0;32m/usr/local/lib/python3.12/dist-packages/torch/nn/modules/module.py\u001b[0m in \u001b[0;36m_call_impl\u001b[0;34m(self, *args, **kwargs)\u001b[0m\n\u001b[1;32m   1782\u001b[0m                 \u001b[0;32mor\u001b[0m \u001b[0m_global_backward_pre_hooks\u001b[0m \u001b[0;32mor\u001b[0m \u001b[0m_global_backward_hooks\u001b[0m\u001b[0;34m\u001b[0m\u001b[0;34m\u001b[0m\u001b[0m\n\u001b[1;32m   1783\u001b[0m                 or _global_forward_hooks or _global_forward_pre_hooks):\n\u001b[0;32m-> 1784\u001b[0;31m             \u001b[0;32mreturn\u001b[0m \u001b[0mforward_call\u001b[0m\u001b[0;34m(\u001b[0m\u001b[0;34m*\u001b[0m\u001b[0margs\u001b[0m\u001b[0;34m,\u001b[0m \u001b[0;34m**\u001b[0m\u001b[0mkwargs\u001b[0m\u001b[0;34m)\u001b[0m\u001b[0;34m\u001b[0m\u001b[0;34m\u001b[0m\u001b[0m\n\u001b[0m\u001b[1;32m   1785\u001b[0m \u001b[0;34m\u001b[0m\u001b[0m\n\u001b[1;32m   1786\u001b[0m         \u001b[0mresult\u001b[0m \u001b[0;34m=\u001b[0m \u001b[0;32mNone\u001b[0m\u001b[0;34m\u001b[0m\u001b[0;34m\u001b[0m\u001b[0m\n",
            "\u001b[0;32m/usr/local/lib/python3.12/dist-packages/torch/nn/modules/loss.py\u001b[0m in \u001b[0;36mforward\u001b[0;34m(self, input, target)\u001b[0m\n\u001b[1;32m    614\u001b[0m \u001b[0;34m\u001b[0m\u001b[0m\n\u001b[1;32m    615\u001b[0m     \u001b[0;32mdef\u001b[0m \u001b[0mforward\u001b[0m\u001b[0;34m(\u001b[0m\u001b[0mself\u001b[0m\u001b[0;34m,\u001b[0m \u001b[0minput\u001b[0m\u001b[0;34m:\u001b[0m \u001b[0mTensor\u001b[0m\u001b[0;34m,\u001b[0m \u001b[0mtarget\u001b[0m\u001b[0;34m:\u001b[0m \u001b[0mTensor\u001b[0m\u001b[0;34m)\u001b[0m \u001b[0;34m->\u001b[0m \u001b[0mTensor\u001b[0m\u001b[0;34m:\u001b[0m\u001b[0;34m\u001b[0m\u001b[0;34m\u001b[0m\u001b[0m\n\u001b[0;32m--> 616\u001b[0;31m         \u001b[0;32mreturn\u001b[0m \u001b[0mF\u001b[0m\u001b[0;34m.\u001b[0m\u001b[0mmse_loss\u001b[0m\u001b[0;34m(\u001b[0m\u001b[0minput\u001b[0m\u001b[0;34m,\u001b[0m \u001b[0mtarget\u001b[0m\u001b[0;34m,\u001b[0m \u001b[0mreduction\u001b[0m\u001b[0;34m=\u001b[0m\u001b[0mself\u001b[0m\u001b[0;34m.\u001b[0m\u001b[0mreduction\u001b[0m\u001b[0;34m)\u001b[0m\u001b[0;34m\u001b[0m\u001b[0;34m\u001b[0m\u001b[0m\n\u001b[0m\u001b[1;32m    617\u001b[0m \u001b[0;34m\u001b[0m\u001b[0m\n\u001b[1;32m    618\u001b[0m \u001b[0;34m\u001b[0m\u001b[0m\n",
            "\u001b[0;32m/usr/local/lib/python3.12/dist-packages/torch/nn/functional.py\u001b[0m in \u001b[0;36mmse_loss\u001b[0;34m(input, target, size_average, reduce, reduction, weight)\u001b[0m\n\u001b[1;32m   3866\u001b[0m         \u001b[0mreduction\u001b[0m \u001b[0;34m=\u001b[0m \u001b[0m_Reduction\u001b[0m\u001b[0;34m.\u001b[0m\u001b[0mlegacy_get_string\u001b[0m\u001b[0;34m(\u001b[0m\u001b[0msize_average\u001b[0m\u001b[0;34m,\u001b[0m \u001b[0mreduce\u001b[0m\u001b[0;34m)\u001b[0m\u001b[0;34m\u001b[0m\u001b[0;34m\u001b[0m\u001b[0m\n\u001b[1;32m   3867\u001b[0m \u001b[0;34m\u001b[0m\u001b[0m\n\u001b[0;32m-> 3868\u001b[0;31m     \u001b[0mexpanded_input\u001b[0m\u001b[0;34m,\u001b[0m \u001b[0mexpanded_target\u001b[0m \u001b[0;34m=\u001b[0m \u001b[0mtorch\u001b[0m\u001b[0;34m.\u001b[0m\u001b[0mbroadcast_tensors\u001b[0m\u001b[0;34m(\u001b[0m\u001b[0minput\u001b[0m\u001b[0;34m,\u001b[0m \u001b[0mtarget\u001b[0m\u001b[0;34m)\u001b[0m\u001b[0;34m\u001b[0m\u001b[0;34m\u001b[0m\u001b[0m\n\u001b[0m\u001b[1;32m   3869\u001b[0m \u001b[0;34m\u001b[0m\u001b[0m\n\u001b[1;32m   3870\u001b[0m     \u001b[0;32mif\u001b[0m \u001b[0mweight\u001b[0m \u001b[0;32mis\u001b[0m \u001b[0;32mnot\u001b[0m \u001b[0;32mNone\u001b[0m\u001b[0;34m:\u001b[0m\u001b[0;34m\u001b[0m\u001b[0;34m\u001b[0m\u001b[0m\n",
            "\u001b[0;32m/usr/local/lib/python3.12/dist-packages/torch/functional.py\u001b[0m in \u001b[0;36mbroadcast_tensors\u001b[0;34m(*tensors)\u001b[0m\n\u001b[1;32m     75\u001b[0m     \u001b[0;32mif\u001b[0m \u001b[0mhas_torch_function\u001b[0m\u001b[0;34m(\u001b[0m\u001b[0mtensors\u001b[0m\u001b[0;34m)\u001b[0m\u001b[0;34m:\u001b[0m\u001b[0;34m\u001b[0m\u001b[0;34m\u001b[0m\u001b[0m\n\u001b[1;32m     76\u001b[0m         \u001b[0;32mreturn\u001b[0m \u001b[0mhandle_torch_function\u001b[0m\u001b[0;34m(\u001b[0m\u001b[0mbroadcast_tensors\u001b[0m\u001b[0;34m,\u001b[0m \u001b[0mtensors\u001b[0m\u001b[0;34m,\u001b[0m \u001b[0;34m*\u001b[0m\u001b[0mtensors\u001b[0m\u001b[0;34m)\u001b[0m\u001b[0;34m\u001b[0m\u001b[0;34m\u001b[0m\u001b[0m\n\u001b[0;32m---> 77\u001b[0;31m     \u001b[0;32mreturn\u001b[0m \u001b[0m_VF\u001b[0m\u001b[0;34m.\u001b[0m\u001b[0mbroadcast_tensors\u001b[0m\u001b[0;34m(\u001b[0m\u001b[0mtensors\u001b[0m\u001b[0;34m)\u001b[0m  \u001b[0;31m# type: ignore[attr-defined]\u001b[0m\u001b[0;34m\u001b[0m\u001b[0;34m\u001b[0m\u001b[0m\n\u001b[0m\u001b[1;32m     78\u001b[0m \u001b[0;34m\u001b[0m\u001b[0m\n\u001b[1;32m     79\u001b[0m \u001b[0;34m\u001b[0m\u001b[0m\n",
            "\u001b[0;31mRuntimeError\u001b[0m: The size of tensor a (1470) must match the size of tensor b (5) at non-singleton dimension 1"
          ]
        }
      ]
    },
    {
      "cell_type": "code",
      "source": [
        "print(f\"Epoch {epoch+1}/{num_epochs}, Train Loss: {loss.item()}\"), torch.save(model.state_dict(), \"checkpoint.pth\")"
      ],
      "metadata": {
        "id": "IWVPrPs6yR_5"
      },
      "execution_count": null,
      "outputs": []
    }
  ]
}
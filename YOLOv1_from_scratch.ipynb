{
  "nbformat": 4,
  "nbformat_minor": 0,
  "metadata": {
    "colab": {
      "provenance": [],
      "include_colab_link": true
    },
    "kernelspec": {
      "name": "python3",
      "display_name": "Python 3"
    },
    "language_info": {
      "name": "python"
    }
  },
  "cells": [
    {
      "cell_type": "markdown",
      "metadata": {
        "id": "view-in-github",
        "colab_type": "text"
      },
      "source": [
        "<a href=\"https://colab.research.google.com/github/Regina-Arthur/YOLOv1_From_Scratch/blob/main/YOLOv1_from_scratch.ipynb\" target=\"_parent\"><img src=\"https://colab.research.google.com/assets/colab-badge.svg\" alt=\"Open In Colab\"/></a>"
      ]
    },
    {
      "cell_type": "markdown",
      "source": [
        "#Building a YOLOv1 model from scratch by Regina Arthur\n"
      ],
      "metadata": {
        "id": "E075aKobGM0_"
      }
    },
    {
      "cell_type": "markdown",
      "source": [
        "###This will be done without the convolutional layers being pretrained on imagenet"
      ],
      "metadata": {
        "id": "2C124Tg5bKL-"
      }
    },
    {
      "cell_type": "markdown",
      "source": [
        "##Import the necessary libraries\n"
      ],
      "metadata": {
        "id": "B97rFjkKGMf5"
      }
    },
    {
      "cell_type": "code",
      "execution_count": null,
      "metadata": {
        "id": "ZcJyo6t5oNmj"
      },
      "outputs": [],
      "source": [
        "#Let's import the necessary libraries to build YOLOv1\n",
        "#pytorch\n",
        "import torch\n",
        "import torch.nn as nn\n",
        "import torch.nn.functional as F\n",
        "import torchvision\n",
        "import torchvision.transforms.v2 as v2\n",
        "from torchvision.datasets import VOCDetection\n",
        "from torch.utils.data import Dataset, DataLoader\n",
        "\n",
        "#matplotlib\n",
        "import matplotlib.pyplot as plt\n",
        "import matplotlib.patches as patches\n",
        "\n",
        "#numpy\n",
        "import numpy as np\n",
        "\n",
        "#python\n",
        "from collections import Counter\n",
        "\n",
        "#tqdm\n",
        "from tqdm import tqdm"
      ]
    },
    {
      "cell_type": "markdown",
      "source": [
        "##Connect To a GPU if available"
      ],
      "metadata": {
        "id": "OfJGkqRgF28o"
      }
    },
    {
      "cell_type": "code",
      "source": [
        "#Let's check if cuda is available. Connect to i If it is not available, use cpu.\n",
        "#If it is not available, use cpu\n",
        "device = torch.device('cuda' if torch.cuda.is_available() else 'cpu')\n",
        "device"
      ],
      "metadata": {
        "colab": {
          "base_uri": "https://localhost:8080/"
        },
        "id": "kATyTVUZpBC2",
        "outputId": "29533bf4-5abd-45ea-bcf6-9719c4a7f9f2"
      },
      "execution_count": null,
      "outputs": [
        {
          "output_type": "execute_result",
          "data": {
            "text/plain": [
              "device(type='cuda')"
            ]
          },
          "metadata": {},
          "execution_count": 2
        }
      ]
    },
    {
      "cell_type": "markdown",
      "source": [
        "##Neural Network Architecture\n"
      ],
      "metadata": {
        "id": "ZoJTVgTjpDHI"
      }
    },
    {
      "cell_type": "markdown",
      "source": [
        "###I am following the documentation on the MODULE class to build my neural network. All neural network model are to inherit from the nn.Module class.\n",
        "\n",
        "####Conv2d\n",
        "####class torch.nn.Conv2d(in_channels, out_channels, kernel_size, stride=1, padding=0, dilation=1, groups=1, bias=True, padding_mode='zeros', device=None, dtype=None)\n",
        "\n",
        "####class torch.nn.LeakyReLU(negative_slope=0.01, inplace=False)\n",
        "\n",
        "####MaxPool2d\n",
        "####class torch.nn.MaxPool2d(kernel_size, stride=None, padding=0, dilation=1, return_indices=False, ceil_mode=False)[source]\n",
        "\n",
        "####Linear\n",
        "####class torch.nn.Linear(in_features, out_features, bias=True, device=None, dtype=None)[source]\n",
        "\n",
        "####Dropout2d\n",
        "####class torch.nn.Dropout2d(p=0.5, inplace=False)[source]\n",
        "\n"
      ],
      "metadata": {
        "id": "l3MISm9aqDlR"
      }
    },
    {
      "cell_type": "code",
      "source": [
        "class YOLOv1(nn.Module):\n",
        "  def __init__(self, S=7, B=2, C=20):\n",
        "    super().__init__()\n",
        "    self.conv1 = nn.Conv2d(in_channels = 3,out_channels = 64, kernel_size = 7,stride = 2, padding = 3)\n",
        "    self.conv2 = nn.Conv2d(in_channels = 64,out_channels = 192, kernel_size = 3, stride = 1, padding = 1)\n",
        "    self.conv3 = nn.Conv2d(in_channels = 192,out_channels = 128, kernel_size = 1,stride = 1, padding = 0)\n",
        "    self.conv4 = nn.Conv2d(in_channels = 128,out_channels = 256, kernel_size = 3, stride = 1, padding = 1)\n",
        "    self.conv5 = nn.Conv2d(in_channels = 256, out_channels = 256, kernel_size = 1, stride = 1, padding = 0)\n",
        "    self.conv6 = nn.Conv2d(in_channels = 256, out_channels = 512, kernel_size = 3, stride = 1, padding = 1)\n",
        "    self.conv7 = nn.Conv2d(in_channels = 512, out_channels = 256, kernel_size = 1,stride = 1, padding = 0)\n",
        "    self.conv8 = nn.Conv2d(in_channels = 256,out_channels = 512, kernel_size = 3, stride = 1, padding = 1)\n",
        "    self.conv9 = nn.Conv2d(in_channels = 512,out_channels = 256, kernel_size = 1,stride = 1, padding = 0)\n",
        "    self.conv10 = nn.Conv2d(in_channels = 256,out_channels = 512, kernel_size = 3,stride = 1, padding =1)\n",
        "    self.conv11 = nn.Conv2d(in_channels = 512,out_channels = 256, kernel_size = 1,stride = 1, padding = 0)\n",
        "    self.conv12 = nn.Conv2d(in_channels = 256,out_channels = 512, kernel_size = 3,stride = 1, padding = 1)\n",
        "    self.conv13 = nn.Conv2d(in_channels = 512,out_channels = 256, kernel_size = 1,stride = 1, padding = 0)\n",
        "    self.conv14 = nn.Conv2d(in_channels = 256,out_channels = 512, kernel_size = 3,stride = 1, padding = 1)\n",
        "    self.conv15 = nn.Conv2d(in_channels = 512,out_channels = 512, kernel_size = 1,stride = 1, padding = 0)\n",
        "    self.conv16 = nn.Conv2d(in_channels = 512,out_channels = 1024, kernel_size = 3,stride = 1, padding = 1)\n",
        "    self.conv17 = nn.Conv2d(in_channels = 1024,out_channels = 512, kernel_size = 1,stride = 1, padding = 0)\n",
        "    self.conv18 = nn.Conv2d(in_channels = 512,out_channels = 1024, kernel_size = 3,stride = 1, padding = 1)\n",
        "    self.conv19 = nn.Conv2d(in_channels = 1024,out_channels = 512, kernel_size = 1,stride = 1, padding = 0)\n",
        "    self.conv20 = nn.Conv2d(in_channels = 512,out_channels = 1024, kernel_size = 3,stride = 1, padding = 1)\n",
        "    self.conv21 = nn.Conv2d(in_channels = 1024,out_channels = 1024, kernel_size = 3,stride = 1, padding = 1)\n",
        "    self.conv22 = nn.Conv2d(in_channels = 1024,out_channels = 1024, kernel_size = 3,stride = 2, padding = 1)\n",
        "    self.conv23 = nn.Conv2d(in_channels = 1024,out_channels = 1024, kernel_size = 3,stride = 1, padding = 1)\n",
        "    self.conv24 = nn.Conv2d(in_channels = 1024,out_channels = 1024, kernel_size = 3,stride = 1, padding = 1)\n",
        "\n",
        "    #Pooling and Activation\n",
        "    self.MaxPooling2d = nn.MaxPool2d(kernel_size = 2, stride = 2)\n",
        "    self.LeakyReLU = nn.LeakyReLU(negative_slope = 0.1)\n",
        "\n",
        "    #Flattening and Fully Connected Layer\n",
        "    self.Flatten = nn.Flatten()\n",
        "    self.Linear = nn.Linear(in_features = 50176 , out_features = 4096)\n",
        "    self.Dropout = nn.Dropout(0.5)\n",
        "    self.Linear2 = nn.Linear(in_features =4096 , out_features = S * S * ( B * 5 + C))\n",
        "\n",
        "  def forward(self, x):\n",
        "    x = self.MaxPooling2d(self.LeakyReLU(self.conv1(x)))\n",
        "    x = self.MaxPooling2d(self.LeakyReLU(self.conv2(x)))\n",
        "    x = self.LeakyReLU(self.conv3(x))\n",
        "    x = self.LeakyReLU(self.conv4(x))\n",
        "    x = self.LeakyReLU(self.conv5(x))\n",
        "    x = self.MaxPooling2d(self.LeakyReLU(self.conv6(x)))\n",
        "    x = self.LeakyReLU(self.conv7(x))\n",
        "    x = self.LeakyReLU(self.conv8(x))\n",
        "    x = self.LeakyReLU(self.conv9(x))\n",
        "    x = self.LeakyReLU(self.conv10(x))\n",
        "    x = self.LeakyReLU(self.conv11(x))\n",
        "    x = self.LeakyReLU(self.conv12(x))\n",
        "    x = self.LeakyReLU(self.conv13(x))\n",
        "    x = self.LeakyReLU(self.conv14(x))\n",
        "    x = self.LeakyReLU(self.conv15(x))\n",
        "    x = self.MaxPooling2d(self.LeakyReLU(self.conv16(x)))\n",
        "    x = self.LeakyReLU(self.conv17(x))\n",
        "    x = self.LeakyReLU(self.conv18(x))\n",
        "    x = self.LeakyReLU(self.conv19(x))\n",
        "    x = self.LeakyReLU(self.conv20(x))\n",
        "    x = self.LeakyReLU(self.conv21(x))\n",
        "    x = self.LeakyReLU(self.conv22(x))\n",
        "    x = self.LeakyReLU(self.conv23(x))\n",
        "    x = self.LeakyReLU(self.conv24(x))\n",
        "    x = self.LeakyReLU(self.Linear(self.Flatten(x)))\n",
        "    x = self.Dropout(x)\n",
        "    x = self.Linear2(x)\n",
        "    return x\n",
        "\n"
      ],
      "metadata": {
        "id": "zjf2zbBvpME-"
      },
      "execution_count": null,
      "outputs": []
    },
    {
      "cell_type": "markdown",
      "source": [
        "## Architecture Test\n",
        "This just makes sure the architecture works as intended\n"
      ],
      "metadata": {
        "id": "PBdPPz0vH-th"
      }
    },
    {
      "cell_type": "code",
      "source": [
        "# model = YOLOv1()\n",
        "# model = model.to(device)"
      ],
      "metadata": {
        "id": "cwXfGwm1IVwv"
      },
      "execution_count": null,
      "outputs": []
    },
    {
      "cell_type": "code",
      "source": [
        "# dummy_input = torch.randn(1, 3, 448, 448).to(device)\n",
        "\n",
        "# with torch.no_grad():\n",
        "#     output = model(dummy_input)\n",
        "\n",
        "# print(\"Output shape:\", output.shape)"
      ],
      "metadata": {
        "colab": {
          "base_uri": "https://localhost:8080/"
        },
        "id": "w2tvjBG5KNa5",
        "outputId": "f99f3132-f9f6-4ce8-dfc0-398b45d9c2df"
      },
      "execution_count": null,
      "outputs": [
        {
          "output_type": "stream",
          "name": "stdout",
          "text": [
            "Output shape: torch.Size([1, 1470])\n"
          ]
        },
        {
          "output_type": "stream",
          "name": "stderr",
          "text": [
            "/usr/local/lib/python3.12/dist-packages/torch/nn/functional.py:1535: UserWarning: dropout2d: Received a 2-D input to dropout2d, which is deprecated and will result in an error in a future release. To retain the behavior and silence this warning, please use dropout instead. Note that dropout2d exists to provide channel-wise dropout on inputs with 2 spatial dimensions, a channel dimension, and an optional batch dimension (i.e. 3D or 4D inputs).\n",
            "  warnings.warn(warn_msg)\n"
          ]
        }
      ]
    },
    {
      "cell_type": "code",
      "source": [
        "# total_params = sum(p.numel() for p in model.parameters())\n",
        "# trainable_params = sum(p.numel() for p in model.parameters() if p.requires_grad)\n",
        "\n",
        "# print(f\"Total params: {total_params:,}\")\n",
        "# print(f\"Trainable params: {trainable_params:,}\")"
      ],
      "metadata": {
        "id": "kAtjUMCyKkv4",
        "colab": {
          "base_uri": "https://localhost:8080/"
        },
        "outputId": "c2a5f213-8ae2-4df9-cd61-4fe3ef2925ef"
      },
      "execution_count": null,
      "outputs": [
        {
          "output_type": "stream",
          "name": "stdout",
          "text": [
            "Total params: 271,703,550\n",
            "Trainable params: 271,703,550\n"
          ]
        }
      ]
    },
    {
      "cell_type": "markdown",
      "source": [
        "###Intersection Over Union\n",
        "\n",
        "![image.png](data:image/png;base64,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)"
      ],
      "metadata": {
        "id": "BEyBQwR0Xs4D"
      }
    },
    {
      "cell_type": "code",
      "source": [
        "def intersection_over_union(boxes_preds, boxes_labels):\n",
        "  '''\n",
        "  '''\n",
        "  #Calculating the corner values based on the centers and the width and height\n",
        "  #for the x coordinate of the upper left corner we subtract half of the width from x coordinate of center.\n",
        "  box1_x1 = boxes_preds[..., 0:1] - boxes_preds[..., 2:3] / 2\n",
        "  #for the y coordinate of the upper left corner we subtract half of the height from y coordinate of center.\n",
        "  box1_y1 = boxes_preds[..., 1:2] - boxes_preds[..., 3:4] / 2\n",
        "  #for the x coordinate of the lower right corner we add half of the width from x coordinate of center.\n",
        "  box1_x2 = boxes_preds[..., 0:1] + boxes_preds[..., 2:3] / 2\n",
        "  #for the y coordinate of the lower right corner we add half of the height from y coordinate of center.\n",
        "  box1_y2 = boxes_preds[..., 1:2] + boxes_preds[..., 3:4] / 2\n",
        "  #for the x coordinate of the upper left corner we subtract half of the width from x coordinate of center.\n",
        "  box2_x1 = boxes_labels[..., 0:1] - boxes_labels[..., 2:3] / 2\n",
        "  #for the y coordinate of the upper left corner we subtract half of the height from y coordinate of center.\n",
        "  box2_y1 = boxes_labels[..., 1:2] - boxes_labels[..., 3:4] / 2\n",
        "  #for the x coordinate of the lower right corner we add half of the width from x coordinate of center.\n",
        "  box2_x2 = boxes_labels[..., 0:1] + boxes_labels[..., 2:3] / 2\n",
        "  #for the y coordinate of the lower right corner we add half of the height from y coordinate of center.\n",
        "  box2_y2 = boxes_labels[..., 1:2] + boxes_labels[..., 3:4] / 2\n",
        "\n",
        "\n",
        "  #calculate the coordinates of the intersection\n",
        "  x1 = torch.max(box1_x1, box2_x1) #Picks the largest values\n",
        "  y1 = torch.max(box1_y1, box2_y1) #Picks the largest values\n",
        "  x2 = torch.min(box1_x2, box2_x2) #Picks the smallest values\n",
        "  y2 = torch.min(box1_y2, box2_y2) #Picks the smallest values\n",
        "\n",
        "  intersection = (x2 - x1).clamp(0) * (y2 - y1).clamp(0)\n",
        "\n",
        "  box1_area = abs((box1_x2 - box1_x1) * (box1_y2 - box1_y1))\n",
        "  box2_area = abs((box2_x2 - box2_x1) * (box2_y2 - box2_y1))\n",
        "\n",
        "  return intersection / (box1_area + box2_area - intersection + 1e-6)"
      ],
      "metadata": {
        "id": "Dk1tcRFyxPzB"
      },
      "execution_count": null,
      "outputs": []
    },
    {
      "cell_type": "markdown",
      "source": [
        "###Nonmax Suppression"
      ],
      "metadata": {
        "id": "m8RBlTHhfYUK"
      }
    },
    {
      "cell_type": "code",
      "source": [
        "def nms(bboxes, iou_threshold, threshold, box_format=\"corners\"):\n",
        "  assert type(bboxes) == list\n",
        "\n",
        "  bboxes = [box for box in bboxes if box[1] > threshold]\n",
        "  bboxes = sorted(bboxes, key=lambda x: x[1], reverse=True)\n",
        "  bboxes_after_nms = []\n",
        "\n",
        "  while bboxes:\n",
        "      chosen_box = bboxes.pop(0)\n",
        "\n",
        "      bboxes = [\n",
        "          box\n",
        "          for box in bboxes\n",
        "          if box[0] != chosen_box[0]\n",
        "          or intersection_over_union(\n",
        "              torch.tensor(chosen_box[2:]),\n",
        "              torch.tensor(box[2:]),\n",
        "              box_format=box_format,\n",
        "          )\n",
        "          < iou_threshold\n",
        "      ]\n",
        "\n",
        "      bboxes_after_nms.append(chosen_box)\n",
        "\n",
        "  return bboxes_after_nms"
      ],
      "metadata": {
        "id": "bMjpBGRl2mG4"
      },
      "execution_count": null,
      "outputs": []
    },
    {
      "cell_type": "markdown",
      "source": [
        "##Model loss\n",
        "![image.png](data:image/png;base64,iVBORw0KGgoAAAANSUhEUgAAAiwAAAF2CAYAAABNisPlAAAAAXNSR0IArs4c6QAAAARnQU1BAACxjwv8YQUAAAAJcEhZcwAADsMAAA7DAcdvqGQAAHgASURBVHhe7d0JvEzlGwfwl2xlKbKHCpG9opSyJJGk7EsooZKdRLZQlnYkUrJEZQnRYqnsKqLsWf72bJGQbFnO//ye+x7mzp3lzH7m3t/38xnmvDP3ztwzy3nO+z7v86YyTIqIiIjIwVLr/4mIiIgciwELEREROR4DFiIiInI8BixERETkeAxYiIiIyPEYsBAREZHjMWAhIiIix2PAQkRERI7HgIWIiIgcjwFLBJw+fVpt375dnTp1SrcQERFRKFiaP8yGDBmiLl68qPLkyaPmzJmjrrvuOjVhwgSVMWNGfQ8iIiIKFAOWMFqyZInq37+//J8qVSp1+fJlVb58eVWlShX11ltv6XsRERFRoDgkFEYFChRQxYoV01vmzk2dWtp27typW4iIiCgY7GGJoGPHjqlbbrlFTZ48WdWpU0e3EhERUaAYsATgwoUL6vPPP1e7du2S61WrVlXZs2dXGTJkULfffru+V4KTJ09KkNKhQwdVv3593Ro+69evVytXrtRbV2XLlk3dd999Kl++fLqFiIgo/nFIyKbjx4+rNm3aqLJly6qBAweqV155RQKXypUrq5w5c+p7Jdi7d6/q2LGjGjNmjAQrv/76q74lfG677Tb1559/qqFDh6oHHnhA8mTw/z///KPKlSunJk6cqO9JREQU/9jDYlO/fv1UzZo1VYUKFXRLgho1aqgFCxboLSW9HiNHjlSdO3dW6dKlU//++6+aNWuWevfdd/U9wqd9+/bS0/PRRx/plgTPP/+82rNnT6LnRUREFM/Yw2ITgo/PPvtMAhBXCE4sCFYefPBBGTbC7KA777xTVaxYUd166636HuGF2UjoWXG1bt06tXDhQvXyyy/rFiIiovjHHhabkJPSu3dvNXXqVJn5U6lSJdWrVy+VO3dufY/oOnLkiDw2plEjj+a///5Tixcvlra3335bZcmSRd+TiIgo/jFgCRB217Zt29T8+fPV8OHD1Y4dO1SaNGn0rdHzxRdfqD59+khFXcuZM2ek7ZdfflGLFi1S6dOn17cQERHFNw4J2eCawIqCcJgR1KVLF0nAReJtLHgaDkJV3aefflr99NNPrP1CRETJCgMWG9CTcuLECb2VANvobcFsnVhAwIIZSq7Onz+vBg8erB599FFVvHhx3UpERBT/OCTkB3JF6tWrp8qUKSNF4AoVKiTTlv/3v/9JTku0652sWbNGffjhh+rjjz9WLVq0ULly5ZLACcNBmBmEWUsvvPCCJAkTERElFwxY/MDKy4DFCzHMcvjwYVWwYEFZ3JCIiIiigwELOdrmzZtVgwYN9FaCGTNmqBIlSugtIkLdp++++05vKXXPPfeoTz75RG8RJQ8MWMjRUCUYFYYRpFgwDMcZUERXoefX6g3GsDGqbKPMAVFywqRbiohz586ppUuX6q3EkP/jOh3bH6zVhNwh68JghSgx1F+yPh9cR4ySKwYsFBGoANyyZUu9ldgPP/ygvv/+e71FsYCVxFFDCDPLKD7wNaOUjgGLB5gNhHoruFx77bUqc+bMfi+ZMmWS+15zzTVXftbTZfTo0fpRPNu9e3ei++P3eno89wvuh54H1591v6ROnVpt2rRJP1JkPf744/paUpjFhHWQKPpOnTqlunbtqiZMmKDmzp0rC2ZiMU9yLr5mRAkYsHjwxhtv6GtKSvCj5gq+NHxdsMbQ2bNn1aVLl2TFZMwowpo+WE0ZdVHSpk0rvw9l83Efb7DuEA7oFqwJ5Onx3C94fJx54Xf//fff6vfff1dfffWV/DwS8ADpSm+99ZZcDyf8nViyAL/7wIEDujUBhoUQnOB2wGKN+NLFeksUfe+8844EuN27d1edOnWS1wLv0W+//Vbfg5yGrxlRAgYsHjRu3FjWCQJk3vfs2VOu24UvF0x9rlq1qgQM+GJBz0m3bt2khgvK6vsyYsQICZTglVdekcDDLvSiZM2aVRUrVkzVrl1bvthWrVolyauPPfaYmjJlivrjjz/0vf1DbZcBAwYkqvbrCoEI/r4mTZpIr8q9996r/vrrL7kN/6OOTf369aUyMP5uJAZin3JIKDbKlSsna09ZbrzxRnm/sjKyc/E1I9IwS4iSunTpkmEe4DGDSi6TJk3St4TGPFgbDzzwgN7yzjzQGzfffLM8tvnlZGzevFnfEpohQ4YYXbt21Vu+rV271pgwYYJRpUoVo3///ro1sQoVKhjz58/XW4ZRo0YNY9SoUcbWrVvl+VsGDhxoNGzYUK6PGTPGaNmypVz3Z82aNYYZBOkt7y5fvmwMGjTIOHXqlG5JmfC+MQNeveUfXrssWbIYZiCtW2Jj2rRphhlU662UJdyv2YoVK+QzS5TcRLyHBQsFooQ8pqZevHhRtzofeio+++wzWTcInnvuObV69Wq5HoqHH35YNW/e3OsMGkuOHDnU7NmzZX0gDPk88cQT6vjx4/rW4KHnCFVxsfq0Jxgrf/DBB69c0MOCGg/eYLgMQ2GWvHnzyvAUIG/GYgYvibbDyQxWpAfnkUcekVyeeIeeqVq1aqmVK1fqFvvwvilatKh69dVXdYt3GzZskNW+sfYUViCPFfTe4b1911136Zb4hTyTQL/r4vE1I4qFiAcs+CAi0XT8+PFq7NixujU+mGcxas6cOeqGG26Qabp169aVegehev7555OsA+TJHXfcIV+AgNkBGHbxlf9iF2o0XH/99XorsWHDhkn9Blzw+FhgEX+/N7gdK0Nb8IWKoMwdhqQQdEXC+++/L5WHsRhlvMPQIV7nDh06qCFDhqhvvvlG32Iflmc4evTolbwhT5B3hPfBggULZD2sYJOxUR/nzz//1FuBW7t2rZo2bZp8JuIdXq/ffvtNVaxYUV5Dqy6KHdF8zYjiVVRyWFCVFB9IHFjiTZEiRSTvAz0uSCjFukL//fefvjXyGjVqJGsWQTD5NJE2aNAgyctBQIrKms8++6y688475awRgc4HH3wg+w9ng08++aT+qfBBgvFHH32kXnzxRd0S32bOnCkHrZo1a6ovv/xSrV+/XnrEAvXaa6/JQpiepsDixGH+/PnSa4gACa9bsAc/5C+hFy5YyOuKRCJ4tCFQRy8ipvNjxXT0gqCHNBDRes2I4pYeGoo480xR8jHMswTdEl/ML9Ur+SytW7fWrdERqXwafzAOvnjxYrl4y2GxnDhxwrh48aLeuurkyZOG+QWstxKMHj3a6NKli97yzV8Oy6uvvmp06NBBb5Er5AwhX8jVsGHDrryPXC/mAVffIzDIRVq5cqXeCsyyZcuMkiVL6i2CcLxmzGGh5Cpqs4RwxogqjPHYywKYUtisWTO5Pm7cuKj+HVY+DWb+QLjyacIJQ0yoQeMOw2rWytGYar1v3z6Z9o1u83DAkAmG6rzBfnrzzTflNcOwHmZWYGo5emWw7STYN3hfvfvuu9Kbhzwj9FANHz5c7d+/X9/LPuwX96mvyPUxP/dJLqVKldL3iB5frx3yojAcOmrUKHm/uMLQCIZPnCDcz9PprxlRLEUtYMFBt127djJFF1/M8ejjjz++kieB5FTkeURLpPJpogmJlQge0HWOobVQ4YCOdVMwnu8JutHXrVunevToIXkWyKFBDgDyJfBa4rpT4O/AdHYkbGJqOHKcXnrpJVWnTh2Zho6clkAhfwzv0XDkPUUCDujeXjskh2MYGa8fpuZbkICOk58ff/xRt8RWuJ+n018zoliKWsACZcqUkQ8izhpjASv/4qCPSzDlrbGmDcalsW4HZgEgvySU8ftA4csd+Q3oycAZOOqbRDOfJlT333+/9CAgITEcsA8wQyhXrly65SrchpkUyKmBwoULS+0X5EzgdcTZKerSuEP5cxS3izbkLiCHAc8NzxU9QQ899JAkE6OujvV3uELgilla3uBnMWMLf5MT4cQFz9EdkrhR7BAzzpCs7doTtmLFCvns4b3kKhavWzDPM95fM6JYitpqzUgYRVc3eghwZoWzRnw5RxMO7ihuhix79E54OtDZgQMhpvzi9yEI+/nnn6Usf7Sg8iWGqAAHMgxvRAL+RiQPwpIlS6SAXLThQIDeBexjd8uWLZMeCCTeukOiKt7aGTNmlG3sL7zvMCvFFxyA8D5F+XNf8HuQAG3n44MAE1N3Eeh6g6EDJCoDhkrwPsX05mzZskmbJ0g0RkExq8ihO5wcpEmTRobirOHEYKFnFAml7nASgMX23GedYZmIWbNmXRkO9AT7BfuxdOnSuiUBXk98T2zZskWVLFlS/fLLL+ruu++W27DPUel148aNsm2x+7rhRCWQxHk8XrVq1fRWYsE8z2i8ZujV6du3b1R7gImiAgFLpH366adGuXLljOPHj0txKDys+QWub40uJAni8c2ARbcEZ+zYsfJ7ihQpIn9XtDVv3lwev1GjRrol/AJJuoWzZ8/63Bfml7EUyQqEr6Rb3HbdddfpLd/Kli1rK9EXz9EO3O/AgQPG/v37/V4OHjyof8oe86Bm3HHHHXrLO3/P9Z9//pH3yJ9//qlbgofEaU9/G5JEzWAmSbudx8yUKZNhHuT1VlL9+vUzChcurLcSmAGB0bFjR711ld3XDfDc3J+vt4sZ2Oif8i6czzMcrxmTbim5iviQEM56sFAXzhpxNoLiUBUqVEhytoby8eYHX0rZT548WdqQ0IYzhQ8//FC68pGH4KsdPQ/mF6hMDUWeQqtWraQdiZfo/kebVTY+VDhDw5klhhnwd0UThkHQ/Y0zP2tfOUGfPn18Dvfh9cLrGy7oIUNPimtXvCurgB1yXXAmby13AOgxwPvIgi54JDabBynd4htysjAUcNNNN/m9eBr2cGc9V0Bvlutz3b59u9T3sGCoAe9x1zZP0GuDnr+cOXPqluChp8TT34YeLPx+93Y7j4nXz9fQB3rX8F1hQV4I/mb0/FkCfd3A0/P1drHWAPPFzvOMxWtGlNxELGAxgyFJGkQQgeEg1+EXdPHjQ44gBdD9iS9ojNmjZkvLli3lYNKiRQvp9keggSJMOEDjg++tHQmxKGSFIAnd6xhGwMHKqoCKg6mv8WO7UFcEwyP4u2JRbRL7D7kzqNPhq8s9VNhXSCbEBfvRH9TT8NbVDW3btpVk13BBwJg/f37pkneHIl7IBQHk/SDIs7YPHTokxcqsYTy8h1BlFDV3fK0yHSnLly+XoHfr1q3yWcD+tp4rnjfq8GCGnQXBOoZREJz7moWCYoPW73EiHOQ9vXYWVEZ2XUMHM72wP6xgLtavm8Xf84Tk8poRxVLEAhaMX2O6Hw7qt9xyi25N0KBBA0kgxcJ+gIMYeiyKFy8uH2iMBSNgwRkJZpQAAgMUSkL+iKd2lDG3zoYQwKCgGb4Mf/jhBxlrxpcHzopD/TKYN2+eBAyYehhqXkAw8MWHsv4YH49EGXrX0vw4iFpJyjiIWu3u/J09YronAgS8ruEuz4+quuiRcIeAFc8V+T0ItlBtGUEMCtwhoHWdlo4EV+S44Pljlka0YSE75GBgphCeH96zCEZxHT1S+JxYOSLoTcLffOnSJfnM+Mpxwe/BQp5O5e21s+CkACcm2A/ofcX3BA76WPwPYv26Wfw9z+T0mhHFVMLIUPiZAYfPfIZTp05dWbyrRYsWMm67bds22Ybdu3dL2zPPPCPbr7/+umyPHDnSY/vXX38tY7e4jkXwLOYBS9qQcwKh5LD8+OOPRtasWQ3zS0W3RBcKSJmBmoytO0nPnj2N7du3G2ZgmiRHBfu5V69eku+Bcf3169frW+zxlcMCq1ev9nq7eQZumMGq3jKMf//91zh27JjeSqpUqVLGokWL9FZ0mUGfcejQIb1lGBcuXJB95g3yI8xARm8lZZ7hG+YJQMQXNQylcBxeD/MEwvjrr790S2LI50DuzI4dOwzzoC/5Ym+88Ya+9apYvm5g93lG6zVjDgslVxHrYcEMIF+5HegdsIZT7rvvPvl/0qRJ8j/G8zGVs2DBgleGIlDDA+Pl6IHx1I4zVPPvkTZ0x1qwHg6gfDxYuQKu97ED2f6o44GzJwxdRRv2jRmcSc4Mxtadwt/ZI/YbhjSQ74GhmHD3sGDpfbwfsF/cYeFIvI8seJ94O7tF7w/yYdArg56YaMOMGddZRJgpgn3mCfYzcpdat24teUGe8kDQo4XifJEeskTPjzUTK1D4OdTIQY+XO8yywZRgDHliOAyl6PF3YxjYVaxfN7vP00mvGVHcSohbYsv8MBsNGjQwzIOZYR78jLfffluy6X/++WejdOnSxrx58+QsesaMGXJ/b+2YXYE/qXz58sauXbukDZ599lnjxhtvNMwvETnLNwMp6amxa+fOnUaePHkMM1jRLaHZs2dPQKXQ58yZI89/7dq1uiU0y5cvD/vMJn9njzj7zJ49u5xFBsJfDwugJwJLF5w4cUK3BG7Lli3y3kCp/1ierduBz0uZMmXkc+Jexh3Qy4XPUSj7I1rQs9S4cWPjt99+0y0J2rdvbwwfPlx6L/A3mic10uvqLtavm93nGc3XjD0slFw5ImCx4EOLD74rHODQRYouclfe2r1BdzuGCNx/vz/4OfMM3njzzTd1S2jMs0GZ4m13WGfJkiUyDLV06VLdEpqtW7dKQBdO6A5HEIjXA1/Gnrr4MSRXv359vWWfnYAFELR06NDB9vvBE7w26NKPBwjoT548qbeuwt+AKe+uAbvT4WCOgNd1CAzvKZyQYA2vBQsW+Ax0Y/m6BfI8o/WaMWCh5MpRAYvToBcC4+Mvv/yybgkN8jnq1q1r+8CNs85s2bJJfk44IH/k9ttvD6h3yQ5/Z4/QrFkz4/3339db9tkNWACBEg4gKRkC8njoWXGHQDPQGj3JRbhfMwYslFxFtTR/PDHPelStWrVU+fLlE60REijzjEtmK2GsG7kWmP2BNZX8Qe0NrEWChe88lZC3yzyAy8wqzDxAPg8qDGNaeDhhdhZmaqDqruvYPR4bzIBGypgj1yWSMCsjktO84wFmHLlXnY0HyNmxKv2mNPH6mhFFW9RK88cT82xP6jqg4BwSRj2tQuwJfg5JvbiYZ00SdKDejJXoC6gZgXobvpJPDxw4IIl8+AJv3ry5bvUNLyMCBDwWCleZZ2yS8IoLnpcFKz0j6S/S8HyQHIyCgSjshZoZY4JYbBD7z1tpfiJKiqX5KbliwOLBM888I2u/RAJ6TDp37qy3kkL9Gcx8QQGxSEDFV2vmVKRh7R4UwsJ6S/fee69uDQwDFqLAMGCh5IoBiwco328NZ4QbSm77KveNlwPTfyPxsqBXx9tUWadiwEIUGAYslFwxYCFHY8BCFBgGLJRcMemWHA/LAmAZBOuyefNmfQsRAYaZrc/Hk08+qVuJkhf2sJCjYWjOfSVeLHqYPn16vUVEhw8flsR2Cxb2jLfhXyJ/GLD4gF1z5MiRRCtNBwu/B7N3sBCk3VlHgJVdMV0XCzeGAn/Lvn37ZPqok0r7ExER2cEhIR8wJfepp57SW8HBSsaYSvzVV1+p9evXq2bNmsn/dmHG0K5du/RWcFB7BX8H8kHmz58v6zEheCIiIooX7GHxA4XfQundeOWVV6SHxJrKjOENLJ6Iact2elpCfXyoVKmSGjlypEwvBtRFwZRjLIdPREQUD9jD4sXy5culhyVUU6dOVbfeeqveSsi/wLRlVIb1BbdPmTJFCtCF4uDBg/K3uD4HJObNmDFDVlgmIiKKB+xh8WDcuHEqT5480hOB4ZM6depI++7du9WLL77ot0YKggMsmY/eEfSirFixQirXWpDHMmjQIK9VbFGJNn/+/FeWpJ85c6a+RanXX39drVq1Sm9516tXL3XPPffI1Mbq1asnqna7Z88eeY4YKkIARURE5HQMWDz49ttv1SOPPCKBxYIFC1Tx4sX1LYFBDwaSXBFgIHiwIBgZPHiwx/wYBDno2cHSAAic5s6dmyhgCRSGfmrXri1rI1l27typChcurPbu3asKFCigW4mIiJyLQ0IeYNHDOXPmyGKFwQYrgN4VBCeuawnB33//Lb/bE+SrIFiBJUuWqAcffFCuBws9KZga7NrDgsfHtMfcuXPrFiIiImdjD4sXjz76qGratKkELCjVX6NGDZmt0717d9tDQoBkW2x36dJFtjG9GWv5YFjG38rCCHbmzZunSpYsqVsCHxICPB7WRrLWEJo+fbpckMdCREQUDxiweNGmTZsr9U+QbxJI7RRXGIpp0aKF5KugR2P06NEyzblixYr6Hp5h0cD77rtPAhxfKzvbgdWhUaq7U6dOsrjiqFGjZLgppS7nT0RE8YcBiw8nTpxQN9xwg94KHnYxysljaAi9JZkyZdK3JIXhG1Rxfe+996QnBYm/4XDu3Dm1ceNGWXixVKlSQQdgREREscCAxUEwO2jRokWqf//+qn79+jJkU6JECX0rERFRysWAxUGQK4Nk34wZM6pq1aqp7Nmz61uIiIhSNgYsRERE5Hic1kxERESOx4CFiIiIHI8BCxERETkeAxYiIiJyPAYsRERE5HgMWIiIiMjxGLAQERGR4zFgISIiIsdjwEJERESOx4CFiIiIHI8BCxERETkeAxYiIiJyPAYsdMXFixfVzp071ZEjR3QLERGRM3C1ZhIzZsxQq1evVrfddpv69ddf1dq1a9XEiRPV7bffru9BREQUOwxYSJ07d04VL15cLV++XN10003S1q1bN9lGEENERBRrHBIilTZtWlW1alW9leDWW2+V4SEiIiInYA8LJYG3xAMPPKDuueceNWzYMN1KREQUOwxYUojvv/9e/fTTT+rs2bOSl1K7dm0Z7nnkkUf0PRLg7dC2bVuVPXt29dprr6nUqcPbCbd+/Xq1cuVKvXVVtmzZ1H333afy5cunW4iIiK7ikFAyhwCkS5cu6vz586p///5qyJAhqnDhwurOO++UNlcIZjp27Kgef/xxNXjwYEm8DTck9f75559q6NCh0otTpUoV+f+ff/5R5cqVk0RfIiIidwxYkrlFixapnDlzqscee0y20WOCAOH+++9XFStWlDZAENGqVSu5H3o51qxZo0aMGKFvDZ/rrrtOHqt69eqqRIkSqmjRovJ/69at1RNPPKGmTJmi70lERNGCk9v9+/erffv2qcuXL+tWZ2HAksylS5dOffPNN+rAgQO6JcHAgQNlGAbQu4F8lalTp6qaNWuqO+64Q919993q9OnTcnu4LVmyRHpWXK1bt04tXLhQvfzyy7qFiIiiYfPmzapTp07q66+/VhMmTJAe+NmzZ+tbnYM5LCkAEmffffddlT59eglMunfvru666y59a3ShKF3u3LlleAp5Mv/9959avHixtL399tsqS5Ys+p5ERBQN1apVUz179lQPP/ywbH/11VeqQYMG0hueNWtWaXMC9rCkAF27dlV//PGHWrp0qQy71K1bVyLqWMBzQA4NApb27dvLc0PPTsaMGaV3xz2vJp5hiK1YsWKJLnPnztW3EsWPefPmqV69euktcqL58+er3r17y9BOoBCwXHPNNXoroazFhQsX5Lhhefrpp5N8n3333Xf61uhgD0syhiGWIkWKqPz58+uWBCNHjpTelueee063RA+CFHwQPvroI92SAENC6IZEIIUidskBzlbKlClz5awFsI3eJKJ4MXPmTPXOO+9I0HL99dfrVgrFihUr1AsvvKBuvPFG3RIaDOMPHz5ces///vtvNW7cOJUqVSp9a+AQnGJm6apVq64EMphVit9twQQNTJ6oX7++bokCBCyUPJkfCMM8o9dbCS5fvmyYkbKxd+9e3RJdZjBifPrpp3orwblz54wGDRoYjz76qG5JHsyzFmPixIl6iyj+zJ492zAPhoZ5oNItFA5169Y1NmzYoLfCq23btkaPHj30VuAmTZpk1KpVyzh+/Lhu8axcuXLGjBkz9FZ0cEgoGdu2bZtasGCBJNhOmzZNom7UWGnTpo0qUKCAvld0YNbRs88+q37//Xd5Ti+99JKcDbRr106GqDBz6csvv9T3Jkr+nL7YKGaL4PP5+eefOyqPId6dOHFCmSeMqlSpUrolvN577z2Z2DBq1CjdYh9mhh46dEhyWDAZ46+//tK3OAOHhJIxfBFiSjMSp3bt2iVJroUKFQp7MTjyDENBzZs3l7FfIldOX2wUh4WHHnpI3r/IxaLwGT9+vDp8+LDkm0QKAmEU4sSEBpSN8AfD9DiJxHB8+fLlZVrzhx9+qAYMGOB1CBszSTGrk0NCRMlAKENC27ZtMzp27Ki3yMkOHjwow6xnzpzRLb6dPXvWuPXWW439+/frFsPo2rWrdLE7xfDhww3zQCdDyBReZiBomCeQeity3n77bePOO+80zGBEt3j3xBNPoOMi0SVbtmz6Vs84JERE0hv2/PPPqz59+ugWcrI8efKoRx99VJa7+Pfff3Wrd05fbBTPA0mX/fr1Cylxk5LCcAtWx8frHWkdOnRQx44dkx4df1BzxYwHEl3ws07DgIXIBT6oP//8s8cDz//+9z+1fft2vRUZGNvG1POPP/5Y5cqVS7eS0zVq1Eim5T/55JPyHvIFsy7w+t50002yjftjar9Thg6Rx3DLLbeohg0b6hYKF+QSNmnSRG9FFmaC9u3bV7366qsSJCUHzGEhcvHjjz+qBx98UIKTm2++Wbcm+OCDD2RsF1Oz7QgmhwXJx8gZYN5A+Fy6dEkCikgkOeLA3rJlS7mOr1IsJor3j92KzfiZSC42GigE6gikxowZo5o2bapbIwNJvViSA8uEhIPra+FUyCuZM2eO5BZGw5kzZ6QH8I033pD3WTjFIoeFPSzJCD6w6MLF5dprr1WZM2f2e8mUKZPcF2d91s96uowePVo/inexfvxwwJent9oIqJtgN1gJBtZRwgGMwUp4IZnVtShWpOB9inolmJVnZ3gnGouNBuqTTz6RatONGzfWLZGDIU8EaikFToJQx8ZbsIKZlOilwySJcMHabc2aNZMevWQBPSyUPEydOvVKwlT16tWNixcv6lvs+eeffwzzi9ZYuHChMXToUKmLkjZtWvl9SBL09/ti/fiB2rp1q9SEMQ8yxsqVK3WrYeTOndv44YcfjG7dusnzOH/+vPHff/8Z3377rfHZZ5/pe/kXSNLt6dOnjXz58hnff/+9bqFwQIIrav8cPXpUt0Re7dq1jXr16uktzw4fPmw0adLEmDdvnrFu3Tpj9erVRosWLfStsVOsWDFJII609evXGw888IDeShnMQNYwA0K9ldj8+fOl9gneD0jKNYMbfUvoli5dKt+h2OfhFIukWwYsyUyvXr2uBA0vvviibg0eZjLgwJ06dWpjypQputW7WD++q927dxv9+/c3JkyYoFuuQmBUsWJFmQWBYKFkyZLGokWL5DYELK+99pocRO6//36jXbt2UkSpc+fORsuWLeU+dgQSsCAwKl26tN6icHnzzTeNV199VW9Fx4oVK4xUqVIZ27dv1y2JnTx50ihQoMCVz4l18RfkRNrmzZvleXg7qIYTTkaWLVumt1KGMmXKyGvvDoUz8R61ZvMcO3bMeP311+V6OOBkK0uWLDJrKJxiEbAwhyWZQY4FkjaxQjNMmjRJmWducj0UKNOM5K3ly5frFs9i/fgWlPrHBV3clStXlnoCrtAdjeeK0tJgfkGo3377TU2fPl3GfJF4iyEu80tVFgFDTRvUJVi5cqWsZmpHIDksKK2Nbvhwr9eCct2YdWStzB1OyBfAPnIqFOiqUKGC+uWXX2ToMZpQywL5SBgiihdjx46V5TqQW+K+nEc44TNlBpJXviNSAny34Lvmiy++0C3RVadOHRmyDGdxTuawOAiSlZDNXb16dXXgwAHd6nxI2vvss8+uFKDCFxAKVIXKOvhi8UJfYvn4WEgRCY/WZc+ePapz58761sRwMEMOgSVv3ryJZgbhww1IvLWuRwqe5/r16yUwCqf9+/dL/sYNN9ygW1IWJBoi58hOsIKKnrVq1ZKANBzwfsVS/fEECedYmDSSwQqgYNqQIUP0VgJ8FjHDChW4O3XqpFuTD1QLxt/nSTT+dqzSj9c37kk/SzI1cuRIfS046KozP7xGo0aNdEv8QOEx80AlXbw33XSTcejQIX1LdMT68atUqWIsXrxYLhgWcjd9+nSjVKlSeiuhcNeIESPkOoaEzCBCrs+cOdN49tln5fqYMWMiMiSEIl05cuTQW+HTqlUrwzyj01spi3mSIcN86A73B0W8kDeAdbeQf2IGGvqW4CEXAe99FJWLNDPQ9jjsGSgzWLnyXo8U8wzfa67OpUuXjMyZM8vnLDnB34U8KhxPvIn03/7NN9/I+xHfy+HCwnFhFsxaCq4wjx1naLNmzYqrXhbAKs2YdYIeDzz3evXqKfPLW98aebF+fH9QYwKlx3G2h65pzFTCuimAmULvv/++dJ9u2LBBuq8jCWfiWMU5nLBmEy7h7rWJF5ipg+E1FGnzB6sRow4KZmjgNUdvF3pYQ4Hpq3jv2x3CDAV6h1DfIxRHjx5VO3bskKU7IgXTy/G64OIJPmunTp1S5smGbkkeMAR27733yvHEm0j/7dYK+PHey8IhIT+wUGCaNGkkfyHeoCYEusUBORnWATlaYv34/gwbNky98sorUnUU00rxOgPWeRk0aJCqVq2a5L5YQyrIeYnE8MrWrVvDHrDgYO3e7Z5SoLgfcgbs1hHBIpzW9FpMf0Z+E6aDhgLTV4sWLep3CNUp/vjjD/k/ktOMkU9WqVIlr1VesWAf1q3BfosXdqrB+hoOskT6b8+RI4f8j8KU8YwBix+oyYEvvo8++shRPQR24csY8/ABqzWj5yCaYv34/mTIkMHjwQlnQ6gTA+ipQCIiVi+tWLGitIWLYRhSd8HOAmV2rVixQt6ryONxhZ6ct956S+3evVu3JED9B5xhw+nTp+UM2Illue1CwIEibJ5yj5AvgKRp9L7i9XT13XffyesBqJlhBdvBwgHITj0WJ/j777/l/0gFLKi0+vbbb0vlVW9w0EYPA3K6kACMkwW8l50Kr225cuWSvI9c4XOIXg1/PSeR/tuRx4XeRut1jlcMWGzAmgw4qODMOx6haFDZsmXlOhJTsYJnNMX68UN1/PhxGRZCAi6GtsIJgcHFixfDOosHvSvW7CcLAkUUBENysevZHrqhMZNm1apVso3eHnxZYm0Rp8HQx6ZNm/SWZwi+cD/07nmCfVOjRg2ZQea6jxYsWCBDQtgfgOAOMyBCCTiyZs0aNwcI63l6K5roC4bQ/P2deP+h2rB1pu8OvZcYOjl58qTse8xAQ6FGJC9v27ZN38s50COF9xICjHnz5unWpHAb/gZfhQuj9bfjO4YBSwqA7G18+YwcOVK3RBeCJZRzxiWYXBr0IuAAhDM+HBzxxYEPWrTE+vFDZeW0RGINECwzD1ZvTqjwHkFghWnSFpwBYmozpndjqARLyVswZIHcAqs8OgJL9Ih56nWynmssfPvtt/Icvc36siDIcA/WLIsWLZLZEgja3PcDps2XLl1agjpABVoMXbjvB6tHzA58Z8RLT5V1IAukhwUHWnwnYvq2r3xBHIhx0vLiiy/qlqSQw4ETA7z/sO/RG4DhV7w3vQWp6LXBbL9YQI/Ip59+Kt9pvqYK2xkOitbfHk/vR2+SRcCC7l9Eo+4XdON7an/ppZf0T/qHAyvOqpF8iymPv/76q74lelDKGW9qzKUPtpswX758klyYLl06OQPF73Kd1htpsX58p0J9F8iYMaP878/cuXPlQOEJvuD69+8vnwdXSChGO25HIrQ1RAfo7UL+DL7MLLfddpt0dbvCl2PJkiVtvWbIVfD0ufN0eeqpp/RPeYfp2cgvwnACgg6rN8gdhnQQcCDB0RMEcQg6t2zZIgGL+35wHULDQQM9T6jJ4woJ2naeM+CggwNROCFZ3H0f4u9A6QD3dlxwULXDClgC6enDdxF6q3AC8t5773lNVMbQGvLXfAXlCADQ+4KcMgt6bhBUugbfrjD0h/W9/Dl//rxMWfe0fzxdfvjhB/2T3qG2FL7LsKwCPpOe0gXQW4fhZATJvkTyb3cVTz1+XmGqULxDSXdURHW/FCpUyGO7+eWrf9I3lMy+/fbbjbVr18qUNEw9DWRaazhheixeLpS/D8XYsWPl9xQpUkSqt0ZbtB6/ip9pza7MAEBKpXtjHugNM7DQW/bZmdb8888/y/6wqux6g+mxZtAs9/W2PIB5Fmt06tRJbyWFJQ/w865Tbc2zOqng6wpTvD3BfrDDDGo8fu48XcwzPv1T/qES6M0332yYwa5uuQqv4d133y3VWv3p16+fvP8s+D5InTq1TLm1mAdfo3fv3norMbv7oUOHDrKkRDhhiQH3fYj3EN7v7u244LWwA1VQ8d74448/dIt9mCqL/Yfp+e7wXsOUXixv4csTTzxhNG7cWG8lGDRokJSV8Mbu6wB//vmnx/3j6WIGH/qn/LOmr+N/d5MmTZL3mj+R/tstd911l1T3DheW5g8zBBvBwoEud+7cicpH4wssQ4YMidYlwQeyZ8+eUlp9wIAB8mbHl50ZAcucenz5ux4MccBG2eWXXnpJSr8D3uwNGjQwzDMRWdcGZavxMzhImmdzRt26deVAhA9GqAHLqFGjZM2avXv36pboitbjBxKwfPXVV7L2kTejR4+WmiaBshOw4Mser+usWbN0i2cInnHwQb2QokWLJvnCwnsO73dfgRXedzjgW7A2U5o0aRK9p/CF7X7gwXPEsgg4MYi1999/X8reuwcmeH52X6NHHnkk0Xo55hmuvAaun1PskzVr1uitBPgu+Prrr20fLPAY9913n96KnD179sjfFIrx48fLPjDP7HVLYPD9hQOs+8H++eeflwO3L9if5tm/fDe4wrpGPXr0kOuu9YQQuOJAaX1/xhICMdRPee6553TLVXhNfv/9d73lWTT/diwHgeAoXFiHxSGQXFu7dm2Z1eI6KwSJUOimQztgHBHT9JCjgW5ZJCuiyxrdhUiiMj+sMusC02ORu4E8CHSNYhz+zjvvlJ/FjA1U00WtF0yzRVc0xi2RL4DZSeguRDe+3SEDX/B78BzRdY68nGiL5uNjCMMqz48xdF/wWvtKnMOy7JFa7dRKcvQ3dIBhG7zPsDwBEvGwL12hSx7vF29JjXDTTTfJ8JAF7zO8L1EvxIJS8q5DHth/eG/i+Zlni7o1drCSNf5G19o4+ExiWjreW3a47wf8jWDtB3yukdtjJYoDPvPo4sd+NwNc3eobcofch5ScyhoKCjbHAQmoSERFlWsLZlphWQTXoTdPrByOqlWr6paE6bcYukP+x6FDhxKtZI2hQeQbYXjMmt0WKxgWMk8wJXfMdagWzwv70gw8dItn0fzbMRQfiSU6ookBixsk1OEDhroreCO6Qh4GgpF3331XDoI48KLYEoryoJw1xtYx5ohcDSQ+Ag7MODAg/wVTo3PlyiUHHrQjHwAfcHxR4oJia0i6whsWj7Vw4UJZkwRTbEOdn48DMmY7IXnR34coEqLx+JiBZJXlR/6AlaiMA5LV7g6FvbytaYIDDgpy4Us3UuX58TzxfsCXiR3Iq8AMGAQu5tmZtGFcGlN1u3XrJtve1K1bV/JT8DqYZ9SyzhPWNkEgjRL+OOhgTN41nwWfB+R8IQB3Qn0MBBoI+PG5QY4aYBoocinwGbSjZ8+eMpsI60chaRT7ETkBKIuO/Bvcjm1XSK7EY2A/4HNqBw7Y8RawBJvjcNddd0n+B/JVrAM39iHep64BsSfIJ0KCs7WcB+D7E8m8+A5EEI0Cj4BgEo+D1wx5I044AONzhc+J67IO06dPl9wef6L1t+NnkWMUzCwwR9E9LclSsENCvsrIoxsdXeQYMzfPuqQb1Qxu9K0JKwSj7ZlnnpFtdMNjG13J6I63xrTNN7e0Wysao2seQwgWrPSK283gSbZDyWH58ccfpdvxhx9+0C3RFevH9wY5H2YAZZhnMonyFwDDA+YBXEq8IzcimK5yO0NCgOEr9zFsX8zAWN4LVld79+7dZajELoznuw7J4b2MbXQ3e4LPg/nl6HGl2VhAzglWnzWDeylLjyEyM+DTt9qHz6rr8K75pW6YQZDeSgrLNFSqVElv+Ybfhc80Pv+RFo4hIWulZtfvskAhDwu/A/sJQxZ28yXwvjMDJb2VGN6rnuC1f+WVV/RWbOFzkS5dOhnmt2CVd1/vJUu0/nbkJuG1GTJkiG4JHYeEwgxdv8HA2ZQ3mE+PMyyccaP3A//jbM8628WQTsGCBa8MQ6C7D8M5yBTHGb5rO1hdgeZrkahLEVE2zr7R2wLWwnyu97Fj48aNsnoyhjRQij7aYv34vvg6a8bzxpkNpsCiWzZSPSyAoUFUArYL76XHHntMZgNhSBG9V1hk0i7MOnMdksPfhm2r0q879MRgVhfOlDH0FGuoIovhWbyn8BphCCuYM0esNO06jRc9mb56afB4qHyNmYKo2+ILZodguA3vr0hDD12oPQ1Y9BC9V3ivBwvfb/hOxLRy9NZ5m17uDu871149V3ivukPvwuTJk1Xr1q2lJzzWU3UxMw3fbdb0Zswsxd9kp8cvWn+71YOLmX5xLSFuoWC9+eabciZVunRpOdPFrAdk7WMbybT33nvvlSgUZ+0VKlSQM3uc1SNZF6yFqcwvXWPp0qXSBjg7NwMgSd57/PHHDfMLRa57OxN2t3PnTiNPnjzyeOGAM7kNGzboLf9i/fh2+Dtr3rFjh2Ee1KQXIlB2e1jQ84TXHwmvdpkHTfkZ9NhNmTJFt0YGFtZDD1C3bt2kx8kJ8FkyD9SSGH/69GndGlnmQUISIV9++WXpafUFPRXoUY0n+ByYAZbeCs7s2bPlfYnvq0hBYm+ZMmVkZpNTFkrE642/e9OmTdKLEannFezfbs3OdO1RDBVnCcUpdEvjC9SVr252zCw6deqU3vIN3Y3o7saXsr8vSVfoxi9YsKAEVOGAWSh4g9o9qMb68e2qWbOmDK1gRsj8+fN161X4oNevX19vBcZuwILX9rrrrjM+/fRT3WIPpvdiqmIwwVSgMAwTjccJBLrFP//8c70VHcdtTsXHEI2vKeZOhFmQmTJlCuh7xh3eI5iJ4m92TKguXbrkmCFKwPdd6tSpjddee8248847gxqitCuYvx0nyBg6DScOCcUpDPkgmdaVr252JOJhbQc70N2I7m5U3PRV3tkVZshg5hGSvgIpkucNEsqQiIxhKjvDbLF+/EBgyAdJ0ZgZhtlc7jBLy1OybjjhtcXfh+TXQJhnWJLcF8nhKguGYaLxOIHAmkd2FzgMFwzT+oPEVSRMYhgtnqCSMIaeXWelBArvEVS1jnRiP4YnrarEToDhZRQsxGcY31GRTG4N5m9fvHjxlWrWcU0HLpRM4Gwdw05t2rTRLcFBFI+zJHSB4+wfbxUUHvMn1o8fDPezZiRMAmosYEgLSdbBsNvDAkjqNb/sJUGZ4hsSbcNZoCta8DlALwGGGyhw6E3G91S0e/382bJlizwvDO2GUyx6WFLhH/OPoWTgwoULMi0VZbqRjGi3RwY/hzMrXDCVF8vzI7HQSvQFJKViYTxfZ9mxfvxwwMcBZ0iY6oxkajMAk56MYGAKYvPmzdXTTz+tW3x75plnJCkbdU8oPuH9UqhQITV//nyvZdWdDO9ZJN/arTVDV6HEBaZ3I3E5HHWzwmX06NGSBI116Oz27Ntx9913y9pd9evX1y1RgICFkgcsG4CXNBIXT2W33cX68cMFSbBIaEPydCgC6WEB5DZh+QdMW6b4hKnwnqqexgskcCOZOZI5GMmZt6nIsVS1atUky2+EA3tYKCSYuoaFviIBU+wwZduXWD++0wTawwI4M+/SpYv0MDnpLI38Q+EwVOJFMcJ4LdCFzy+me3fv3t3n6soUH3788Uep1o7q2CgaGU6x6GFhwEIUIcEELIAlGpDsi4rJnpK2yXlQLwn1YDCMiCrV8QyJo3gPYgg23k4SKDFMfsB3CFaUDrdYBCycJUTkMFhiAOX3UaSMnA+z2FDICwX24j1YARQhvHz5shQmo/iFYpRYE2vIkCG6Jf4xYCFyIFRyDXSaM8UGFmPEmlWYdp8cYEE/rM+EdYCsytwUfzDtHwuCxmPytzcMWJIhjPLhrC8csEItZu1gocZAYIYPZkyECn8LutuR4Z7ShDOjnyIHdTGSW74RahI1btxYViqn+INFWzHjskePHroleWDAkgxhSi7G00OFlVexmi2m6yEJD2tY2IXhDORghALL1ePvQAIqklGxpDoCKCKKvLfeektOFMaNG6dbKB5glXAk7mPlcbulJeIGkm4p+UHhtVBgam+9evX0VsIq1XfccYftImqhPj6g+Na6dev0liGl661VsONBoNOaiZwGxeQwfXXBggW6hZwMSwTgezoaK+OzND+FDFMq0cMSKnQpuo7JI1LH6qMYq/dl37590hNjrTIdrIMHD8rfcuutt+oWJeW+UULfDIZ0i/N98MEHUj7eugSyKjNRrGEpAhSR69u3r8xcI+c6cuSIrOKOnvFIrIyP1eFdv8t27typb4keTmtORtB1i3WKMLUSwyfWWia7d++Wmgr+XmoEB++++65cr1y5skyJ69Onj2xDy5YtZYocltn3BBnpWJenXr16qmzZshK0WNMiEUTZ6VquXbu21LLA2hd4fFTBtWDZdjxHDBXFw2yMqVOnJgncUAk40uusEIUb8iG+//776FY1pYCsWbNGvm/LlCmjW8JrypQpckLqCseYokWL6q3IY8CSjHz77bcyHRaFnxYsWKCKFy+ubwkcig0heHBN2mrRooV8IMaPH69bEvvyyy9V3bp1JfIuX768Onr0aNCl9LF4HB7/zJkzukXJ7y1cuLAEAVhYkoiIUg4OCSUjtWrVkiGbggULhhSsAHoyXNfyAaxCi9/tDYIVQNdxlSpVQlr3B4+PqpuuPSx4fKxzgpVRiYgoZWEPSzLz6KOPyvgiAhaUyq9Ro4batWuXzPIJZEgIvSXIMsdS8ZbSpUtLcSx/8/pR3RVLrXfo0EG3BD4kBHiciRMnXnm86dOnywV5LERElLIwYElmMJ0Y65igNsSgQYNCmtaGvBcML1WoUEF6brJmzSpVWP1BfgmGpEqUKKFbgoPS4Ej269Spk9SBGTVqlAQ9KNRFREQpCwOWZOjEiROS3R8OyBfZv3+/5I7kypVLtyaF4Zv06dOrDRs2SC8PEmNDGRKynDt3Tm3cuFFyZ0qVKpX86goQEZEtDFgoZL///rtUxly/fr0MRz3zzDOqWbNm+lYiIqLQMWChkOEthClvGLbBdGj0xhAREYUTAxYiIiJyPE5rJiIiIsdjwEJERESOx4CFiIiIHI8BCxERETkeAxYiIiJyPAYsRERE5HgMWIiIiMjxGLAQERGR4zFgISIiIsdjwEJERESOx4CFiIiIHI8BCxERETkeAxaiKDl27JjasWOHOn/+vG4hIiK7uFozUYSdOnVKvfLKK+qmm25S6dKlU5MnT1aPPfaY6t+/v74HERH5w4CFKMIGDBigLl++rF599VXZPnr0qMqfP7+aOXOmqlWrlrQREZFvHBIiirBy5cqp7Nmz6y2lbrzxRpU5c2a1c+dO3UJERP6wh4UoyhYsWKAaNWqkNm7cqAoUKKBbiYjIFwYsRCFCMu0nn3yijh8/rtKkSaMaN26sNmzYoBo0aKBSp07ciYn25557To0bN06VKFFCt4bP+PHj1YULF/RWgrRp06qCBQuqSpUqJXk+RETxggELUQh+++039fHHH6uBAweqHDlyqL///ltyVn766Se1Zs0afa8ECxculLyVoUOHqmuvvVZt375dlSxZUt8aHhhmqlixourcubOqU6eOtB0+fFiNGTNGbd26VS1fvlxlypRJ2omI4gkDFqIQ1KhRQ33zzTfSi2HZsmWL+uijj9SwYcN0i1Jjx46VAKVZs2ayvXr1asljadKkiWyHy5EjR1SuXLnU/v37ZVaS5dChQypv3rwSSN133326lYgofjBgIQrBQw89pFq2bKmaNm0qw0Fw7tw5CRys/JThw4errl27ynVXGB4qVaqU3gqPL774QvXp00eCIwuGiLp06aIOHjyoZsyYoa655hp9CxFR/GDAQhSCbdu2qW7duqmff/5ZhndQXwXDMenTp9f3iK727dvLUNRTTz2l8NFGT8uKFSskiKlZs6a+FxFR/GHAQhQGqF6LHhPks5w4cUJNmzZN3xJdSORFcPLkk0/qFqU2b96sqlWrpt577z3VsGFD3UpEFF8YsBAFaeLEiTIc5OrSpUuqbNmyat26dbolerzlrwAScFFld/r06bqFiCi+cI4jURD+/PNPmXnjDoEK8lpiYenSpapw4cJJghXMDMKwEIaLiIjiFXtYiIKAnopZs2bJVObbb79d5c6dW4aELl68KNOaXWcNRcPgwYPVlClTJOG3bt260vbff//J8BT+f/nll1WZMmWkncguvJ/37t0rM9py5sypW4ligwELURCwHhCCFczAwYycf//9VxUrVkxlyZJF34MovmFGGabf33bbberXX39Va9eulWFQBOhEscCAhYiIEkFPXfHixWU40RpixGw4bCOIIYoF5rAQUbKAIboPP/xQb5ErnJc+88wzateuXbrFNwxpVq1aVW8luPXWW7lgJ8UUAxYiipq//vpLhhc8mTt3rr4WOFQbnjp1qmrTpo1uIVepUqVSPXr0UPXr15faQf6guCCm6Fu9Kwh4sH+ffvpp2SaKBQ4JEVFUIM+ndevW6rrrrlMTJkzQrQnOnj0rhe2+/fZblTFjRt1qD1a/xlpOixcvjlnBvnixcuVK1bx5c/XLL7+obNmy6VbfcIho27atyp49u3rttde4gCbFDN95RDYg2RBnqbjg7BOzJuxccPBF/RPrZz1d8uXLJzN5fIn144cDFl10H2awYDHIJUuWBBysIPkZZ/1YqyklBCsI9NCLhNk7wbj33ntVq1atZE0rO+eqCCQ7duyoHn/8cZmJhsRbolhhwEJkQ+PGjdVdd90l13GG+dVXX6lTp075vZw+fVqCAcwmQu0WrO782WefqRdeeEEVLFhQft+BAwekzZdYP36gLl++LFO/J0+erEaOHClJnBYcKHHgbdeunVq1apW07dmzR7355psyZBSIvn37Sq8NKvwmd0OGDJHXD6txY9FMvLbB6N69u9q4caP6/PPPdYtneL8guMFyEwhqseTDiBEj9K1EMYAhISLyb9++fUbOnDlxWmrceOONxu7du/Utwbl06ZIxZ84co3jx4kaxYsUM8yCvb/Es1o8fiLZt28rvhvHjxxtVq1aV62PGjDFKlixpLFmyxBg7dqxx3XXXGXv37jU2bdpkXHvttYYZuMj97Fi3bp1xww03GGaQo1uSr/Xr1xuffvqp3jKMDRs2JNoO1DvvvGOYQYhx5swZ3ZLYyZMnjQIFCsh7zfVSr149fQ+i6GPAQhSA5cuXG2nTppUv79KlSxv//vuvviV4+B1169a9coD3JdaPb0Gw1L9/f2PChAm65aqzZ88aadKkuXIwvHDhgpEpUyZj8+bNErA8/fTT0g4PPvigMWrUKLmeO3fugAKWGjVqGJ06ddJbFIhTp04ZWbNmNT7++GPdQuR8HBIiCsADDzygzAOsXEdlW6wlZH6OZDtYyNuYNGmS+vrrr3WLd7F+fMDyA8g3wVIAGMpxh6Eo5FhgQUgwgxcpsoekW0DejOXmm29OtG0Xho5++OEHGRoJBoaoTp48qbcSYD9iKMvJsFbVsWPH9NZVaA8E8omeffZZNXr0aN1C5HwMWIgChC965F8AqoEiGTFUOIAgcdSOWDx+165d1YMPPnjlgkClc+fO+tbEEJyg6NiiRYtk21oeoHTp0rLtatOmTapGjRp6yz5MY8ZyCEgitevQoUOqS5cuqlKlSjLrBUsoPPXUU7KKNQIVBH92pvxGGwI/5PdUqVJFVuFGLgue60svvSR5LHjdMAU5UA8//LDkxCCHiSguoJuFKKXA8IenYYxAmQdgo3LlyjI0kypVqoCGU8Ihlo9vHjiNxYsXywXDQp6sXbtWhmzwvMwDrAxlwdKlSw0zyDCmTp1qfPDBB8YXX3wh7RDIkFCdOnWMhg0b6i3fkJuDfJm8efMaH330UZJcnc8//1xyeLJnzx7WPJ5wWLZsmVG0aFGjQ4cOSfJNkPdToUIFI3Xq1MbGjRt1q30YFrrmmmuMKVOm6BYiZ2PAQikKDoiPPPKI3grN0aNHjZtvvlmChsyZM0uORjTF6vHtBCyWY8eO6WuJIVHWPThAQvGJEyf0lnfnzp2TZN1BgwbpFu+QP/PEE08YhQsXNn7//XfdmlTNmjUdl1D6+uuvy9/51Vdf6Zak3njjDUnADjbQuuuuu4wXXnhBbxE5G4eEiIKEQlpz5syRQmjI2zAPjOr48eP61siL9ePb4a04mXmQldwV8ztIfffddzIkg2nW119/vb6Hd3/88Yc6c+aMrdWnO3ToIMXosJI1Fqf0pkKFCqpy5cp6K/ZQVRYrbA8dOlTVrl1btyaF540hrmDygKB8+fKSi0QUDxiwEIUAB00UdYMdO3ZIEmigCZChiPXjhwoBCyrUvv766+rTTz/Vrb4dPnxY/vdXe+XHH39UH330kQQt5cqV062eYQXi6tWr663YQjIwirWh7g7+9wWl8xs0aKC3Aoc8IK4PRPGCAQtRiBo2bKj69Okj19FbgDPjaIr144cCRfDQi9C7d29VqFAh3eqbFbD4Ky2PZFoERM8//7xu8Q4HfQQtrvCzKJ4WbSjohllQzz33nN+eEyxIiERcd9Y+8idr1qyS1IseKyKnY8BCFAZYY8Xqun/77bfDXjnWn1g/fjRZB2PMbPJl4cKFckB3D0TswkwkzCKKNjxvwNpKwcCsrJIlS0pZfX8QsICnqdJETsOAhZIt9Dxg6qbrBWuorF69Okk7LnaHJDzBmTCCBEznhX/++Uf+j5ZYP340HTlyRGXIkEHWVPIGw2LI5/GVt2JB/g/WJHKHAHDevHl6y7du3bp5fE95urzzzjv6pzzDc0FeUoECBXSLd7t27dLXrrrhhhtkH2F9Jn9wX3Ba7hORJ1ytmZItdKtbxcssSNjs1auXx+AEiaA4EAYLZ6lY5wWBElYPjrZoPT7qsPTv31+uo4Ac6pn4gueVJUsWlTZtWt2SGA7Q2Pd2VwFGvguGkLA+kq+gBT0rSExesWKFbvEMwUb79u0TDUktX75cckkeffRRW88L97UK4/mDIMHXIo+oETNu3DgJpHy9H2fPni2BxjPPPKNblNq+fbvUVqlVq5YsfunPzJkzZThs7969tgIkolhiDwslWzhYISnR9ZInTx45CLi34xJKsIKDFbrwsRpxLIKVWD++L3he1iKHniAh1lNPgTfIXcF5lr9eJDwuqvK6B62uULgOvVOuwYoVLGBmERaZtAOzmzy9pzxd/K1IjeeNSsG//vqrbkkKf/v06dNVixYtdEtCBeJZs2ZJENOvXz/d6hv+TsiVK5f8T+RkDFiIQoQDYp06dVThwoVlZeJoi/bjI0cCB0dc3Mvbe7Jy5UpZUsCb3bt3y3O3C70x4G8YY9CgQRIgYJaQJ8uWLVPDhw+XHhtXmDmD6ru4vUiRIro1ejA9HYm06PXxtCLzvn37ZLVtVL/FsgcWJAij+i2ed9GiRXWrbwh8EACmT59etxA5F4eEKEVB1ze63O3mJviDXIlGjRpJgiNqongb9oiUaD0+SvMjQPEF05NdYSho/vz5MkzlabgBQxcohY8eBSuXwo6ffvpJ3X///dJrc8899+hWzzAs2LNnT1l3CQm0+fLlkwM+elbQs+NtBhF6KkaMGBGzGiUY7ho2bJj09jRv3lxyk/7++2953uih6du3r+S5uENCMqZ7IwjEMJw/mDaN1w2/l8jpGLBQihLugKVNmzZq69atMp3Y0wEk0mL9+N6gZwB5JjjYYu0j92Dnww8/VPnz55c1hiZPniy5FHahRwlDMOgdwWtpB4Y+fv/9dwlg0Jtz2223+cxNQe5K06ZNJVDAzwSz3lE4YP8gqEMAgv2FvBxfybTodcH9EWyNHz9ederUSd/iGYrOIQAK1+eBKJI4JEQpCvJU/NXvsAtn7phxhOmv4QgW7K6WbIn14/uCYmTdu3eXXhT34QlUtUUuEYKCYKbTYvgCFVp//vln3eIfElDxM0hGxfPxl0ibN29e6XXA4pLVqlXTrdGXLl06VapUKfX444+rO++80+/Mn5w5c0qwiKRoOwXl0PMUq2CMKGDoYSGiwGANl0KFChmHDh3SLaHBAnyBrOkS68e3yzzYGosWLdJbSTVv3twYOXKk3rKvb9++sj5QJB0/flxfiy9Yj8nO2kLbtm2Tdah27dqlW4icjQELUYCslX/D9UU/e/ZsI2PGjIZ5tqtbfIv149u1atUqCapg8ODB8r+7fPnyBbXS8JIlS+Rg+8cff+gWChQWVyxdurTeInI+DgkRBQC5FqjjgmRSVFENFmbaIEkWSaOY4YN1Y9D170+sHz8QSPrE8Buq8N5333269SqsfXTu3Dm/awJ5gtwLzOAZPXq0bqFAYVo0XnuieMGkWyKbUDIdORB169ZV9957r271DfkamMGDOilI/EQF0rVr18rB2vWjh/VjkOTpS6wfPxh4bOSLuE6bRdIstrHWD2b6BLuMwPvvvy/1RlAM0F+ZfkoM+x2zs1BoDvWKiOIBAxYiG5CAiV4Cu9VMA4FESRx0kWDpTawfP1wwO2jRokWSFFq/fn1Jag2mhwUw9Rc/izor/mbDUGIIVpD07G81aCInYcBCZAOml3pabyYcMHPJKobmTawfP1wwRRhDUZhKi9k3oZ7dL1iwQKZNb9y4UaY6k3+YAo+6OuvXr09UeI7I6RiwEFFcQ70XFIMLZfHKlALVgTGc+Mknn9geViRyCibdElFcQ1IvcmVQNI28Q+4Q1h764IMPGKxQXGLAQkRxDSs2Y8YL8nxQ3ZWSQkc6ghXkrGCBTKJ4xCEhogChOium7Ia6bg8+ehjKQB4BFukLBNaMwSJ9oUJuDJYrQC5J1qxZdWv8QlIyZwx5hlliqPhLFK/Yw0IUIMywwLTQUGBWDhbj+/XXX6WmSsOGDa8s9e/Pli1bfK5+bBce98UXX1T/+9//ZPZO586d9S3xi8GKdwxWKN6xh4UoQKht4m8tGn9Q+GzkyJGqTJkyso1aJKizYndII9TngNk6CHowjGLNFMFsG6ysjECKiMhp2MNCZBOGghBY7N+/X7cE5+DBg2r58uWJKtUWK1ZMapJcunRJtySFIAWr6mKxQ1/3s8Na3dl1Wiuew7Rp0/QWEZGzsIeFyAasgIvps82bN5eeiHXr1ulblAQQ48aN01ve1a5dW7Vq1UotXrxYVa9eXQqfWfbs2SMBDIaK8uXLp1uvQrDSt29f1axZM+mFueWWW64U/cJH+Omnn/Y7pITkVPws8m9QuO2nn35S33//vb5VqYkTJ6pBgwZJFVwiIqdhwEJkA5bhR1Lq3LlzpVJrKD0RGPpB8HLmzBndotTOnTtV4cKFJQG2QIECuvUqa92dkiVLymwPrAEUSpVSlLRH/gz+HguCrsGDB6tdu3bpFiIi5+CQEJENpUuXVvnz51ejRo1Sbdu21a3BQU8KamK49rD8/fff6tprr/U68wfBDIIVWLJkiXrwwQflerDwHNzL/OM5FCxYUG8RETkLe1iIbPrll1/Uk08+Kb0dQ4YMkSEiCHRICO644w4ZgsH/gDoiuCCPxRc8NtYUwiKGqVKlkjZ8hJEo62+dIdchoQMHDqj7779ffp+Vx9KuXTtVvHhxWZuHiMhpGLAQ2bR161YJDBB4YIZNKL0c+F3IScGifajSip4bBD05cuTQ9/Ds448/lvVzvvjiC90SvClTpqiVK1dKXg5mCy1dulRNmDDhSiBEROQkDFiIAoDgAtOJ06dPr1uCh5wULNqHAnSlSpWSHhBPLl68KI+JS7169aQODBJ/wwHDQAieECjddtttupWIyHkYsBA5XNOmTaU+CoKKoUOHyuwerLBMRJSSMOmWyOEwowe9K6jiymCFiFIq9rAQERGR47GHhYiIiByPAQsRERE5HgMWIiIicjwGLEREROR4DFiIiIjI8RiwEBERkeMxYCEiIiLHY8BCREREjseAhYiIiByPAQsRERE5HgMWIiIicjwGLEREROR4DFiI4sSxY8fUjh071Pnz53ULEVHKwdWaiRzu1KlT6pVXXlE33XSTSpcunZo8ebJ67LHHVP/+/fU9iIiSPwYsRA43YMAAdfnyZfXqq6/K9tGjR1X+/PnVzJkzVa1ataSNiCi545AQkcOVK1dOZc+eXW8pdeONN6rMmTOrnTt36hYiouSPPSxEcWbBggWqUaNGauPGjapAgQK6lYgoeWPAQhRjSKb95JNP1PHjx1WaNGlU48aN1YYNG1SDBg1U6tSJO0HR/txzz6lx48apEiVK6NbwGT9+vLpw4YLeSpA2bVpVsGBBValSpSTPh4goWhiwEMXQb7/9pj7++GM1cOBAlSNHDvX3339LzspPP/2k1qxZo++VYOHChZK3MnToUHXttdeq7du3q5IlS+pbwwPDTBUrVlSdO3dWderUkbbDhw+rMWPGqK1bt6rly5erTJkySTsRUTQxYCGKoRo1aqhvvvlGejEsW7ZsUR999JEaNmyYblFq7NixEqA0a9ZMtlevXi15LE2aNJHtcDly5IjKlSuX2r9/v8xKshw6dEjlzZtXAqn77rtPtxIRRQ8DFqIYeuihh1TLli1V06ZNZTgIzp07J4GDlZ8yfPhw1bVrV7nuCsNDpUqV0lvh8cUXX6g+ffpIcGTBEFGXLl3UwYMH1YwZM9Q111yjbyEiih4GLEQxtG3bNtWtWzf1888/y/AO6qtgOCZ9+vT6HtHVvn17GYp66qmnFL4a0NOyYsUKCWJq1qyp70VEFH0MWIgcANVr0WOCfJYTJ06oadOm6VuiC4m8CE6efPJJ3aLU5s2bVbVq1dR7772nGjZsqFuJiKKLAQtRjEycOFGGg1xdunRJlS1bVq1bt063RI+3/BVAAi6q7E6fPl23EBFFF+coEsXAn3/+KTNv3CFQQV5LLCxdulQVLlw4SbCCmUEYFsJwERFRrLCHhSgG0FMxa9Ysmcp8++23q9y5c8uQ0MWLF2Vas+usoWgYPHiwmjJliiT81q1bV9r+++8/GZ7C/y+//LIqU6aMtBNFEuoSoSYRlp+IVS4XORMDFqIYwHpACFYwAwczcv79919VrFgxlSVLFn0PopSFi3ySPwxYiIgo5rjIJ/nDHBYioiCcPn1atWrVSp08eVK3kKvXX39dzZ07V2/5x0U+yR/2sBBRsoWcnFWrVqnKlSvrlqv+97//Sa2ZIkWK6Bb7zp49K1O8e/bsKUsZUFIY5kTPCOoK1atXT7fax0U+yR17WIgo2Ro5cmSSqeOWH374QX3//fd6yz7UzEFi8tNPP81gxQesOTV79mzVo0cPKYwYCCSgI3cFS0EwWCELAxaiKEDNlVSpUskFpe3R1W3nkjFjRklAtH7W0yVfvnwyk8eXWD9+rDz++OP6WlIvvPBCUFO1kWORM2fOFFFE76+//pJekpUrV+qWwGTNmlVNmDBB1rzC77IDi3xiyj96WG677Ta1adMmfQuldBwSIooCDCE88MADsjoz1gz67rvv1IMPPqhv9Q/TnbGS84EDB2RxRNRFwRf6rl275Pbx48erZ555Rq57EuvHDwRyQzDlO1u2bLJ+0Z49e2QtI8yqAhzQkJD5xx9/SEVeq26Mp3YsffDII49IwIap5OgRwcETs7PQu4Jp265Vff3ZvXu3Kl++vOwD5FgkZ/hbn332WfXiiy+qDz74QD333HMyaycYGNq5/vrrZRFPX6K1yCfFKQQsRBR5+/btM8wzc5wgGObBzjAPCPqW4Fy6dMmYM2eOUbx4caNYsWLG5cuX9S2exfrx7Tp//rzRsmVLo3bt2sbevXuN9u3bG71795bbpkyZYnTt2lWub9261ciXL59hBile23E9U6ZMhhmsGGZAY+TKlUuuHz9+3OjcubM8TiDq1atn9OnTR28lb2+99ZbsQzADVmPQoEGGGUzKdqDWrFljpE6d2li3bp1uSWrYsGHy3nS/bNiwQd+DUjoGLERRtHz5ciNt2rTyRVy6dGnj33//1bcED7+jbt26Ejz4E+vHtyBY6t+/vzFhwgTdkljfvn3lArNmzTJq1qwp1ytUqGDMnz9frkONGjWMUaNGeW1HwHLzzTfrVsMYOHCg0bBhQ7k+ZsyYgAKWn3/+2UiTJo1x5MgR3UKBqFatmtG8eXO9RRQ45rAQRRGGZcwDqVxHYiESQs3PoWwHC3kmkyZNUl9//bVu8S7Wjw9YfmDJkiWyFACGe/wxz8yvPEcM4WB4y5I3b16ZjeKtHZBnYzGDl0TbgZg6daqqWrXqlaGpQGCNKFRwdYd2p8NQoPvzDOZ5Y1XyL774QobtiILBgIXiGg6Sd911l3r//fd1i/MhL6Bdu3ZyfcaMGVIWP1SYkeEvP8ASi8fv2rWr5MxYFwQqmO7qjWsQhWJilipVqqhFixbprYSg6+GHH/ba7u7XX39VTzzxhN4KzJw5c1SDBg30ln+YTfTmm2/Kc0OezJAhQyRAfOmllyRPB/sLq3M7EfJ9kGxbu3ZtSTJu27atatOmjdqxY4fsQ+v9EwhMLcdrGczMLCJhfjEQxcz69esN80xbbwVn9OjRhnnWbGzatEm3ON9///1nmF/gMjSD5x7IcEo4xPLxzQO4sXjxYrlgWMideUZvVK1a1XjkkUeMQ4cOGa1btzZuvfVWwwxy5LbHH3/cGDdunDFx4kQZ1rF+xlP7sWPHjDvuuEPeI59//rnkZVgCGRJC7gX21ebNm3WLb8uWLTOKFi1qdOjQwThz5oxuTYD3KYawkNOxceNG3eoM2MfY73iN/vjjD92aAPvYDPaMbNmyGSNHjtStgSlfvrzx/PPP6y2iwDBgoZjCweX111/XW8HBASFr1qzGCy+8oFviAxIakV+BA2HmzJltHwzDJVaP7y9gsePEiROSCOrOW/vJkyclmdcVgpguXbroLd9ee+01I0OGDB5/tzu8n6+77jrjq6++0i1JvfHGG5L4HK5E5XBYtGiRkTFjRqNfv36SUO3JqlWr5P0SbCJst27dJEGbKBgcEqK4d+211yrzLFwWS4unMukoQ45hBvPgJgu/YagCq9RGS6wfPxSYIot6Mu68tWNRSdSTgd9//13t27dP/fPPP7YLv23dulWVKFHC4+92hTwXrGw9dOhQGU7xpkKFCqpSpUpB59OEG6r+4vWvXr26DAEhb8iTsmXLqjx58qiSJUvqlsBYU8KPHDmiW4jsY8BCyQLG1M+cOaM++eQT3RIfypQpIzVCAPkBqDcRzUTMWD9+LCAoQ24JEnDtlow/fPiwBCy+IFju2LGj5FThf19QIyaQfJhIQwE9FP9DwTZfELDhsxZsoJU7d27536rfQxQIBiyULNx6662SJIgZMEaIs168we9FiXFr9okrnKGi4FUwUDG1T58+ch0F3XCGHk2xfvxou//++yVJO5BiZAhYUMjOl88//1yquaLAmr8DOt6vngrW4XGiDT0eSITFcgOo4OtP37599bWrMAMKxfj8QeVbwMwjokAxYKFkA70FCBpw0I0ErGuCmQ6epqcGuy6N5bXXXrsyhPD222+rzz77TK5HS6wf3+kQSKDiqi+otAs1a9aU/wOFqdkYanGdnh0NoT5vwM9ikUl/rIDF02eIyB8GLBQVKPNdo0YNmWrqekHXPKZ2urdjLH39+vX6p/1DzgB6PgoVKhSxKc44M/dWjj3YdWksOCNHkFC8eHHZRn5FNMX68Z0MQ2ToEUC9GV9QXwT5QHYW6/M0JHLDDTdIbgdysvzB0Kf7Z8bb5amnntI/5ZlVF6VYsWLyvy87d+7U1xLDWkOo8eMP/kaIl1wpchauJURRgbfZoUOHkgzXoN4DvjDdD/Y4gGK821vynwV1HVDPA0mjWGRt2LBhUucCQzQFCxaUx8OaNwiYihQpor766iupJ1GqVCn5eW/r0mANmjVr1qg///xTAhUkCwISDj/99FM1d+5cKSCGYlh4rsGsS+MOZ51IAsUQzcCBA3Vr9ETr8VGHBSvxAgrIDRgwQK57g+eFpNm0adPqlsTw+iGQ9PdeCUWGDBlUz549fe4X1CoZN26cvBdxf2+wgjEO2K5rL6FnEOs8YVjTX08OnDt3znYvBQIgX8NZSBRu2rSpvIerVaumW5PC5xcJuVhXyILnMH/+fHnf2AnUcH8keyPg8hdIEbljDwtFBQ7qqD6KgMD1gi9SzOxwb8d9/R2AUJgLeQj79++XAwUeo1WrVnKwcP1Sxe3Dhw+Xx8HsDBxYAF/U3377rfwOrOp77733Sg4Czn5RXA3Bh1Uwa/HixfIzgDwWfMF/8803UhANRcAwDBXKkBB6h9CtjkqqsQhWYv34vvgbbihXrlzEkzjxPkVA6gueJxaJRGE1b9BzNd0M0lu0aKFbEir/YrFHBDH9+vXTrb7hPe7+mfF28Zd7g9lK6BnytY8R+GPYsEePHrolYZFKBDA4EfC1KrYrBHNgJd8SBYIBC8UlfPHjAIEAA4GHNd0UXc7NmzeXAAa5AAhikOCIZEIc2DDUtHbtWrnvyJEjZZgKihYtKrNAcDDBz6JXBT+LL3KsHOsaAOH343ehcilKjeMx7XSne4PAq06dOqpw4cLynKIt2o+PAz8O0rjYmYbub7gBvWd47pGEHhx/wxiYFowgF72FOJi7w1RqDB1iGBQrZlvQi4dewWXLlsn7MNpwcoCA/o033pAEXHcIZhGYY0YVPksWDA91795deobsPm9rqBE9lUSBYsBCcQmzWvBFijoi6dOn160J8OWKYAVfwu7Qa2MNS+HAGei6NIBABkJZl8aC/Agc5FAjBN3kof6+QEXr8V1L8yPAw+uGC4IWq90dhg+QV4MeMk9woJwyZUpU8m1wgEVw7A+miGN/YmozeiRmzpwpJfgxbIkpw7ieL18+fe8ECJoxrIVeOgTHsYAeRdQxql+/vurUqZPMeMK+79Wrl3rxxRfl9XMfLipdurTKnz+/zMyzei39wVAtMGChoJhf3kQxE2ylW/PgIeXlvTl8+PCVpfG///57wzxDl+soL46KpdCuXTujY8eOch3Kli1rmAdBY/r06UapUqV0q2GYX9bGiBEj5Hru3LmlfDmYByPD/KKX64GUeXeFsvP3339/0Mv2hyrWj++NGSAa5oHT+OWXX4wyZcro1quwv7/99lvjyy+/NMwzf90aOQMGDDBy5cqlt/xDVV1UgzWDMnlPuZfnd4fKt61atTJOnTp15b0WC6i8u3PnTtm3P/74o3xefEHl20KFCsn1wYMHy/++oIrudddd56gKvxQ/2MNCMYUEQztJhu7QRe8tCRPMg4sk95nvcTVv3jxZbA+JjUh4RMIiut8HDRqk9u7dq8aPHy+9CzjLvPPOOyXp9KGHHlK9e/eWPBUkLVqLvWGoCLOQzAOlLLCH7v1gIYlz9erV8hgYegqV3dWSLbF+fF98DTcg0Rpn6I8++qj0wkQD8jwwdIPhJzvQY4XEbuR24D3lb+YPhiwxjIRk5FgWlEMPG5LVsW+R72VNQ/YGydDIkUFv0n333adbvcPMP8xcinZPIiUTCXELUcp1wsv6M2fPnvXY82AGPMY///yjtxIEsi4N4IwaZ6ZY3C8csLBfIGspxfrx7UJPF9a48aZ58+ZBL8QXCPSQmEGI8emnn+qW8MP7MB57HrBv8JmwI2/evMaECRP0FlFg2MNCKZ639WcwE8NTzwNyZqxeoWDWpUHdmREjRsisonDMlkAuCHqHkNBpR6wf365ffvlFlltAfgsSnD3BtOgqVarorchBDwl6HPB4kYL3YTz2PGDfuOeReYJZSCjA99hjj+kWosAwYCEKQaDr0iAJE4mMqF3hOuMiUEgMRqBwzz33yAwfJHlatWV8ifXjB8LfcAPWPsLwnr81fsIFQRmSfFlWPjiYgYfZXhiqJQoGC8cRRQmK1KEwGNZsQc0XO5CvgRlLmKWEGhaohIpp2ThYu350MasDtWF8ifXjBwOPjZldrmfwmIaN7ffee0/O2qO1jAAWB0SQh2nLyG8i+/D+wb5DCQLkhxEFgwELURRs2rRJeglcp0eHCxI2UakXiZ7exPrxw+XDDz9UixYtkuRUTMGdMWNG1HpYAMnZWBwSSdx2hkEoAWq8YIgPPXxEwWLAQhQFODtHrY1IQK6NtzWOLLF+/HBBLRQMRWFdH9QFifbwAr4ukauEXirUJyH/kLdStmxZtWLFipCGIYkYsBARBeDAgQPSW4X1pLC6MvmGYUgUx0NBOqJQMGAhIgrQ8uXLVceOHaXGD6u2ete3b1+ZacecHwoHzhIiIgoQhoVQar9x48ZRWRogHr3zzjtS3JHBCoULe1iIogzVWTFl11elXjvw0UUNGCykh1V5A4G8gnDUYMHMoUOHDsmaMv6quSZHSGLOlCmT3iJXeG8EU8WayBv2sBBFGVaZ9rWUvx2YlfPUU0+pX3/9VWqqYDkBHCDswIq8vlY/tgszP7C6M6Y4o4w+Fs9LaRiseMdghcKNPSxEUYbaJqgtEgqsbYNgoUyZMrKNWiSos4J1kewI9TngsUaPHn1lmipWfS5XrpyaNm2aKlKkiLQREYUTe1iIogRDQQgs9u/fr1uCc/DgQUn6dJ0iWqxYMalJgsDBGwQpSBLFYoe+7mcHAhNU97VgaQMMC2HKMRFRJLCHhSgKsBIvkg+bN28uJd7XrVunb1ESQIwbN05veVe7dm3VqlUrtXjxYlW9enV14cIFfYuSQmYIYDBUlC9fPt16FYIVzNho1qyZ9MLccsstMssF8BXw9NNP+x1SQlCCn0X+TeXKleU59OnTR9+qVMuWLSWfBmsVERGFGwMWoijYsGGDLNWP2h2o1IoeimBhOAbBCxYGtOzcuVMVLlxY7d27VxUoUEC3XmWtu4O6IS1atJA1gKyAJRiYJYPn0KNHD92i5PcikdjusBQRUSA4JEQUBaVLl5Yhk1GjRqm2bdvq1uCgJwXr6bj2sGBBPszS8TbzB8GMVeQMKw5jBeRQ4Dm4l/nHcyhYsKDeIiIKL/awEEUJ1lJ58sknpbdjyJAhV+pTBDokBHfccYeaOHGi/A9YCRcX5LH4gsdGlVYsYpgqVSppw1cAZhz5W2fIdUjoyy+/lHV1Zs+erW9NCMomTZp05TkREYUTAxaiKNm6dasEBgg8MK04lF4O/C7kpKDcOVY0Rs8Ngp4cOXLoe3iG/JIFCxaoL774QrcED2vpIBemQoUKkmyLIa+uXbvqW4mIwosBC1EUIbjAdOJwrPSLnJSNGzdK3kipUqWkB8STixcvymPiUq9ePakDg8TfcEDODGY9YcgpV65cupWIKPwYsBAlc02bNpUkWfS+DB06VP3000+ywjIRUTxh0i1RMtevXz/pXUFVVgYrRBSv2MNCREREjsceFiIiInI8BixERETkeAxYiIiIyPEYsBAREZHjMWAhIiIix2PAQkRERI7HgIWIiIgcjwELEREROR4DFiIiInI8BixERETkeAxYiIiIyPEYsBAREZHjMWAhIsc7duyY2rFjhzp//rxuIaKUhqs1E5FjnTp1Sr3yyivqpptuUunSpVOTJ09Wjz32mOrfv7++BxGlFAxYiMixBgwYoC5fvqxeffVV2T569KjKnz+/mjlzpqpVq5a0EVHKwCEhInKscuXKqezZs+stpW688UaVOXNmtXPnTt1CRCkFe1iIKG4sWLBANWrUSG3cuFEVKFBAtxJRSsCAhYhi5sKFC+rzzz9Xu3btkutVq1aVHpUMGTKo22+/Xd8rwYYNG9Rzzz2nxo0bp0qUKKFbiSil4JAQEcXE8ePHVZs2bVTZsmXVwIEDJbkWgUvlypVVzpw59b0SLFy4UI0ZM0Z6WG677Ta1adMmfQsRpRTsYSGimOjXr5+qWbOmqlChgm5JUKNGDQlMLGPHjlXbt29XzZo1k+3Vq1dLHkuTJk1km4hSBgYsRBQTr732mjp8+LB64403VKZMmXSrkuCkSJEicn348OGqa9euct0VhodKlSqlt4goJWDAQkQxcfLkSdW7d281depUSaCtVKmS6tWrl8qdO7e+BxHRVQxYiCim8BW0bds2NX/+fOlRQUXbNGnS6FuJiBIw6ZaIom7ixIn6mnnWlCqVzAjq0qWLJOAi8ZaIyB0DFiKKOvSknDhxQm8lwDZ6WzALiIjIHYeEiCiqjhw5ourVq6fKlCmjbrnlFlWoUCG1d+9e9b///U9yWvLly6fvSUR0FQMWIoqq06dPy/8ZM2aUEvuYKVSwYEGVJ08eaSci8oQBCxERETkec1iIiIjI8RiwEBHZgBwbbzOY5s6dq68RUaQwYCEi8mPPnj2qTp06avny5brlqrNnz6o333zzSm4OUUpx8eJFyUNDIn00MIeFiCJq9+7dklRrQbItaq/4g68mrOD833//6Zak8HtQpr9kyZK6JXKaNm2qHnnkEfX000/rlshJLvuMkq8ZM2bIul4oQ/Drr7+qtWvXSn0l91XWw4kBCxFFXLt27dQHH3wg17GGUN++feW6HZcvX5Yy/phNhCq4P/30k1q0aJH65Zdf5PannnpKffLJJ3I9HPB4+DI+f/681IZ59tlnVYYMGSRgqVixovr777/l8tJLL8nMJvS+TJ8+XbVq1Uplz55d/5bQxdM+o5Tl3Llzqnjx4tLjeNNNN0lbt27dZBtBTMQgYCEiiiTzjN+oVKkSTo4M8wzfmDNnjr4leOZZnfHYY48ZadOmNfbt26dbQ9e2bdsrz2/8+PFG1apV5XqTJk2Mhg0bGuZB3zCDCaNUqVLGpUuXjE2bNhnXXnutYQYucr9wiad9RinLxYsXjdatWxv79+/XLYbx3nvvGVmzZtVbkcEeFiKKiqNHj6q7775bisRlzpxZrVy5Us7SQjV06FD53e+++65u8Q09Iui6RtG6li1b6tYEOHPEc/vnn3+UGYTIGL35JaxWrVolvRw1atSQn0HeCnpTcDaJvwE9Lfh7br75Zv2bwsMp+4zIF4QRDzzwgLrnnnvUsGHDdGv4MemWiKIiR44cavbs2eq6665Tp06dUk888YQ6fvy4vjV4WOH5zJkzMgTiz7p169SSJUvU0qVLJXBxh+eFIAXDQYBFGPG8//33X9m28kgQzOTMmdNWXkkonLDPgoED2ODBg6/st0hBYIngKxAfffSR2rdvn95KPjAs+dtvv+kt//A5+OGHH/RWUnb3E17rtm3bqipVqqh33nlHt0YGAxYiipo77rhDTZgwQa4jt6JJkybq0qVLsh2KMWPGqOuvv15vJda1a1f14IMPXrkgUOncubO+NTEECOjBQL4HIIcFCaylS5eWbctff/0lQUuRIkV0S+TEYp+FAvkzWMgSCcqZMmXSreGHPKL27dur559/XrfYgx6ygQMHSmKzE+C9VKtWLek9CxZ6DBHI3nXXXbrFPwQY6DmcN2+ebknMzn5CT2PHjh3V448/LgEqEm8jCkNCRER2jBw5Ul8LTe/evSU3A5cXX3xRt0ae+SVtLF68WC79+/fXrYmZX7pGjRo1JGdkyJAhxvLly6XdPHs06tWrZ8yaNcsYNGiQsWHDBmmH3Llzhz2HxV2s9lmgRowYYQwdOlRvRQ5eix9//FFvBQb5O3fffbfkYsTSrl27jIceesiYO3euUbt2bePrr7/Wt9j322+/GWZwqLcCg7//3nvvNcygRLck5ms/HT58WPK6zIDHWLdunbF69WqjRYsW+tbIYMBCRLbdfvvt+lpokKyK5E/rADxp0iR9S2TZCVgsx44d09euwvP21J4zZ07jxIkTeisyYrXPAoF9U6JECUkYjiS8fg0aNNBbwenTp4/x4Ycf6q3YeOutt4yjR4/KdQQFCIRPnz4t23bhPb1x40a9Fbjvv//eaNq0qd5KytN+OnnypFGgQIEr70XrgiAykhiwEJFt4QpYAF96xYoVky+6DBkyyOybSAskYPHn8uXLxoIFCySQwFlqNMRinwXi1VdfNTp06KC3Igczt2bMmKG3grN582Yjb9688jrGq2XLlhklS5bUW8HB+zdPnjzGli1bdEtiTtpPzGEhopjIkiWLmjNnjrrhhhtkdk7dunWlbki8ML8/lRn4qNdff119+umnujWynL7PvvnmG3lOnmBfYabV+vXrJc8F90WOxBdffKHvYQ8SbVFPpmbNmrrFs99//12NHj1aqhDPmjVLXi9XyFVCjk3E8y7cIHkayanIIUKCN2aA4XmawZ7av3+/vpc9vva3Be8PvD+HDBkiuVB4fFepU6dWtWvX9rq8RKz2kycMWIgoZlAlc+rUqeqaa65RBw4cUPXr1/dZpdVJ8EWPGSq9e/dWhQoV0q2R59R9hhlHa9askefnbtu2bXJbhQoVJPG5U6dOMhUc+w5F+vC/OwRkSHp2t2zZMpmhhZlTnmCG14svvqj69+8vs6p69OghAYtVhM9V0aJFfc6UiQQEaa1bt1aff/65LPcwbdo0qZ6M53rnnXeqQ4cO6XsmQKD1559/6q3EFi5c6HF/WxCg4DFKlCgh+/jSpUvy2O787YdY7CdPGLAQUUyhtskbb7wh11GRtUOHDnKdvHPiPkPwhJ6TXLly6ZarUFUXB2X0juCCKsFly5ZVadOmlYBr1KhRSXpA+vTp4zHIwFRbBDveYNYKZtwgEEAVVixVgN4d1N1xZ1UqjhYrAEMPGQK83LlzS0CFpRfKlCkjs9SmTJki97GgFwWViT3xtS8QECEwxM8jEIKvvvpKgg93/vZDtPeTNwxYiCgJdN0//PDDSS74gvTUjgNQKHBG3Lx5c7mOL3Lyz2n7DNNzUWQvXbp0uuUqBFToFUHvCAIV1wJ7mI6Lei2YIuvqrbfeknox7vA4+F2eoL7O2LFj5f2IHjBAUIRg6tFHH5VtVwiujh07prc8Q48Nph17et97uvjqiUBg8vLLL8vfvGnTJgnWXKEdBf1cYbjG29RjPHdP+wLDPi+88IL0prguF4GABZ9td/72g539FA2sdEtESeALD2fC7ipXriwHBXcY4w6lpgfOzJ988kn5Uvz22289HvTCAcMRGCoAFM4aMGCAXPcGzwd5IzjoOU209pldWACvUqVKPletxpk+DurIK7GgrgwO3rgA8jqQp4Ogply5ctLmCvkfqJODv9kdApwPP/xQghorYPEFQR8CJeSQ+ILViNFTYwcCCH/vF/x9CFZQSwbvL9i6dasqVqyY5PQ0aNBA2rA2D4JRBFue/h5UP8a+QDVkVwsWLJA6OCgkZ/Wu+PL111+rnj17St6PJ3b3U6Sxh4WIksAXIbrT3S/4IvbUHmoBMpyBo8v5yy+/jPmB1xUSO1Fcy4mcts9wFo7qucg98QS9B1glGkGvBT0rOFhi4UgLFnlEob6GDRsm6W0AX2f7yP9AMT9PB3dP5+b4/XaWU0AQ4ul97+liJ7hFsIxAwgpWAENB+Pnq1avL9rhx4+TEAe3oGfHE276w8mAQALkLZj/Y3U+RxoCFiGIKByj02mCWQiQrowJyCFCeHxc7wyjIhcAaKU4TzX1mV758+VT+/PnVli1bdEtiGA5CrxCCYQvyVLD+DCrjAoId9MAgORSJxNmyZZN2V0jcRRIvfpc79ESgl8BaWsGCHg0MMblD5WBfSauRgoDFdT/s2rVLeoY+/vjjK0EM8luQq4T95q2iMvaFp/2NnkSsMO4+swe9OG3atNFbV/nbD7HaT+44JEREtuGMzdsBKRjDhw+Xy48//ihnl5GA0vwIUHxBUqYrnLXOnz9fVaxYURUoUEC3OkM09lmwkDNRsmRJ2efuunXrJvkdDz30kPSg4H2EYRYkD7v3ECFZFPkwmFHjCWZlYXaRp+EODPlhqjB6xzDkgoMtHg9Jv64w5HnrrbeqP/74w+uMo0hATxPyShA44PVDQityVDAkU758eX2vBJjdNGLECI/DsDB58mTZDwjI3GENKqwHhCE3BHcI8tATin3r/vdaixbef//9uuWqWO0njxCwEBHZEc7CcZ988omRK1cuY/v27brFGf7991/D/FKXomxlypTRrc7g1H1mQXl2b0X0zODiypICKOvuqdw7nD9/3rjhhhsMM+gwxowZY/z111/6lquwTIJ5gNdbSZmBkJS9P3PmjG5J6rPPPjPMoEFvRY8ZXBipU6c2zMBFKgIfOXJE35KUGXRJReM1a9YYZgCtW6/Ce7Vw4cIe95EF5fXxWN6YgYhRtGhRvZVUrPaTJxwSIiLbwnVGjzF5nHGjFyMcXc0rVqzwWLMjGDt37lTdu3eXhEVPU0Bjxcn7zIIk2YIFC6rvv/9etyTA46BgnJW/gtwL1JHxBCtgI1/CKih34403yv+ukL+DXgn0oHiCVbbRK4AFKj1BjwN6FDBjJ9owHIQFLTG1GfkumMrsTd68eSUZGb0o1apV061XYdYRpkW/++67uiUpDNPhsbwZNGiQ1+TzWO4nj3TgQkQUFeYXtpE1a1Zj6dKluiU0W7duNcqXL6+3wqdUqVLGokWL9FZsxcs+gwMHDsiaR2aQIts4gzcDQKQeGB9//LH0CviDcvEnT57UW57htWndurXeCsybb75pjBo1Sm9FD3pJzGBMlojAIpt2+OodAfRUNW7cWBZBDBQWj2zWrJneSipW+8kb9rAQUdQgCbBevXpq0qRJMgU2VJh1gkqeVj2ScEHpd8x4QfIiSprHUrzsMwt6BZBAisRgTFFGIi2eN3qGkJeCmUH+YJaP6wwaT/DatGjRQqY5BwKzqvCc2rVrp1uiB4nEKMmPnjLkstjhq3cE0FOFXBZUtT148KBu9Q+5PVairyex3E9e6cCFiCiitm3bJvkXGJMPhfklKmeGjRo1MlKlSmVkzJgx7CslYyE4LKuPxfxi2csST/vMHfIqkI8SaeZBWl+zBz0+yRHydnzlw7jDfvOWRwRO3E+cJUREEYdKo5iBgPF6u2f2+GrC9FSckaMeBfIgNm7cKBfXIl7PPfecnCmGGwpl4Uw/ffr0uiW64nGfEUUSAxYiiigc+JGM6a2KZqgwZIIkxuSE+4woKQYsRBRR+IpB5c1IfNVgRglyJpIb7jOipBiwEBERkeNxlhARERE5HgMWIiIicjwGLEQUNajrgJkr4YAl/1GVFgvlEVHyx4CFiKIGq/N+8MEHeis4KEaGabkoVY9y782aNZP/UzIUJFu4cKHeIkqemHRLRFGDtUlQ2yQUr7zyiqwv07lzZ9nev3+/rACMKcDe1qeJJ6iwiwAMq+tavUePPPKIz3WcsCpv+/btE9VaIUpu2MNCRBGHXpGZM2fKgoKhmjp1qixsZ8mXL59MAQ7H7441lFdv2LChWr58uZRkz507t1y8LeJnefLJJ/U1ouSLPSxEFHFY7bV169aqevXqsk6PtULtN998o8aNGyfXfaldu7Zq1aqV9NCgFwUrDaMKrOWWW26RVWcjtT5OuOzdu1f9/PPPch2r72bPnl2uA9YKwvouAwcOlFop3vzzzz+yzgsq2mI1aayAfPr0aQlwrB4WrBeEdWWw0m+TJk0kqMN9sFIwVjjGasl4LfB80DO1b98+VbFiRVW8eHF1+PBhWR14z549MvRWpEgRjz9LFHUIWIiIIuXs2bPGDz/8IOvz5M2b1+f6Jf7gZ/G1tWrVKt2SwDwgG5988onecqaePXsaL730kqzRYgZqRo0aNfQtCX+X67Y3WC/m8ccflxWPzeDByJIli2EGMLKdJk0auQ9WOr7xxhvl/7lz5xp169aV9rfeekvWEzKDPuOdd96RtgYNGshjmwGLMW3aNHmtnn/+efnZ5cuXG7lz55b1gDz9LFG0cUiIiCIqQ4YMkmMyevRo1aZNm5DyTPCz+fPnT7LiL878CxYsqLecBysKo7fjzTfflN4ODGn16tVL36rkNvP7WI0aNcrjBT0gsGjRIpUzZ06VMWNGWfkYvSGZM2eW2yzIEVq9erU6evSo9J5guAyyZcum2rZtq8xgT/JdAENNGIJCj84TTzwhvx8/h6Ep/CxWdf7rr788/ixRtHFIiIgiDrNYMJSAZNJ58+Yp88xeEmcDHRICJNvigN+lSxfZxvRmrIuDIYx06dJJm9OUKFFChnrwd3uCBNt+/fqp559/XrckVrZsWRnyGTt2rFqzZk2ShQvdh4ReffVVeUwk6nbt2vXKMBSSc3v06CFDdLhgWKl79+5q8uTJMgy0a9cutWXLFjVs2DC5vyv3nyWKOgQsRESRZAYsRpkyZYy3337bGDNmjG4NjnlwNurVq2fMmjXL+Omnn4zmzZsby5Yt07c601133WV8/fXXeisBhlwwxAL4/+GHH5b95AuGwszAxDADC9levHixcfDgQePUqVPGNddcI20YejMDOrm+dOlS45577pHrGB6CvXv3GmbwKNetNuzLmjVryn7MkSOHsX//fmk3gyNj+/btHn+WKNquGWDSsQsRUURgKAcJnKVKlUqULBuMtGnTqkaNGsmUX/QooOfltttu07c6kxmsqffee08K52FYBUmz6dOnV6VLl5bbMSSTJ08eNXjwYGUGLl57itBjgiEaDK3Nnj1bEmIfeOABGcIxAyLpaSpZsqQaMWKEDAth6GjatGmqcOHCMtyDJNs0adKo66+/Xobp0EuFISUU80MvTq1ataS3p0OHDtL7hV4xPJ/3338/yc8SRRuHhIiIogT5JAi4XGcHucJ05tdff11WU0aQgQAB6tWrl2gqN3J48HsQ9HiCQA4zqnD7qVOnJCjBNqaXYxjIyntBG4aTcD/XIAkzkbCN/CPw9LNE0caAhYjIYZBEvH379iuF49ATw0CBUjoGLEREROR4nNZMREREjseAhYiIiByPAQsRERE5HgMWIiIicjwGLEREROR4DFiIiIjI8RiwEBERkeMxYCEiIiLHY8BCREREjseAhYiIiByPAQsRERE5HgMWIiIicjwGLEREROR4DFiIiIjI8RiwEBERkeMxYCEiIiKHU+r/h3pdOpW1uw0AAAAASUVORK5CYII=)"
      ],
      "metadata": {
        "id": "SQc3O55KwD3Z"
      }
    },
    {
      "cell_type": "code",
      "source": [
        "def mean_average_precision(pred_boxes, true_boxes,\n",
        "                           iou_threshold=0.5,\n",
        "                           box_format=\"midpoint\",\n",
        "                           num_classes=20\n",
        "                           ):\n",
        "  # list storing all AP for respective classes\n",
        "  average_precisions = []\n",
        "\n",
        "  # used for numerical stability later on\n",
        "  epsilon = 1e-6\n",
        "\n",
        "  for c in range(num_classes):\n",
        "      detections = []\n",
        "      ground_truths = []\n",
        "\n",
        "      # Go through all predictions and targets,\n",
        "      # and only add the ones that belong to the\n",
        "      # current class c\n",
        "      for detection in pred_boxes:\n",
        "          if detection[1] == c:\n",
        "              detections.append(detection)\n",
        "\n",
        "      for true_box in true_boxes:\n",
        "          if true_box[1] == c:\n",
        "              ground_truths.append(true_box)\n",
        "\n",
        "      # find the amount of bboxes for each training example\n",
        "      # Counter here finds how many ground truth bboxes we get\n",
        "      # for each training example, so let's say img 0 has 3,\n",
        "      # img 1 has 5 then we will obtain a dictionary with:\n",
        "      # amount_bboxes = {0:3, 1:5}\n",
        "      amount_bboxes = Counter([gt[0] for gt in ground_truths])\n",
        "\n",
        "      # We then go through each key, val in this dictionary\n",
        "      # and convert to the following (w.r.t same example):\n",
        "      # ammount_bboxes = {0:torch.tensor[0,0,0], 1:torch.tensor[0,0,0,0,0]}\n",
        "      for key, val in amount_bboxes.items():\n",
        "          amount_bboxes[key] = torch.zeros(val)\n",
        "\n",
        "      # sort by box probabilities which is index 2\n",
        "      detections.sort(key=lambda x: x[2], reverse=True)\n",
        "      TP = torch.zeros((len(detections)))\n",
        "      FP = torch.zeros((len(detections)))\n",
        "      total_true_bboxes = len(ground_truths)\n",
        "\n",
        "      # If none exists for this class then we can safely skip\n",
        "      if total_true_bboxes == 0:\n",
        "          continue\n",
        "\n",
        "      for detection_idx, detection in enumerate(detections):\n",
        "          # Only take out the ground_truths that have the same\n",
        "          # training idx as detection\n",
        "          ground_truth_img = [\n",
        "              bbox for bbox in ground_truths if bbox[0] == detection[0]\n",
        "          ]\n",
        "\n",
        "          num_gts = len(ground_truth_img)\n",
        "          best_iou = 0\n",
        "\n",
        "          for idx, gt in enumerate(ground_truth_img):\n",
        "              iou = intersection_over_union(\n",
        "                  torch.tensor(detection[3:]),\n",
        "                  torch.tensor(gt[3:]),\n",
        "                  box_format=box_format,\n",
        "              )\n",
        "\n",
        "              if iou > best_iou:\n",
        "                  best_iou = iou\n",
        "                  best_gt_idx = idx\n",
        "\n",
        "          if best_iou > iou_threshold:\n",
        "              # only detect ground truth detection once\n",
        "              if amount_bboxes[detection[0]][best_gt_idx] == 0:\n",
        "                  # true positive and add this bounding box to seen\n",
        "                  TP[detection_idx] = 1\n",
        "                  amount_bboxes[detection[0]][best_gt_idx] = 1\n",
        "              else:\n",
        "                  FP[detection_idx] = 1\n",
        "\n",
        "          # if IOU is lower then the detection is a false positive\n",
        "          else:\n",
        "              FP[detection_idx] = 1\n",
        "\n",
        "      TP_cumsum = torch.cumsum(TP, dim=0)\n",
        "      FP_cumsum = torch.cumsum(FP, dim=0)\n",
        "      recalls = TP_cumsum / (total_true_bboxes + epsilon)\n",
        "      precisions = TP_cumsum / (TP_cumsum + FP_cumsum + epsilon)\n",
        "      precisions = torch.cat((torch.tensor([1]), precisions))\n",
        "      recalls = torch.cat((torch.tensor([0]), recalls))\n",
        "      # torch.trapz for numerical integration\n",
        "      average_precisions.append(torch.trapz(precisions, recalls))\n",
        "\n",
        "  return sum(average_precisions) / len(average_precisions)\n"
      ],
      "metadata": {
        "id": "wLvVEz2s3GKS"
      },
      "execution_count": null,
      "outputs": []
    },
    {
      "cell_type": "code",
      "source": [
        "class YOLOv1Loss(nn.Module):\n",
        "  def __init__(self, S=7, B=2, C=20, λ_coord=5, λ_noobj=0.5):\n",
        "    super().__init__()\n",
        "    self.S = S\n",
        "    self.B = B\n",
        "    self.C = C\n",
        "    self.lambda_coord = λ_coord\n",
        "    self.lambda_noobj = λ_noobj\n",
        "    self.mse = nn.MSELoss(reduction=\"sum\")\n",
        "\n",
        "  def forward(self, predictions, target):\n",
        "    # predictions are shaped (BATCH_SIZE, S*S(C+B*5) when inputted\n",
        "    predictions = predictions.reshape(-1, self.S, self.S, self.C + self.B * 5)\n",
        "\n",
        "    # Calculate IoU for the two predicted bounding boxes with target bbox\n",
        "    iou_b1 = intersection_over_union(predictions[..., 21:25], target[..., 21:25])\n",
        "    iou_b2 = intersection_over_union(predictions[..., 26:30], target[..., 21:25])\n",
        "    ious = torch.cat([iou_b1.unsqueeze(0), iou_b2.unsqueeze(0)], dim=0)\n",
        "\n",
        "    # Take the box with highest IoU out of the two prediction\n",
        "    # Note that bestbox will be indices of 0, 1 for which bbox was best\n",
        "    iou_maxes, bestbox = torch.max(ious, dim=0)\n",
        "    exists_box = target[..., 20].unsqueeze(3)  # in paper this is Iobj_i\n",
        "\n",
        "    # ======================== #\n",
        "    #   FOR BOX COORDINATES    #\n",
        "    # ======================== #\n",
        "\n",
        "    # Set boxes with no object in them to 0. We only take out one of the two\n",
        "    # predictions, which is the one with highest Iou calculated previously.\n",
        "    box_predictions = exists_box * (\n",
        "        (\n",
        "            bestbox * predictions[..., 26:30]\n",
        "            + (1 - bestbox) * predictions[..., 21:25]\n",
        "        )\n",
        "    )\n",
        "\n",
        "    box_targets = exists_box * target[..., 21:25]\n",
        "\n",
        "    # Take sqrt of width, height of boxes to ensure that\n",
        "    box_predictions[..., 2:4] = torch.sign(box_predictions[..., 2:4]) * torch.sqrt(\n",
        "        torch.abs(box_predictions[..., 2:4] + 1e-6)\n",
        "    )\n",
        "    box_targets[..., 2:4] = torch.sqrt(box_targets[..., 2:4])\n",
        "\n",
        "    box_loss = self.mse(\n",
        "        torch.flatten(box_predictions, end_dim=-2),\n",
        "        torch.flatten(box_targets, end_dim=-2),\n",
        "    )\n",
        "\n",
        "    # ==================== #\n",
        "    #   FOR OBJECT LOSS    #\n",
        "    # ==================== #\n",
        "\n",
        "    # pred_box is the confidence score for the bbox with highest IoU\n",
        "    pred_box = (\n",
        "        bestbox * predictions[..., 25:26] + (1 - bestbox) * predictions[..., 20:21]\n",
        "    )\n",
        "\n",
        "    object_loss = self.mse(\n",
        "        torch.flatten(exists_box * pred_box),\n",
        "        torch.flatten(exists_box * target[..., 20:21]),\n",
        "    )\n",
        "\n",
        "    # ======================= #\n",
        "    #   FOR NO OBJECT LOSS    #\n",
        "    # ======================= #\n",
        "\n",
        "    #max_no_obj = torch.max(predictions[..., 20:21], predictions[..., 25:26])\n",
        "    #no_object_loss = self.mse(\n",
        "    #    torch.flatten((1 - exists_box) * max_no_obj, start_dim=1),\n",
        "    #    torch.flatten((1 - exists_box) * target[..., 20:21], start_dim=1),\n",
        "    #)\n",
        "\n",
        "    no_object_loss = self.mse(\n",
        "        torch.flatten((1 - exists_box) * predictions[..., 20:21], start_dim=1),\n",
        "        torch.flatten((1 - exists_box) * target[..., 20:21], start_dim=1),\n",
        "    )\n",
        "\n",
        "    no_object_loss += self.mse(\n",
        "        torch.flatten((1 - exists_box) * predictions[..., 25:26], start_dim=1),\n",
        "        torch.flatten((1 - exists_box) * target[..., 20:21], start_dim=1)\n",
        "    )\n",
        "\n",
        "    # ================== #\n",
        "    #   FOR CLASS LOSS   #\n",
        "    # ================== #\n",
        "\n",
        "    class_loss = self.mse(\n",
        "        torch.flatten(exists_box * predictions[..., :20], end_dim=-2,),\n",
        "        torch.flatten(exists_box * target[..., :20], end_dim=-2,),\n",
        "    )\n",
        "\n",
        "    loss = (\n",
        "        self.lambda_coord * box_loss  # first two rows in paper\n",
        "        + object_loss  # third row in paper\n",
        "        + self.lambda_noobj * no_object_loss  # forth row\n",
        "        + class_loss  # fifth row\n",
        "    )\n",
        "\n",
        "    return loss\n"
      ],
      "metadata": {
        "id": "UvbjN5aqQkFs"
      },
      "execution_count": null,
      "outputs": []
    },
    {
      "cell_type": "markdown",
      "source": [
        "##Load the Pascal Visual Object Class Dataset"
      ],
      "metadata": {
        "id": "WdEdF9L5Orvz"
      }
    },
    {
      "cell_type": "code",
      "source": [
        "torch.manual_seed(0)"
      ],
      "metadata": {
        "id": "RJdBbpI3Wf09",
        "colab": {
          "base_uri": "https://localhost:8080/"
        },
        "outputId": "23c7a193-d5b2-4220-c3ab-f02b94841885"
      },
      "execution_count": null,
      "outputs": [
        {
          "output_type": "execute_result",
          "data": {
            "text/plain": [
              "<torch._C.Generator at 0x7ecfea55fd70>"
            ]
          },
          "metadata": {},
          "execution_count": 8
        }
      ]
    },
    {
      "cell_type": "code",
      "source": [
        "from google.colab import drive\n",
        "drive.mount('/content/drive')"
      ],
      "metadata": {
        "colab": {
          "base_uri": "https://localhost:8080/"
        },
        "id": "RLlkieRy_KEg",
        "outputId": "cfc44a27-444a-45ab-bea7-e8b92cd82000"
      },
      "execution_count": null,
      "outputs": [
        {
          "output_type": "stream",
          "name": "stdout",
          "text": [
            "Drive already mounted at /content/drive; to attempt to forcibly remount, call drive.mount(\"/content/drive\", force_remount=True).\n"
          ]
        }
      ]
    },
    {
      "cell_type": "code",
      "source": [
        "# Define VOC classes\n",
        "VOC_CLASSES = [\n",
        "    \"aeroplane\", \"bicycle\", \"bird\", \"boat\", \"bottle\",\n",
        "    \"bus\", \"car\", \"cat\", \"chair\", \"cow\",\n",
        "    \"diningtable\", \"dog\", \"horse\", \"motorbike\", \"person\",\n",
        "    \"pottedplant\", \"sheep\", \"sofa\", \"train\", \"tvmonitor\"\n",
        "]\n",
        "CLASS2IDX = {cls: i for i, cls in enumerate(VOC_CLASSES)}\n",
        "\n",
        "# Custom dataset wrapper\n",
        "class CleanedVOCDataset(VOCDetection):\n",
        "    def __init__(self, root, year, image_set, transforms=None):\n",
        "        super().__init__(root, year=year, image_set=image_set, download=False)\n",
        "        self.transforms = transforms\n",
        "\n",
        "    def __getitem__(self, idx):\n",
        "        img, target = super().__getitem__(idx)\n",
        "        _, h, w = img.shape\n",
        "\n",
        "        objects = target[\"annotation\"][\"object\"]\n",
        "        if not isinstance(objects, list):\n",
        "            objects = [objects]\n",
        "\n",
        "        boxes = []\n",
        "        for obj in objects:\n",
        "            name = obj[\"name\"].lower().strip()\n",
        "            if name not in CLASS2IDX:\n",
        "                continue  # skip unknown labels\n",
        "            class_id = CLASS2IDX[name]\n",
        "\n",
        "            bbox = obj[\"bndbox\"]\n",
        "            xmin, ymin = int(bbox[\"xmin\"]), int(bbox[\"ymin\"])\n",
        "            xmax, ymax = int(bbox[\"xmax\"]), int(bbox[\"ymax\"])\n",
        "\n",
        "            # convert to YOLO format (normalized)\n",
        "            x_center = ((xmin + xmax) / 2) / w\n",
        "            y_center = ((ymin + ymax) / 2) / h\n",
        "            bw = (xmax - xmin) / w\n",
        "            bh = (ymax - ymin) / h\n",
        "\n",
        "            boxes.append([class_id, x_center, y_center, bw, bh])\n",
        "\n",
        "        boxes = torch.tensor(boxes, dtype=torch.float32)\n",
        "\n",
        "        if self.transforms:\n",
        "            img = self.transforms(img)\n",
        "\n",
        "        return img, boxes  # <-- target is tensor now\n",
        "\n",
        "# Collate function for variable targets\n",
        "def collate_fn(batch):\n",
        "    images, targets = zip(*batch)\n",
        "    return list(images), list(targets)\n",
        "\n",
        "# Transforms (your pipeline)\n",
        "transforms = v2.Compose([\n",
        "    v2.ToImage(),\n",
        "    v2.ColorJitter(brightness=1.5, contrast=1.5, saturation=1.5),\n",
        "    v2.RandomHorizontalFlip(p=0.2),\n",
        "    v2.RandomVerticalFlip(p=0.2),\n",
        "    v2.Resize((448,448)),\n",
        "    v2.ToDtype(torch.float32, scale=True),\n",
        "])\n",
        "\n",
        "# Dataset\n",
        "train_dataset = CleanedVOCDataset(\n",
        "    root='/content/drive/MyDrive/_Dataset/PASCALVOC2007_AND_2012',\n",
        "    year='2007',\n",
        "    image_set='train',\n",
        "    transforms=transforms\n",
        ")\n",
        "\n",
        "# DataLoader\n",
        "train_loader = DataLoader(\n",
        "    train_dataset,\n",
        "    batch_size=8,\n",
        "    shuffle=True,\n",
        "    collate_fn=collate_fn\n",
        ")\n",
        "\n",
        "# Dataset\n",
        "test_dataset = CleanedVOCDataset(\n",
        "    root='/content/drive/MyDrive/_Dataset/PASCALVOC2007_AND_2012',\n",
        "    year='2007',\n",
        "    image_set='val',\n",
        "    transforms=transforms\n",
        ")\n",
        "\n",
        "# DataLoader\n",
        "test_loader = DataLoader(\n",
        "    test_dataset,\n",
        "    batch_size=8,\n",
        "    shuffle=True,\n",
        "    collate_fn=collate_fn\n",
        ")"
      ],
      "metadata": {
        "id": "Xr85ir6rs9C6"
      },
      "execution_count": null,
      "outputs": []
    },
    {
      "cell_type": "markdown",
      "source": [],
      "metadata": {
        "id": "5b8KcKehZQzf"
      }
    },
    {
      "cell_type": "markdown",
      "source": [
        "###AdamW\n",
        "class torch.optim.AdamW(params, lr=0.001, betas=(0.9, 0.999), eps=1e-08, weight_decay=0.01, amsgrad=False, *, maximize=False, foreach=None, capturable=False, differentiable=False, fused=None)\n"
      ],
      "metadata": {
        "id": "fsgKHPV3VGV7"
      }
    },
    {
      "cell_type": "code",
      "source": [
        "def learning_rate(epoch, epochs):\n",
        "  first_stop = 0.6 * epochs\n",
        "  second_stop = 0.8 * epochs\n",
        "  if epoch <= first_stop:\n",
        "    return 0.1\n",
        "  elif epoch <= second_stop:\n",
        "    return 0.01\n",
        "  else:\n",
        "    return 0.001\n",
        "\n",
        "\n",
        "num_epochs = 10"
      ],
      "metadata": {
        "id": "vPCDKZ1PVCtD"
      },
      "execution_count": null,
      "outputs": []
    },
    {
      "cell_type": "code",
      "source": [
        "def plot_image(image, boxes):\n",
        "  \"\"\"Plots predicted bounding boxes on the image\"\"\"\n",
        "  im = np.array(image)\n",
        "  height, width, _ = im.shape\n",
        "\n",
        "  # Create figure and axes\n",
        "  fig, ax = plt.subplots(1)\n",
        "  # Display the image\n",
        "  ax.imshow(im)\n",
        "\n",
        "  # box[0] is x midpoint, box[2] is width\n",
        "  # box[1] is y midpoint, box[3] is height\n",
        "\n",
        "  # Create a Rectangle patch\n",
        "  for box in boxes:\n",
        "      box = box[2:]\n",
        "      assert len(box) == 4, \"Got more values than in x, y, w, h, in a box!\"\n",
        "      upper_left_x = box[0] - box[2] / 2\n",
        "      upper_left_y = box[1] - box[3] / 2\n",
        "      rect = patches.Rectangle(\n",
        "          (upper_left_x * width, upper_left_y * height),\n",
        "          box[2] * width,\n",
        "          box[3] * height,\n",
        "          linewidth=1,\n",
        "          edgecolor=\"r\",\n",
        "          facecolor=\"none\",\n",
        "      )\n",
        "      # Add the patch to the Axes\n",
        "      ax.add_patch(rect)\n",
        "\n",
        "  plt.show()\n",
        "\n",
        "def get_bboxes(\n",
        "    loader,\n",
        "    model,\n",
        "    iou_threshold,\n",
        "    threshold,\n",
        "    pred_format=\"cells\",\n",
        "    box_format=\"midpoint\",\n",
        "    device=\"cuda\"):\n",
        "  all_pred_boxes = []\n",
        "  all_true_boxes = []\n",
        "\n",
        "  # make sure model is in eval before get bboxes\n",
        "  model.eval()\n",
        "  train_idx = 0\n",
        "\n",
        "  for batch_idx, (x, labels) in enumerate(loader):\n",
        "      x = x.to(device)\n",
        "      labels = labels.to(device)\n",
        "\n",
        "      with torch.no_grad():\n",
        "          predictions = model(x)\n",
        "\n",
        "      batch_size = x.shape[0]\n",
        "      true_bboxes = cellboxes_to_boxes(labels)\n",
        "      bboxes = cellboxes_to_boxes(predictions)\n",
        "\n",
        "      for idx in range(batch_size):\n",
        "          nms_boxes = nms(\n",
        "              bboxes[idx],\n",
        "              iou_threshold=iou_threshold,\n",
        "              threshold=threshold,\n",
        "              box_format=box_format,\n",
        "          )\n",
        "\n",
        "\n",
        "          #if batch_idx == 0 and idx == 0:\n",
        "          #    plot_image(x[idx].permute(1,2,0).to(\"cpu\"), nms_boxes)\n",
        "          #    print(nms_boxes)\n",
        "\n",
        "          for nms_box in nms_boxes:\n",
        "              all_pred_boxes.append([train_idx] + nms_box)\n",
        "\n",
        "          for box in true_bboxes[idx]:\n",
        "              # many will get converted to 0 pred\n",
        "              if box[1] > threshold:\n",
        "                  all_true_boxes.append([train_idx] + box)\n",
        "\n",
        "          train_idx += 1\n",
        "\n",
        "  model.train()\n",
        "  return all_pred_boxes, all_true_boxes\n",
        "\n",
        "\n",
        "\n",
        "def convert_cellboxes(predictions, S=7):\n",
        "    \"\"\"\n",
        "    Converts bounding boxes output from Yolo with\n",
        "    an image split size of S into entire image ratios\n",
        "    rather than relative to cell ratios. Tried to do this\n",
        "    vectorized, but this resulted in quite difficult to read\n",
        "    code... Use as a black box? Or implement a more intuitive,\n",
        "    using 2 for loops iterating range(S) and convert them one\n",
        "    by one, resulting in a slower but more readable implementation.\n",
        "    \"\"\"\n",
        "\n",
        "    predictions = predictions.to(\"cpu\")\n",
        "    batch_size = predictions.shape[0]\n",
        "    predictions = predictions.reshape(batch_size, 7, 7, 30)\n",
        "    bboxes1 = predictions[..., 21:25]\n",
        "    bboxes2 = predictions[..., 26:30]\n",
        "    scores = torch.cat(\n",
        "        (predictions[..., 20].unsqueeze(0), predictions[..., 25].unsqueeze(0)), dim=0\n",
        "    )\n",
        "    best_box = scores.argmax(0).unsqueeze(-1)\n",
        "    best_boxes = bboxes1 * (1 - best_box) + best_box * bboxes2\n",
        "    cell_indices = torch.arange(7).repeat(batch_size, 7, 1).unsqueeze(-1)\n",
        "    x = 1 / S * (best_boxes[..., :1] + cell_indices)\n",
        "    y = 1 / S * (best_boxes[..., 1:2] + cell_indices.permute(0, 2, 1, 3))\n",
        "    w_y = 1 / S * best_boxes[..., 2:4]\n",
        "    converted_bboxes = torch.cat((x, y, w_y), dim=-1)\n",
        "    predicted_class = predictions[..., :20].argmax(-1).unsqueeze(-1)\n",
        "    best_confidence = torch.max(predictions[..., 20], predictions[..., 25]).unsqueeze(\n",
        "        -1\n",
        "    )\n",
        "    converted_preds = torch.cat(\n",
        "        (predicted_class, best_confidence, converted_bboxes), dim=-1\n",
        "    )\n",
        "\n",
        "    return converted_preds\n",
        "\n",
        "\n",
        "def cellboxes_to_boxes(out, S=7):\n",
        "    converted_pred = convert_cellboxes(out).reshape(out.shape[0], S * S, -1)\n",
        "    converted_pred[..., 0] = converted_pred[..., 0].long()\n",
        "    all_bboxes = []\n",
        "\n",
        "    for ex_idx in range(out.shape[0]):\n",
        "        bboxes = []\n",
        "\n",
        "        for bbox_idx in range(S * S):\n",
        "            bboxes.append([x.item() for x in converted_pred[ex_idx, bbox_idx, :]])\n",
        "        all_bboxes.append(bboxes)\n",
        "\n",
        "    return all_bboxes\n",
        "\n",
        "def save_checkpoint(state, filename=\"my_checkpoint.pth.tar\"):\n",
        "    print(\"=> Saving checkpoint\")\n",
        "    torch.save(state, filename)\n",
        "\n",
        "\n",
        "def load_checkpoint(checkpoint, model, optimizer):\n",
        "    print(\"=> Loading checkpoint\")\n",
        "    model.load_state_dict(checkpoint[\"state_dict\"])\n",
        "    optimizer.load_state_dict(checkpoint[\"optimizer\"])"
      ],
      "metadata": {
        "id": "zigAFC7emSto"
      },
      "execution_count": null,
      "outputs": []
    },
    {
      "cell_type": "code",
      "source": [
        "def encode_targets(targets, S=7, C=20):\n",
        "    \"\"\"\n",
        "    Convert list of [N, 5] targets -> YOLOv1 grid tensor [S, S, C+5]\n",
        "    Each target row: [class, x, y, w, h]  (all normalized [0,1])\n",
        "    \"\"\"\n",
        "    B = len(targets)  # batch size\n",
        "    encoded = []\n",
        "\n",
        "    for b in range(B):\n",
        "        t = targets[b]  # shape [N, 5]\n",
        "        grid = torch.zeros((S, S, C + 5))  # [7, 7, 25]\n",
        "\n",
        "        for box in t:\n",
        "            cls, x, y, w, h = box.tolist()\n",
        "\n",
        "            # Find cell index for center (x,y)\n",
        "            i = int(x * S)\n",
        "            j = int(y * S)\n",
        "\n",
        "            # Safety (clamp inside grid)\n",
        "            i = min(S - 1, max(0, i))\n",
        "            j = min(S - 1, max(0, j))\n",
        "\n",
        "            # One-hot class\n",
        "            grid[j, i, int(cls)] = 1.0  # NOTE: grid[y, x] convention\n",
        "\n",
        "            # Objectness\n",
        "            grid[j, i, C] = 1.0\n",
        "\n",
        "            # Box coords (still normalized wrt image)\n",
        "            grid[j, i, C+1:C+5] = torch.tensor([x, y, w, h])\n",
        "\n",
        "        encoded.append(grid)\n",
        "\n",
        "    return torch.stack(encoded)  # [B, S, S, C+5]\n",
        "\n",
        "\n",
        "def train(train_loader, model, optimizer, criterion, device, S=7, C=20):\n",
        "    loop = tqdm(train_loader, leave=True)\n",
        "    mean_loss = []\n",
        "\n",
        "    for batch_idx, (images, targets) in enumerate(loop):\n",
        "        # Stack images into a batch tensor [B, 3, 448, 448]\n",
        "        images = torch.stack(images).to(device)\n",
        "\n",
        "        # Encode targets into YOLOv1 grid format\n",
        "        targets = encode_targets([t.to(device) for t in targets], S=S, C=C).to(device)  # [B, S, S, 25]\n",
        "\n",
        "        # Forward\n",
        "        out = model(images)  # [B, S, S, 30]\n",
        "\n",
        "        # Compute loss\n",
        "        loss_val = criterion(out, targets)\n",
        "        mean_loss.append(loss_val.item())\n",
        "\n",
        "        # Backward\n",
        "        optimizer.zero_grad()\n",
        "        loss_val.backward()\n",
        "        optimizer.step()\n",
        "\n",
        "        # Update progress bar\n",
        "        loop.set_postfix(loss=loss_val.item())\n",
        "\n",
        "    print(f\"Mean loss was {sum(mean_loss)/len(mean_loss)}\")\n",
        "\n",
        "\n",
        "def test(test_loader, model, criterion, device, S=7, C=20):\n",
        "    model.eval()  # set to evaluation mode\n",
        "    loop = tqdm(test_loader, leave=True)\n",
        "    mean_loss = []\n",
        "\n",
        "    for batch_idx, (images, targets) in enumerate(loop):\n",
        "        # Stack images into a batch tensor [B, 3, 448, 448]\n",
        "        images = torch.stack(images).to(device)\n",
        "\n",
        "        # Encode targets into YOLOv1 grid format\n",
        "        targets = encode_targets([t.to(device) for t in targets], S=S, C=C).to(device)  # [B, S, S, 25]\n",
        "\n",
        "        # Forward (no grad, eval mode)\n",
        "        out = model(images)  # [B, S, S, 30]\n",
        "\n",
        "        # Compute loss\n",
        "        loss_val = criterion(out, targets)\n",
        "        mean_loss.append(loss_val.item())\n",
        "\n",
        "        # Update progress bar\n",
        "        loop.set_postfix(loss=loss_val.item())\n",
        "\n",
        "    avg_loss = sum(mean_loss) / len(mean_loss)\n",
        "    print(f\"Mean test loss was {avg_loss}\")\n",
        "\n",
        "\n",
        "num_epochs = 1\n",
        "\n",
        "def main():\n",
        "    model = YOLOv1().to(device)\n",
        "\n",
        "    optimizer = torch.optim.AdamW(\n",
        "        model.parameters(),\n",
        "        lr=0.001,   # 0.1 is too high, changed to a safer start\n",
        "        betas=(0.9, 0.99),\n",
        "        weight_decay=0.0005,\n",
        "    )\n",
        "    criterion = YOLOv1Loss()\n",
        "\n",
        "    for epoch in range(num_epochs):\n",
        "        print(f\"Epoch [{epoch+1}/{num_epochs}]\")\n",
        "\n",
        "        # Training\n",
        "        train(train_loader, model, optimizer, criterion, device)\n",
        "\n",
        "        # Debug visualization (just first batch)\n",
        "        for images, targets in train_loader:\n",
        "            images = torch.stack(images).to(device)\n",
        "            out = model(images)\n",
        "\n",
        "            for idx in range(min(8, images.shape[0])):  # up to 8 images\n",
        "                bboxes = cellboxes_to_boxes(out)\n",
        "                bboxes = nms(\n",
        "                    bboxes[idx],\n",
        "                    iou_threshold=0.5,\n",
        "                    threshold=0.4,\n",
        "                    box_format=\"midpoint\",\n",
        "                )\n",
        "                plot_image(images[idx].permute(1, 2, 0).cpu(), bboxes)\n",
        "\n",
        "            import sys\n",
        "            sys.exit()  # remove later\n",
        "\n",
        "        # Evaluation\n",
        "        pred_boxes, target_boxes = get_bboxes(\n",
        "            train_loader, model, iou_threshold=0.5, threshold=0.4\n",
        "        )\n",
        "\n",
        "        mean_avg_prec = mean_average_precision(\n",
        "            pred_boxes, target_boxes, iou_threshold=0.5, box_format=\"midpoint\"\n",
        "        )\n",
        "        print(f\"Train mAP: {mean_avg_prec}\")\n",
        "\n",
        "        # Testing\n",
        "        test(test_loader, model, criterion, device)\n",
        "\n",
        "        # Debug visualization (just first batch)\n",
        "        for images, targets in test_loader:\n",
        "            images = torch.stack(images).to(device)\n",
        "            out = model(images)\n",
        "\n",
        "            for idx in range(min(8, images.shape[0])):  # up to 8 images\n",
        "                bboxes = cellboxes_to_boxes(out)\n",
        "                bboxes = nms(\n",
        "                    bboxes[idx],\n",
        "                    iou_threshold=0.5,\n",
        "                    threshold=0.4,\n",
        "                    box_format=\"midpoint\",\n",
        "                )\n",
        "                plot_image(images[idx].permute(1, 2, 0).cpu(), bboxes)\n",
        "\n",
        "            import sys\n",
        "            sys.exit()  # remove later\n",
        "\n",
        "        # Evaluation\n",
        "        pred_boxes, target_boxes = get_bboxes(\n",
        "            test_loader, model, iou_threshold=0.5, threshold=0.4\n",
        "        )\n",
        "\n",
        "        mean_avg_prec = mean_average_precision(\n",
        "            pred_boxes, target_boxes, iou_threshold=0.5, box_format=\"midpoint\"\n",
        "        )\n",
        "        print(f\"Test mAP: {mean_avg_prec}\")\n",
        "\n",
        "        # Save checkpoint\n",
        "        if mean_avg_prec > 0.9:\n",
        "            checkpoint = {\n",
        "                \"state_dict\": model.state_dict(),\n",
        "                \"optimizer\": optimizer.state_dict(),\n",
        "            }\n",
        "            #save_checkpoint(checkpoint, filename=LOAD_MODEL_FILE)\n",
        "            import time\n",
        "            time.sleep(10)\n",
        "\n",
        "\n",
        "\n",
        "if __name__ == \"__main__\":\n",
        "    main()"
      ],
      "metadata": {
        "id": "TKktMooQ6PVM",
        "colab": {
          "base_uri": "https://localhost:8080/"
        },
        "outputId": "2bc16301-6082-488c-b29a-7be5f12c3399"
      },
      "execution_count": null,
      "outputs": [
        {
          "output_type": "stream",
          "name": "stdout",
          "text": [
            "Epoch [1/1]\n"
          ]
        },
        {
          "output_type": "stream",
          "name": "stderr",
          "text": [
            " 56%|█████▌    | 176/313 [39:39<30:57, 13.56s/it, loss=7.55e+12]"
          ]
        }
      ]
    }
  ]
}
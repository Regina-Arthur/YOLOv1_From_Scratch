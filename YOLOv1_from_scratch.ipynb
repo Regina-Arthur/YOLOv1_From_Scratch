{
  "nbformat": 4,
  "nbformat_minor": 0,
  "metadata": {
    "colab": {
      "provenance": [],
      "include_colab_link": true
    },
    "kernelspec": {
      "name": "python3",
      "display_name": "Python 3"
    },
    "language_info": {
      "name": "python"
    }
  },
  "cells": [
    {
      "cell_type": "markdown",
      "metadata": {
        "id": "view-in-github",
        "colab_type": "text"
      },
      "source": [
        "<a href=\"https://colab.research.google.com/github/Regina-Arthur/YOLOv1_From_Scratch/blob/main/YOLOv1_from_scratch.ipynb\" target=\"_parent\"><img src=\"https://colab.research.google.com/assets/colab-badge.svg\" alt=\"Open In Colab\"/></a>"
      ]
    },
    {
      "cell_type": "markdown",
      "source": [
        "#Building a YOLOv1 model from scratch by Regina Arthur\n"
      ],
      "metadata": {
        "id": "E075aKobGM0_"
      }
    },
    {
      "cell_type": "markdown",
      "source": [
        "###This will be done without the convolutional layers being pretrained on imagenet"
      ],
      "metadata": {
        "id": "2C124Tg5bKL-"
      }
    },
    {
      "cell_type": "markdown",
      "source": [
        "##Import the necessary libraries\n"
      ],
      "metadata": {
        "id": "B97rFjkKGMf5"
      }
    },
    {
      "cell_type": "code",
      "execution_count": null,
      "metadata": {
        "id": "ZcJyo6t5oNmj"
      },
      "outputs": [],
      "source": [
        "#Let's import the necessary libraries to build YOLOv1\n",
        "#pytorch\n",
        "import torch\n",
        "import torch.nn as nn\n",
        "import torch.nn.functional as F\n",
        "import torchvision\n",
        "import torchvision.transforms.v2 as v2\n",
        "from torchvision.datasets import VOCDetection\n",
        "from torch.utils.data import Dataset, DataLoader\n",
        "\n",
        "#matplotlib\n",
        "import matplotlib.pyplot as plt\n",
        "import matplotlib.patches as patches\n",
        "\n",
        "#numpy\n",
        "import numpy as np\n",
        "\n",
        "#python\n",
        "from collections import Counter\n",
        "\n",
        "#tqdm\n",
        "from tqdm import tqdm"
      ]
    },
    {
      "cell_type": "markdown",
      "source": [
        "##Connect To a GPU if available"
      ],
      "metadata": {
        "id": "OfJGkqRgF28o"
      }
    },
    {
      "cell_type": "code",
      "source": [
        "#Let's check if cuda is available. Connect to it if it is not available.\n",
        "#If it is not available, use cpu\n",
        "device = torch.device('cuda' if torch.cuda.is_available() else 'cpu')\n",
        "device"
      ],
      "metadata": {
        "colab": {
          "base_uri": "https://localhost:8080/"
        },
        "id": "kATyTVUZpBC2",
        "outputId": "29533bf4-5abd-45ea-bcf6-9719c4a7f9f2"
      },
      "execution_count": null,
      "outputs": [
        {
          "output_type": "execute_result",
          "data": {
            "text/plain": [
              "device(type='cuda')"
            ]
          },
          "metadata": {},
          "execution_count": 2
        }
      ]
    },
    {
      "cell_type": "markdown",
      "source": [
        "##Neural Network Architecture\n"
      ],
      "metadata": {
        "id": "ZoJTVgTjpDHI"
      }
    },
    {
      "cell_type": "markdown",
      "source": [
        "###I am following the documentation on the MODULE class to build my neural network. All neural network model are to inherit from the nn.Module class.\n",
        "\n",
        "####Conv2d\n",
        "####class torch.nn.Conv2d(in_channels, out_channels, kernel_size, stride=1, padding=0, dilation=1, groups=1, bias=True, padding_mode='zeros', device=None, dtype=None)\n",
        "\n",
        "####class torch.nn.LeakyReLU(negative_slope=0.01, inplace=False)\n",
        "\n",
        "####MaxPool2d\n",
        "####class torch.nn.MaxPool2d(kernel_size, stride=None, padding=0, dilation=1, return_indices=False, ceil_mode=False)[source]\n",
        "\n",
        "####Linear\n",
        "####class torch.nn.Linear(in_features, out_features, bias=True, device=None, dtype=None)[source]\n",
        "\n",
        "####Dropout2d\n",
        "####class torch.nn.Dropout2d(p=0.5, inplace=False)[source]\n",
        "\n"
      ],
      "metadata": {
        "id": "l3MISm9aqDlR"
      }
    },
    {
      "cell_type": "code",
      "source": [
        "class YOLOv1(nn.Module):\n",
        "  def __init__(self, S=7, B=2, C=20):\n",
        "    #This runs the parent class (nn.Module) __init__() so the model can register layers and parameters properly\n",
        "    super().__init__()\n",
        "    #These represents the attributes that will be initialized for every instance of this class that you create\n",
        "    self.conv1 = nn.Conv2d(in_channels = 3,out_channels = 64, kernel_size = 7,stride = 2, padding = 3)\n",
        "    self.conv2 = nn.Conv2d(in_channels = 64,out_channels = 192, kernel_size = 3, stride = 1, padding = 1)\n",
        "    self.conv3 = nn.Conv2d(in_channels = 192,out_channels = 128, kernel_size = 1,stride = 1, padding = 0)\n",
        "    self.conv4 = nn.Conv2d(in_channels = 128,out_channels = 256, kernel_size = 3, stride = 1, padding = 1)\n",
        "    self.conv5 = nn.Conv2d(in_channels = 256, out_channels = 256, kernel_size = 1, stride = 1, padding = 0)\n",
        "    self.conv6 = nn.Conv2d(in_channels = 256, out_channels = 512, kernel_size = 3, stride = 1, padding = 1)\n",
        "    self.conv7 = nn.Conv2d(in_channels = 512, out_channels = 256, kernel_size = 1,stride = 1, padding = 0)\n",
        "    self.conv8 = nn.Conv2d(in_channels = 256,out_channels = 512, kernel_size = 3, stride = 1, padding = 1)\n",
        "    self.conv9 = nn.Conv2d(in_channels = 512,out_channels = 256, kernel_size = 1,stride = 1, padding = 0)\n",
        "    self.conv10 = nn.Conv2d(in_channels = 256,out_channels = 512, kernel_size = 3,stride = 1, padding =1)\n",
        "    self.conv11 = nn.Conv2d(in_channels = 512,out_channels = 256, kernel_size = 1,stride = 1, padding = 0)\n",
        "    self.conv12 = nn.Conv2d(in_channels = 256,out_channels = 512, kernel_size = 3,stride = 1, padding = 1)\n",
        "    self.conv13 = nn.Conv2d(in_channels = 512,out_channels = 256, kernel_size = 1,stride = 1, padding = 0)\n",
        "    self.conv14 = nn.Conv2d(in_channels = 256,out_channels = 512, kernel_size = 3,stride = 1, padding = 1)\n",
        "    self.conv15 = nn.Conv2d(in_channels = 512,out_channels = 512, kernel_size = 1,stride = 1, padding = 0)\n",
        "    self.conv16 = nn.Conv2d(in_channels = 512,out_channels = 1024, kernel_size = 3,stride = 1, padding = 1)\n",
        "    self.conv17 = nn.Conv2d(in_channels = 1024,out_channels = 512, kernel_size = 1,stride = 1, padding = 0)\n",
        "    self.conv18 = nn.Conv2d(in_channels = 512,out_channels = 1024, kernel_size = 3,stride = 1, padding = 1)\n",
        "    self.conv19 = nn.Conv2d(in_channels = 1024,out_channels = 512, kernel_size = 1,stride = 1, padding = 0)\n",
        "    self.conv20 = nn.Conv2d(in_channels = 512,out_channels = 1024, kernel_size = 3,stride = 1, padding = 1)\n",
        "    self.conv21 = nn.Conv2d(in_channels = 1024,out_channels = 1024, kernel_size = 3,stride = 1, padding = 1)\n",
        "    self.conv22 = nn.Conv2d(in_channels = 1024,out_channels = 1024, kernel_size = 3,stride = 2, padding = 1)\n",
        "    self.conv23 = nn.Conv2d(in_channels = 1024,out_channels = 1024, kernel_size = 3,stride = 1, padding = 1)\n",
        "    self.conv24 = nn.Conv2d(in_channels = 1024,out_channels = 1024, kernel_size = 3,stride = 1, padding = 1)\n",
        "\n",
        "    #Pooling and Activation\n",
        "    self.MaxPooling2d = nn.MaxPool2d(kernel_size = 2, stride = 2)\n",
        "    self.LeakyReLU = nn.LeakyReLU(negative_slope = 0.1)\n",
        "\n",
        "    #Flattening and Fully Connected Layer\n",
        "    self.Flatten = nn.Flatten()\n",
        "    self.Linear = nn.Linear(in_features = 50176 , out_features = 4096)\n",
        "    self.Dropout = nn.Dropout(0.5)\n",
        "    self.Linear2 = nn.Linear(in_features =4096 , out_features = S * S * ( B * 5 + C))\n",
        "\n",
        "\n",
        "  #This defines how input data flows through the layers of the model during the forward pass\n",
        "  def forward(self, x):\n",
        "    x = self.MaxPooling2d(self.LeakyReLU(self.conv1(x)))\n",
        "    x = self.MaxPooling2d(self.LeakyReLU(self.conv2(x)))\n",
        "    x = self.LeakyReLU(self.conv3(x))\n",
        "    x = self.LeakyReLU(self.conv4(x))\n",
        "    x = self.LeakyReLU(self.conv5(x))\n",
        "    x = self.MaxPooling2d(self.LeakyReLU(self.conv6(x)))\n",
        "    x = self.LeakyReLU(self.conv7(x))\n",
        "    x = self.LeakyReLU(self.conv8(x))\n",
        "    x = self.LeakyReLU(self.conv9(x))\n",
        "    x = self.LeakyReLU(self.conv10(x))\n",
        "    x = self.LeakyReLU(self.conv11(x))\n",
        "    x = self.LeakyReLU(self.conv12(x))\n",
        "    x = self.LeakyReLU(self.conv13(x))\n",
        "    x = self.LeakyReLU(self.conv14(x))\n",
        "    x = self.LeakyReLU(self.conv15(x))\n",
        "    x = self.MaxPooling2d(self.LeakyReLU(self.conv16(x)))\n",
        "    x = self.LeakyReLU(self.conv17(x))\n",
        "    x = self.LeakyReLU(self.conv18(x))\n",
        "    x = self.LeakyReLU(self.conv19(x))\n",
        "    x = self.LeakyReLU(self.conv20(x))\n",
        "    x = self.LeakyReLU(self.conv21(x))\n",
        "    x = self.LeakyReLU(self.conv22(x))\n",
        "    x = self.LeakyReLU(self.conv23(x))\n",
        "    x = self.LeakyReLU(self.conv24(x))\n",
        "    x = self.LeakyReLU(self.Linear(self.Flatten(x)))\n",
        "    x = self.Dropout(x)\n",
        "    x = self.Linear2(x)\n",
        "    return x\n",
        "\n"
      ],
      "metadata": {
        "id": "zjf2zbBvpME-"
      },
      "execution_count": null,
      "outputs": []
    },
    {
      "cell_type": "markdown",
      "source": [
        "## Architecture Test\n",
        "This just makes sure the architecture works as intended\n"
      ],
      "metadata": {
        "id": "PBdPPz0vH-th"
      }
    },
    {
      "cell_type": "code",
      "source": [
        "# model = YOLOv1()\n",
        "# model = model.to(device)"
      ],
      "metadata": {
        "id": "cwXfGwm1IVwv"
      },
      "execution_count": null,
      "outputs": []
    },
    {
      "cell_type": "code",
      "source": [
        "# dummy_input = torch.randn(1, 3, 448, 448).to(device)\n",
        "\n",
        "# with torch.no_grad():\n",
        "#     output = model(dummy_input)\n",
        "\n",
        "# print(\"Output shape:\", output.shape)"
      ],
      "metadata": {
        "colab": {
          "base_uri": "https://localhost:8080/"
        },
        "id": "w2tvjBG5KNa5",
        "outputId": "f99f3132-f9f6-4ce8-dfc0-398b45d9c2df"
      },
      "execution_count": null,
      "outputs": [
        {
          "output_type": "stream",
          "name": "stdout",
          "text": [
            "Output shape: torch.Size([1, 1470])\n"
          ]
        },
        {
          "output_type": "stream",
          "name": "stderr",
          "text": [
            "/usr/local/lib/python3.12/dist-packages/torch/nn/functional.py:1535: UserWarning: dropout2d: Received a 2-D input to dropout2d, which is deprecated and will result in an error in a future release. To retain the behavior and silence this warning, please use dropout instead. Note that dropout2d exists to provide channel-wise dropout on inputs with 2 spatial dimensions, a channel dimension, and an optional batch dimension (i.e. 3D or 4D inputs).\n",
            "  warnings.warn(warn_msg)\n"
          ]
        }
      ]
    },
    {
      "cell_type": "code",
      "source": [
        "# total_params = sum(p.numel() for p in model.parameters())\n",
        "# trainable_params = sum(p.numel() for p in model.parameters() if p.requires_grad)\n",
        "\n",
        "# print(f\"Total params: {total_params:,}\")\n",
        "# print(f\"Trainable params: {trainable_params:,}\")"
      ],
      "metadata": {
        "id": "kAtjUMCyKkv4",
        "colab": {
          "base_uri": "https://localhost:8080/"
        },
        "outputId": "c2a5f213-8ae2-4df9-cd61-4fe3ef2925ef"
      },
      "execution_count": null,
      "outputs": [
        {
          "output_type": "stream",
          "name": "stdout",
          "text": [
            "Total params: 271,703,550\n",
            "Trainable params: 271,703,550\n"
          ]
        }
      ]
    },
    {
      "cell_type": "markdown",
      "source": [
        "###Intersection Over Union\n",
        "\n",
        "How we calculate the corner coordinates ![Made with love.jpg](data:image/jpeg;base64,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)\n",
        "\n",
        "\n",
        "How to calculate the intersection\n",
        "\n",
        "![Made with love too.jpg](data:image/jpeg;base64,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)\n"
      ],
      "metadata": {
        "id": "BEyBQwR0Xs4D"
      }
    },
    {
      "cell_type": "code",
      "source": [
        "def intersection_over_union(boxes_preds, boxes_labels):\n",
        "  ''' The intersection_over_union is passed two one dimensional tensors ([x,y,w,h]),\n",
        "      one for predictions and the other for the ground truth.\n",
        "      It uses pytorch slicing to get the coordinates it needs for its calculations.\n",
        "      [..., 0:1] for x coordinate\n",
        "      [..., 1:2] for y coordinate\n",
        "      [..., 2:3] for width\n",
        "      [..., 3:4] for height\n",
        "\n",
        "      the ... basically means all the other dimensions.\n",
        "      the value before ':' is the start index and the value after ':' is the end index (end index - 1)\n",
        "      so it basically return a sign value in this case.\n",
        "\n",
        "  '''\n",
        "  #Calculating the corner values based on the centers and the width and height\n",
        "  #for the x coordinate of the upper left corner we subtract half of the width from x coordinate of center.\n",
        "  #N/B due to order of operation we do not need to put these aspects (boxes_preds[..., 2:3] / 2 ) in bracket\n",
        "  box1_x1 = boxes_preds[..., 0:1] - boxes_preds[..., 2:3] / 2\n",
        "  #for the y coordinate of the upper left corner we subtract half of the height from y coordinate of center.\n",
        "  box1_y1 = boxes_preds[..., 1:2] - boxes_preds[..., 3:4] / 2\n",
        "  #for the x coordinate of the lower right corner we add half of the width from x coordinate of center.\n",
        "  box1_x2 = boxes_preds[..., 0:1] + boxes_preds[..., 2:3] / 2\n",
        "  #for the y coordinate of the lower right corner we add half of the height from y coordinate of center.\n",
        "  box1_y2 = boxes_preds[..., 1:2] + boxes_preds[..., 3:4] / 2\n",
        "  #for the x coordinate of the upper left corner we subtract half of the width from x coordinate of center.\n",
        "  box2_x1 = boxes_labels[..., 0:1] - boxes_labels[..., 2:3] / 2\n",
        "  #for the y coordinate of the upper left corner we subtract half of the height from y coordinate of center.\n",
        "  box2_y1 = boxes_labels[..., 1:2] - boxes_labels[..., 3:4] / 2\n",
        "  #for the x coordinate of the lower right corner we add half of the width from x coordinate of center.\n",
        "  box2_x2 = boxes_labels[..., 0:1] + boxes_labels[..., 2:3] / 2\n",
        "  #for the y coordinate of the lower right corner we add half of the height from y coordinate of center.\n",
        "  box2_y2 = boxes_labels[..., 1:2] + boxes_labels[..., 3:4] / 2\n",
        "\n",
        "\n",
        "  #calculate the coordinates of the intersection\n",
        "  x1 = torch.max(box1_x1, box2_x1) #Picks the largest values\n",
        "  y1 = torch.max(box1_y1, box2_y1) #Picks the largest values\n",
        "  x2 = torch.min(box1_x2, box2_x2) #Picks the smallest values\n",
        "  y2 = torch.min(box1_y2, box2_y2) #Picks the smallest values\n",
        "\n",
        "  #area is length*breadth\n",
        "  #we do the subtraction to get the various lengths and breadths\n",
        "  #when the calculated length or breadth is negative it means there is no intersection\n",
        "  #N/B due to order of operation we do need to put so operations in bracket\n",
        "  intersection_area = (x2 - x1).clamp(0) * (y2 - y1).clamp(0) #the .clamp(0) set all values below 0 to 0\n",
        "  box1_area = abs((box1_x2 - box1_x1) * (box1_y2 - box1_y1))  #abs() ensures we only have positive areas\n",
        "  box2_area = abs((box2_x2 - box2_x1) * (box2_y2 - box2_y1))\n",
        "\n",
        "  #we subtract an intersection because we have the intersection added twice when we do box1_area + box2_area\n",
        "  union_area = box1_area + box2_area - intersection_area\n",
        "  iou = intersection_area / (union_area + 1e-6) # It is (union_area + 1e-6) because union_area can be 0\n",
        "  #something divided by 0 is undefined so 1e-6(0.000001) will ensure we get a number that is approximately 0.\n",
        "\n",
        "  return iou"
      ],
      "metadata": {
        "id": "Dk1tcRFyxPzB"
      },
      "execution_count": null,
      "outputs": []
    },
    {
      "cell_type": "markdown",
      "source": [
        "###Nonmax Suppression"
      ],
      "metadata": {
        "id": "m8RBlTHhfYUK"
      }
    },
    {
      "cell_type": "code",
      "source": [
        "def nms(bboxes, iou_threshold, threshold, box_format=\"corners\"):\n",
        "  assert type(bboxes) == list\n",
        "\n",
        "  bboxes = [box for box in bboxes if box[1] > threshold]\n",
        "  bboxes = sorted(bboxes, key=lambda x: x[1], reverse=True)\n",
        "  bboxes_after_nms = []\n",
        "\n",
        "  while bboxes:\n",
        "      chosen_box = bboxes.pop(0)\n",
        "\n",
        "      bboxes = [\n",
        "          box\n",
        "          for box in bboxes\n",
        "          if box[0] != chosen_box[0]\n",
        "          or intersection_over_union(\n",
        "              torch.tensor(chosen_box[2:]),\n",
        "              torch.tensor(box[2:]),\n",
        "              box_format=box_format,\n",
        "          )\n",
        "          < iou_threshold\n",
        "      ]\n",
        "\n",
        "      bboxes_after_nms.append(chosen_box)\n",
        "\n",
        "  return bboxes_after_nms"
      ],
      "metadata": {
        "id": "bMjpBGRl2mG4"
      },
      "execution_count": null,
      "outputs": []
    },
    {
      "cell_type": "code",
      "source": [
        "def mean_average_precision(pred_boxes, true_boxes,\n",
        "                           iou_threshold=0.5,\n",
        "                           box_format=\"midpoint\",\n",
        "                           num_classes=20\n",
        "                           ):\n",
        "  # list storing all AP for respective classes\n",
        "  average_precisions = []\n",
        "\n",
        "  # used for numerical stability later on\n",
        "  epsilon = 1e-6\n",
        "\n",
        "  for c in range(num_classes):\n",
        "      detections = []\n",
        "      ground_truths = []\n",
        "\n",
        "      # Go through all predictions and targets,\n",
        "      # and only add the ones that belong to the\n",
        "      # current class c\n",
        "      for detection in pred_boxes:\n",
        "          if detection[1] == c:\n",
        "              detections.append(detection)\n",
        "\n",
        "      for true_box in true_boxes:\n",
        "          if true_box[1] == c:\n",
        "              ground_truths.append(true_box)\n",
        "\n",
        "      # find the amount of bboxes for each training example\n",
        "      # Counter here finds how many ground truth bboxes we get\n",
        "      # for each training example, so let's say img 0 has 3,\n",
        "      # img 1 has 5 then we will obtain a dictionary with:\n",
        "      # amount_bboxes = {0:3, 1:5}\n",
        "      amount_bboxes = Counter([gt[0] for gt in ground_truths])\n",
        "\n",
        "      # We then go through each key, val in this dictionary\n",
        "      # and convert to the following (w.r.t same example):\n",
        "      # ammount_bboxes = {0:torch.tensor[0,0,0], 1:torch.tensor[0,0,0,0,0]}\n",
        "      for key, val in amount_bboxes.items():\n",
        "          amount_bboxes[key] = torch.zeros(val)\n",
        "\n",
        "      # sort by box probabilities which is index 2\n",
        "      detections.sort(key=lambda x: x[2], reverse=True)\n",
        "      TP = torch.zeros((len(detections)))\n",
        "      FP = torch.zeros((len(detections)))\n",
        "      total_true_bboxes = len(ground_truths)\n",
        "\n",
        "      # If none exists for this class then we can safely skip\n",
        "      if total_true_bboxes == 0:\n",
        "          continue\n",
        "\n",
        "      for detection_idx, detection in enumerate(detections):\n",
        "          # Only take out the ground_truths that have the same\n",
        "          # training idx as detection\n",
        "          ground_truth_img = [\n",
        "              bbox for bbox in ground_truths if bbox[0] == detection[0]\n",
        "          ]\n",
        "\n",
        "          num_gts = len(ground_truth_img)\n",
        "          best_iou = 0\n",
        "\n",
        "          for idx, gt in enumerate(ground_truth_img):\n",
        "              iou = intersection_over_union(\n",
        "                  torch.tensor(detection[3:]),\n",
        "                  torch.tensor(gt[3:]),\n",
        "                  box_format=box_format,\n",
        "              )\n",
        "\n",
        "              if iou > best_iou:\n",
        "                  best_iou = iou\n",
        "                  best_gt_idx = idx\n",
        "\n",
        "          if best_iou > iou_threshold:\n",
        "              # only detect ground truth detection once\n",
        "              if amount_bboxes[detection[0]][best_gt_idx] == 0:\n",
        "                  # true positive and add this bounding box to seen\n",
        "                  TP[detection_idx] = 1\n",
        "                  amount_bboxes[detection[0]][best_gt_idx] = 1\n",
        "              else:\n",
        "                  FP[detection_idx] = 1\n",
        "\n",
        "          # if IOU is lower then the detection is a false positive\n",
        "          else:\n",
        "              FP[detection_idx] = 1\n",
        "\n",
        "      TP_cumsum = torch.cumsum(TP, dim=0)\n",
        "      FP_cumsum = torch.cumsum(FP, dim=0)\n",
        "      recalls = TP_cumsum / (total_true_bboxes + epsilon)\n",
        "      precisions = TP_cumsum / (TP_cumsum + FP_cumsum + epsilon)\n",
        "      precisions = torch.cat((torch.tensor([1]), precisions))\n",
        "      recalls = torch.cat((torch.tensor([0]), recalls))\n",
        "      # torch.trapz for numerical integration\n",
        "      average_precisions.append(torch.trapz(precisions, recalls))\n",
        "\n",
        "  return sum(average_precisions) / len(average_precisions)\n"
      ],
      "metadata": {
        "id": "wLvVEz2s3GKS"
      },
      "execution_count": null,
      "outputs": []
    },
    {
      "cell_type": "markdown",
      "source": [
        "##Model loss\n",
        "![image.png](data:image/png;base64,iVBORw0KGgoAAAANSUhEUgAAAiwAAAF2CAYAAABNisPlAAAAAXNSR0IArs4c6QAAAARnQU1BAACxjwv8YQUAAAAJcEhZcwAADsMAAA7DAcdvqGQAAHgASURBVHhe7d0JvEzlGwfwl2xlKbKHCpG9opSyJJGk7EsooZKdRLZQlnYkUrJEZQnRYqnsKqLsWf72bJGQbFnO//ye+x7mzp3lzH7m3t/38xnmvDP3ztwzy3nO+z7v86YyTIqIiIjIwVLr/4mIiIgciwELEREROR4DFiIiInI8BixERETkeAxYiIiIyPEYsBAREZHjMWAhIiIix2PAQkRERI7HgIWIiIgcjwFLBJw+fVpt375dnTp1SrcQERFRKFiaP8yGDBmiLl68qPLkyaPmzJmjrrvuOjVhwgSVMWNGfQ8iIiIKFAOWMFqyZInq37+//J8qVSp1+fJlVb58eVWlShX11ltv6XsRERFRoDgkFEYFChRQxYoV01vmzk2dWtp27typW4iIiCgY7GGJoGPHjqlbbrlFTZ48WdWpU0e3EhERUaAYsATgwoUL6vPPP1e7du2S61WrVlXZs2dXGTJkULfffru+V4KTJ09KkNKhQwdVv3593Ro+69evVytXrtRbV2XLlk3dd999Kl++fLqFiIgo/nFIyKbjx4+rNm3aqLJly6qBAweqV155RQKXypUrq5w5c+p7Jdi7d6/q2LGjGjNmjAQrv/76q74lfG677Tb1559/qqFDh6oHHnhA8mTw/z///KPKlSunJk6cqO9JREQU/9jDYlO/fv1UzZo1VYUKFXRLgho1aqgFCxboLSW9HiNHjlSdO3dW6dKlU//++6+aNWuWevfdd/U9wqd9+/bS0/PRRx/plgTPP/+82rNnT6LnRUREFM/Yw2ITgo/PPvtMAhBXCE4sCFYefPBBGTbC7KA777xTVaxYUd166636HuGF2UjoWXG1bt06tXDhQvXyyy/rFiIiovjHHhabkJPSu3dvNXXqVJn5U6lSJdWrVy+VO3dufY/oOnLkiDw2plEjj+a///5Tixcvlra3335bZcmSRd+TiIgo/jFgCRB217Zt29T8+fPV8OHD1Y4dO1SaNGn0rdHzxRdfqD59+khFXcuZM2ek7ZdfflGLFi1S6dOn17cQERHFNw4J2eCawIqCcJgR1KVLF0nAReJtLHgaDkJV3aefflr99NNPrP1CRETJCgMWG9CTcuLECb2VANvobcFsnVhAwIIZSq7Onz+vBg8erB599FFVvHhx3UpERBT/OCTkB3JF6tWrp8qUKSNF4AoVKiTTlv/3v/9JTku0652sWbNGffjhh+rjjz9WLVq0ULly5ZLACcNBmBmEWUsvvPCCJAkTERElFwxY/MDKy4DFCzHMcvjwYVWwYEFZ3JCIiIiigwELOdrmzZtVgwYN9FaCGTNmqBIlSugtIkLdp++++05vKXXPPfeoTz75RG8RJQ8MWMjRUCUYFYYRpFgwDMcZUERXoefX6g3GsDGqbKPMAVFywqRbiohz586ppUuX6q3EkP/jOh3bH6zVhNwh68JghSgx1F+yPh9cR4ySKwYsFBGoANyyZUu9ldgPP/ygvv/+e71FsYCVxFFDCDPLKD7wNaOUjgGLB5gNhHoruFx77bUqc+bMfi+ZMmWS+15zzTVXftbTZfTo0fpRPNu9e3ei++P3eno89wvuh54H1591v6ROnVpt2rRJP1JkPf744/paUpjFhHWQKPpOnTqlunbtqiZMmKDmzp0rC2ZiMU9yLr5mRAkYsHjwxhtv6GtKSvCj5gq+NHxdsMbQ2bNn1aVLl2TFZMwowpo+WE0ZdVHSpk0rvw9l83Efb7DuEA7oFqwJ5Onx3C94fJx54Xf//fff6vfff1dfffWV/DwS8ADpSm+99ZZcDyf8nViyAL/7wIEDujUBhoUQnOB2wGKN+NLFeksUfe+8844EuN27d1edOnWS1wLv0W+//Vbfg5yGrxlRAgYsHjRu3FjWCQJk3vfs2VOu24UvF0x9rlq1qgQM+GJBz0m3bt2khgvK6vsyYsQICZTglVdekcDDLvSiZM2aVRUrVkzVrl1bvthWrVolyauPPfaYmjJlivrjjz/0vf1DbZcBAwYkqvbrCoEI/r4mTZpIr8q9996r/vrrL7kN/6OOTf369aUyMP5uJAZin3JIKDbKlSsna09ZbrzxRnm/sjKyc/E1I9IwS4iSunTpkmEe4DGDSi6TJk3St4TGPFgbDzzwgN7yzjzQGzfffLM8tvnlZGzevFnfEpohQ4YYXbt21Vu+rV271pgwYYJRpUoVo3///ro1sQoVKhjz58/XW4ZRo0YNY9SoUcbWrVvl+VsGDhxoNGzYUK6PGTPGaNmypVz3Z82aNYYZBOkt7y5fvmwMGjTIOHXqlG5JmfC+MQNeveUfXrssWbIYZiCtW2Jj2rRphhlU662UJdyv2YoVK+QzS5TcRLyHBQsFooQ8pqZevHhRtzofeio+++wzWTcInnvuObV69Wq5HoqHH35YNW/e3OsMGkuOHDnU7NmzZX0gDPk88cQT6vjx4/rW4KHnCFVxsfq0Jxgrf/DBB69c0MOCGg/eYLgMQ2GWvHnzyvAUIG/GYgYvibbDyQxWpAfnkUcekVyeeIeeqVq1aqmVK1fqFvvwvilatKh69dVXdYt3GzZskNW+sfYUViCPFfTe4b1911136Zb4hTyTQL/r4vE1I4qFiAcs+CAi0XT8+PFq7NixujU+mGcxas6cOeqGG26Qabp169aVegehev7555OsA+TJHXfcIV+AgNkBGHbxlf9iF2o0XH/99XorsWHDhkn9Blzw+FhgEX+/N7gdK0Nb8IWKoMwdhqQQdEXC+++/L5WHsRhlvMPQIV7nDh06qCFDhqhvvvlG32Iflmc4evTolbwhT5B3hPfBggULZD2sYJOxUR/nzz//1FuBW7t2rZo2bZp8JuIdXq/ffvtNVaxYUV5Dqy6KHdF8zYjiVVRyWFCVFB9IHFjiTZEiRSTvAz0uSCjFukL//fefvjXyGjVqJGsWQTD5NJE2aNAgyctBQIrKms8++6y688475awRgc4HH3wg+w9ng08++aT+qfBBgvFHH32kXnzxRd0S32bOnCkHrZo1a6ovv/xSrV+/XnrEAvXaa6/JQpiepsDixGH+/PnSa4gACa9bsAc/5C+hFy5YyOuKRCJ4tCFQRy8ipvNjxXT0gqCHNBDRes2I4pYeGoo480xR8jHMswTdEl/ML9Ur+SytW7fWrdERqXwafzAOvnjxYrl4y2GxnDhxwrh48aLeuurkyZOG+QWstxKMHj3a6NKli97yzV8Oy6uvvmp06NBBb5Er5AwhX8jVsGHDrryPXC/mAVffIzDIRVq5cqXeCsyyZcuMkiVL6i2CcLxmzGGh5Cpqs4RwxogqjPHYywKYUtisWTO5Pm7cuKj+HVY+DWb+QLjyacIJQ0yoQeMOw2rWytGYar1v3z6Z9o1u83DAkAmG6rzBfnrzzTflNcOwHmZWYGo5emWw7STYN3hfvfvuu9Kbhzwj9FANHz5c7d+/X9/LPuwX96mvyPUxP/dJLqVKldL3iB5frx3yojAcOmrUKHm/uMLQCIZPnCDcz9PprxlRLEUtYMFBt127djJFF1/M8ejjjz++kieB5FTkeURLpPJpogmJlQge0HWOobVQ4YCOdVMwnu8JutHXrVunevToIXkWyKFBDgDyJfBa4rpT4O/AdHYkbGJqOHKcXnrpJVWnTh2Zho6clkAhfwzv0XDkPUUCDujeXjskh2MYGa8fpuZbkICOk58ff/xRt8RWuJ+n018zoliKWsACZcqUkQ8izhpjASv/4qCPSzDlrbGmDcalsW4HZgEgvySU8ftA4csd+Q3oycAZOOqbRDOfJlT333+/9CAgITEcsA8wQyhXrly65SrchpkUyKmBwoULS+0X5EzgdcTZKerSuEP5cxS3izbkLiCHAc8NzxU9QQ899JAkE6OujvV3uELgilla3uBnMWMLf5MT4cQFz9EdkrhR7BAzzpCs7doTtmLFCvns4b3kKhavWzDPM95fM6JYitpqzUgYRVc3eghwZoWzRnw5RxMO7ihuhix79E54OtDZgQMhpvzi9yEI+/nnn6Usf7Sg8iWGqAAHMgxvRAL+RiQPwpIlS6SAXLThQIDeBexjd8uWLZMeCCTeukOiKt7aGTNmlG3sL7zvMCvFFxyA8D5F+XNf8HuQAG3n44MAE1N3Eeh6g6EDJCoDhkrwPsX05mzZskmbJ0g0RkExq8ihO5wcpEmTRobirOHEYKFnFAml7nASgMX23GedYZmIWbNmXRkO9AT7BfuxdOnSuiUBXk98T2zZskWVLFlS/fLLL+ruu++W27DPUel148aNsm2x+7rhRCWQxHk8XrVq1fRWYsE8z2i8ZujV6du3b1R7gImiAgFLpH366adGuXLljOPHj0txKDys+QWub40uJAni8c2ARbcEZ+zYsfJ7ihQpIn9XtDVv3lwev1GjRrol/AJJuoWzZ8/63Bfml7EUyQqEr6Rb3HbdddfpLd/Kli1rK9EXz9EO3O/AgQPG/v37/V4OHjyof8oe86Bm3HHHHXrLO3/P9Z9//pH3yJ9//qlbgofEaU9/G5JEzWAmSbudx8yUKZNhHuT1VlL9+vUzChcurLcSmAGB0bFjR711ld3XDfDc3J+vt4sZ2Oif8i6czzMcrxmTbim5iviQEM56sFAXzhpxNoLiUBUqVEhytoby8eYHX0rZT548WdqQ0IYzhQ8//FC68pGH4KsdPQ/mF6hMDUWeQqtWraQdiZfo/kebVTY+VDhDw5klhhnwd0UThkHQ/Y0zP2tfOUGfPn18Dvfh9cLrGy7oIUNPimtXvCurgB1yXXAmby13AOgxwPvIgi54JDabBynd4htysjAUcNNNN/m9eBr2cGc9V0Bvlutz3b59u9T3sGCoAe9x1zZP0GuDnr+cOXPqluChp8TT34YeLPx+93Y7j4nXz9fQB3rX8F1hQV4I/mb0/FkCfd3A0/P1drHWAPPFzvOMxWtGlNxELGAxgyFJGkQQgeEg1+EXdPHjQ44gBdD9iS9ojNmjZkvLli3lYNKiRQvp9keggSJMOEDjg++tHQmxKGSFIAnd6xhGwMHKqoCKg6mv8WO7UFcEwyP4u2JRbRL7D7kzqNPhq8s9VNhXSCbEBfvRH9TT8NbVDW3btpVk13BBwJg/f37pkneHIl7IBQHk/SDIs7YPHTokxcqsYTy8h1BlFDV3fK0yHSnLly+XoHfr1q3yWcD+tp4rnjfq8GCGnQXBOoZREJz7moWCYoPW73EiHOQ9vXYWVEZ2XUMHM72wP6xgLtavm8Xf84Tk8poRxVLEAhaMX2O6Hw7qt9xyi25N0KBBA0kgxcJ+gIMYeiyKFy8uH2iMBSNgwRkJZpQAAgMUSkL+iKd2lDG3zoYQwKCgGb4Mf/jhBxlrxpcHzopD/TKYN2+eBAyYehhqXkAw8MWHsv4YH49EGXrX0vw4iFpJyjiIWu3u/J09YronAgS8ruEuz4+quuiRcIeAFc8V+T0ItlBtGUEMCtwhoHWdlo4EV+S44Pljlka0YSE75GBgphCeH96zCEZxHT1S+JxYOSLoTcLffOnSJfnM+Mpxwe/BQp5O5e21s+CkACcm2A/ofcX3BA76WPwPYv26Wfw9z+T0mhHFVMLIUPiZAYfPfIZTp05dWbyrRYsWMm67bds22Ybdu3dL2zPPPCPbr7/+umyPHDnSY/vXX38tY7e4jkXwLOYBS9qQcwKh5LD8+OOPRtasWQ3zS0W3RBcKSJmBmoytO0nPnj2N7du3G2ZgmiRHBfu5V69eku+Bcf3169frW+zxlcMCq1ev9nq7eQZumMGq3jKMf//91zh27JjeSqpUqVLGokWL9FZ0mUGfcejQIb1lGBcuXJB95g3yI8xARm8lZZ7hG+YJQMQXNQylcBxeD/MEwvjrr790S2LI50DuzI4dOwzzoC/5Ym+88Ya+9apYvm5g93lG6zVjDgslVxHrYcEMIF+5HegdsIZT7rvvPvl/0qRJ8j/G8zGVs2DBgleGIlDDA+Pl6IHx1I4zVPPvkTZ0x1qwHg6gfDxYuQKu97ED2f6o44GzJwxdRRv2jRmcSc4Mxtadwt/ZI/YbhjSQ74GhmHD3sGDpfbwfsF/cYeFIvI8seJ94O7tF7w/yYdArg56YaMOMGddZRJgpgn3mCfYzcpdat24teUGe8kDQo4XifJEeskTPjzUTK1D4OdTIQY+XO8yywZRgDHliOAyl6PF3YxjYVaxfN7vP00mvGVHcSohbYsv8MBsNGjQwzIOZYR78jLfffluy6X/++WejdOnSxrx58+QsesaMGXJ/b+2YXYE/qXz58sauXbukDZ599lnjxhtvNMwvETnLNwMp6amxa+fOnUaePHkMM1jRLaHZs2dPQKXQ58yZI89/7dq1uiU0y5cvD/vMJn9njzj7zJ49u5xFBsJfDwugJwJLF5w4cUK3BG7Lli3y3kCp/1ierduBz0uZMmXkc+Jexh3Qy4XPUSj7I1rQs9S4cWPjt99+0y0J2rdvbwwfPlx6L/A3mic10uvqLtavm93nGc3XjD0slFw5ImCx4EOLD74rHODQRYouclfe2r1BdzuGCNx/vz/4OfMM3njzzTd1S2jMs0GZ4m13WGfJkiUyDLV06VLdEpqtW7dKQBdO6A5HEIjXA1/Gnrr4MSRXv359vWWfnYAFELR06NDB9vvBE7w26NKPBwjoT548qbeuwt+AKe+uAbvT4WCOgNd1CAzvKZyQYA2vBQsW+Ax0Y/m6BfI8o/WaMWCh5MpRAYvToBcC4+Mvv/yybgkN8jnq1q1r+8CNs85s2bJJfk44IH/k9ttvD6h3yQ5/Z4/QrFkz4/3339db9tkNWACBEg4gKRkC8njoWXGHQDPQGj3JRbhfMwYslFxFtTR/PDHPelStWrVU+fLlE60REijzjEtmK2GsG7kWmP2BNZX8Qe0NrEWChe88lZC3yzyAy8wqzDxAPg8qDGNaeDhhdhZmaqDqruvYPR4bzIBGypgj1yWSMCsjktO84wFmHLlXnY0HyNmxKv2mNPH6mhFFW9RK88cT82xP6jqg4BwSRj2tQuwJfg5JvbiYZ00SdKDejJXoC6gZgXobvpJPDxw4IIl8+AJv3ry5bvUNLyMCBDwWCleZZ2yS8IoLnpcFKz0j6S/S8HyQHIyCgSjshZoZY4JYbBD7z1tpfiJKiqX5KbliwOLBM888I2u/RAJ6TDp37qy3kkL9Gcx8QQGxSEDFV2vmVKRh7R4UwsJ6S/fee69uDQwDFqLAMGCh5IoBiwco328NZ4QbSm77KveNlwPTfyPxsqBXx9tUWadiwEIUGAYslFwxYCFHY8BCFBgGLJRcMemWHA/LAmAZBOuyefNmfQsRAYaZrc/Hk08+qVuJkhf2sJCjYWjOfSVeLHqYPn16vUVEhw8flsR2Cxb2jLfhXyJ/GLD4gF1z5MiRRCtNBwu/B7N3sBCk3VlHgJVdMV0XCzeGAn/Lvn37ZPqok0r7ExER2cEhIR8wJfepp57SW8HBSsaYSvzVV1+p9evXq2bNmsn/dmHG0K5du/RWcFB7BX8H8kHmz58v6zEheCIiIooX7GHxA4XfQundeOWVV6SHxJrKjOENLJ6Iact2elpCfXyoVKmSGjlypEwvBtRFwZRjLIdPREQUD9jD4sXy5culhyVUU6dOVbfeeqveSsi/wLRlVIb1BbdPmTJFCtCF4uDBg/K3uD4HJObNmDFDVlgmIiKKB+xh8WDcuHEqT5480hOB4ZM6depI++7du9WLL77ot0YKggMsmY/eEfSirFixQirXWpDHMmjQIK9VbFGJNn/+/FeWpJ85c6a+RanXX39drVq1Sm9516tXL3XPPffI1Mbq1asnqna7Z88eeY4YKkIARURE5HQMWDz49ttv1SOPPCKBxYIFC1Tx4sX1LYFBDwaSXBFgIHiwIBgZPHiwx/wYBDno2cHSAAic5s6dmyhgCRSGfmrXri1rI1l27typChcurPbu3asKFCigW4mIiJyLQ0IeYNHDOXPmyGKFwQYrgN4VBCeuawnB33//Lb/bE+SrIFiBJUuWqAcffFCuBws9KZga7NrDgsfHtMfcuXPrFiIiImdjD4sXjz76qGratKkELCjVX6NGDZmt0717d9tDQoBkW2x36dJFtjG9GWv5YFjG38rCCHbmzZunSpYsqVsCHxICPB7WRrLWEJo+fbpckMdCREQUDxiweNGmTZsr9U+QbxJI7RRXGIpp0aKF5KugR2P06NEyzblixYr6Hp5h0cD77rtPAhxfKzvbgdWhUaq7U6dOsrjiqFGjZLgppS7nT0RE8YcBiw8nTpxQN9xwg94KHnYxysljaAi9JZkyZdK3JIXhG1Rxfe+996QnBYm/4XDu3Dm1ceNGWXixVKlSQQdgREREscCAxUEwO2jRokWqf//+qn79+jJkU6JECX0rERFRysWAxUGQK4Nk34wZM6pq1aqp7Nmz61uIiIhSNgYsRERE5Hic1kxERESOx4CFiIiIHI8BCxERETkeAxYiIiJyPAYsRERE5HgMWIiIiMjxGLAQERGR4zFgISIiIsdjwEJERESOx4CFiIiIHI8BCxERETkeAxYiIiJyPAYsdMXFixfVzp071ZEjR3QLERGRM3C1ZhIzZsxQq1evVrfddpv69ddf1dq1a9XEiRPV7bffru9BREQUOwxYSJ07d04VL15cLV++XN10003S1q1bN9lGEENERBRrHBIilTZtWlW1alW9leDWW2+V4SEiIiInYA8LJYG3xAMPPKDuueceNWzYMN1KREQUOwxYUojvv/9e/fTTT+rs2bOSl1K7dm0Z7nnkkUf0PRLg7dC2bVuVPXt29dprr6nUqcPbCbd+/Xq1cuVKvXVVtmzZ1H333afy5cunW4iIiK7ikFAyhwCkS5cu6vz586p///5qyJAhqnDhwurOO++UNlcIZjp27Kgef/xxNXjwYEm8DTck9f75559q6NCh0otTpUoV+f+ff/5R5cqVk0RfIiIidwxYkrlFixapnDlzqscee0y20WOCAOH+++9XFStWlDZAENGqVSu5H3o51qxZo0aMGKFvDZ/rrrtOHqt69eqqRIkSqmjRovJ/69at1RNPPKGmTJmi70lERNGCk9v9+/erffv2qcuXL+tWZ2HAksylS5dOffPNN+rAgQO6JcHAgQNlGAbQu4F8lalTp6qaNWuqO+64Q919993q9OnTcnu4LVmyRHpWXK1bt04tXLhQvfzyy7qFiIiiYfPmzapTp07q66+/VhMmTJAe+NmzZ+tbnYM5LCkAEmffffddlT59eglMunfvru666y59a3ShKF3u3LlleAp5Mv/9959avHixtL399tsqS5Ys+p5ERBQN1apVUz179lQPP/ywbH/11VeqQYMG0hueNWtWaXMC9rCkAF27dlV//PGHWrp0qQy71K1bVyLqWMBzQA4NApb27dvLc0PPTsaMGaV3xz2vJp5hiK1YsWKJLnPnztW3EsWPefPmqV69euktcqL58+er3r17y9BOoBCwXHPNNXoroazFhQsX5Lhhefrpp5N8n3333Xf61uhgD0syhiGWIkWKqPz58+uWBCNHjpTelueee063RA+CFHwQPvroI92SAENC6IZEIIUidskBzlbKlClz5awFsI3eJKJ4MXPmTPXOO+9I0HL99dfrVgrFihUr1AsvvKBuvPFG3RIaDOMPHz5ces///vtvNW7cOJUqVSp9a+AQnGJm6apVq64EMphVit9twQQNTJ6oX7++bokCBCyUPJkfCMM8o9dbCS5fvmyYkbKxd+9e3RJdZjBifPrpp3orwblz54wGDRoYjz76qG5JHsyzFmPixIl6iyj+zJ492zAPhoZ5oNItFA5169Y1NmzYoLfCq23btkaPHj30VuAmTZpk1KpVyzh+/Lhu8axcuXLGjBkz9FZ0cEgoGdu2bZtasGCBJNhOmzZNom7UWGnTpo0qUKCAvld0YNbRs88+q37//Xd5Ti+99JKcDbRr106GqDBz6csvv9T3Jkr+nL7YKGaL4PP5+eefOyqPId6dOHFCmSeMqlSpUrolvN577z2Z2DBq1CjdYh9mhh46dEhyWDAZ46+//tK3OAOHhJIxfBFiSjMSp3bt2iVJroUKFQp7MTjyDENBzZs3l7FfIldOX2wUh4WHHnpI3r/IxaLwGT9+vDp8+LDkm0QKAmEU4sSEBpSN8AfD9DiJxHB8+fLlZVrzhx9+qAYMGOB1CBszSTGrk0NCRMlAKENC27ZtMzp27Ki3yMkOHjwow6xnzpzRLb6dPXvWuPXWW439+/frFsPo2rWrdLE7xfDhww3zQCdDyBReZiBomCeQeity3n77bePOO+80zGBEt3j3xBNPoOMi0SVbtmz6Vs84JERE0hv2/PPPqz59+ugWcrI8efKoRx99VJa7+Pfff3Wrd05fbBTPA0mX/fr1Cylxk5LCcAtWx8frHWkdOnRQx44dkx4df1BzxYwHEl3ws07DgIXIBT6oP//8s8cDz//+9z+1fft2vRUZGNvG1POPP/5Y5cqVS7eS0zVq1Eim5T/55JPyHvIFsy7w+t50002yjftjar9Thg6Rx3DLLbeohg0b6hYKF+QSNmnSRG9FFmaC9u3bV7366qsSJCUHzGEhcvHjjz+qBx98UIKTm2++Wbcm+OCDD2RsF1Oz7QgmhwXJx8gZYN5A+Fy6dEkCikgkOeLA3rJlS7mOr1IsJor3j92KzfiZSC42GigE6gikxowZo5o2bapbIwNJvViSA8uEhIPra+FUyCuZM2eO5BZGw5kzZ6QH8I033pD3WTjFIoeFPSzJCD6w6MLF5dprr1WZM2f2e8mUKZPcF2d91s96uowePVo/inexfvxwwJent9oIqJtgN1gJBtZRwgGMwUp4IZnVtShWpOB9inolmJVnZ3gnGouNBuqTTz6RatONGzfWLZGDIU8EaikFToJQx8ZbsIKZlOilwySJcMHabc2aNZMevWQBPSyUPEydOvVKwlT16tWNixcv6lvs+eeffwzzi9ZYuHChMXToUKmLkjZtWvl9SBL09/ti/fiB2rp1q9SEMQ8yxsqVK3WrYeTOndv44YcfjG7dusnzOH/+vPHff/8Z3377rfHZZ5/pe/kXSNLt6dOnjXz58hnff/+9bqFwQIIrav8cPXpUt0Re7dq1jXr16uktzw4fPmw0adLEmDdvnrFu3Tpj9erVRosWLfStsVOsWDFJII609evXGw888IDeShnMQNYwA0K9ldj8+fOl9gneD0jKNYMbfUvoli5dKt+h2OfhFIukWwYsyUyvXr2uBA0vvviibg0eZjLgwJ06dWpjypQputW7WD++q927dxv9+/c3JkyYoFuuQmBUsWJFmQWBYKFkyZLGokWL5DYELK+99pocRO6//36jXbt2UkSpc+fORsuWLeU+dgQSsCAwKl26tN6icHnzzTeNV199VW9Fx4oVK4xUqVIZ27dv1y2JnTx50ihQoMCVz4l18RfkRNrmzZvleXg7qIYTTkaWLVumt1KGMmXKyGvvDoUz8R61ZvMcO3bMeP311+V6OOBkK0uWLDJrKJxiEbAwhyWZQY4FkjaxQjNMmjRJmWducj0UKNOM5K3ly5frFs9i/fgWlPrHBV3clStXlnoCrtAdjeeK0tJgfkGo3377TU2fPl3GfJF4iyEu80tVFgFDTRvUJVi5cqWsZmpHIDksKK2Nbvhwr9eCct2YdWStzB1OyBfAPnIqFOiqUKGC+uWXX2ToMZpQywL5SBgiihdjx46V5TqQW+K+nEc44TNlBpJXviNSAny34Lvmiy++0C3RVadOHRmyDGdxTuawOAiSlZDNXb16dXXgwAHd6nxI2vvss8+uFKDCFxAKVIXKOvhi8UJfYvn4WEgRCY/WZc+ePapz58761sRwMEMOgSVv3ryJZgbhww1IvLWuRwqe5/r16yUwCqf9+/dL/sYNN9ygW1IWJBoi58hOsIKKnrVq1ZKANBzwfsVS/fEECedYmDSSwQqgYNqQIUP0VgJ8FjHDChW4O3XqpFuTD1QLxt/nSTT+dqzSj9c37kk/SzI1cuRIfS046KozP7xGo0aNdEv8QOEx80AlXbw33XSTcejQIX1LdMT68atUqWIsXrxYLhgWcjd9+nSjVKlSeiuhcNeIESPkOoaEzCBCrs+cOdN49tln5fqYMWMiMiSEIl05cuTQW+HTqlUrwzyj01spi3mSIcN86A73B0W8kDeAdbeQf2IGGvqW4CEXAe99FJWLNDPQ9jjsGSgzWLnyXo8U8wzfa67OpUuXjMyZM8vnLDnB34U8KhxPvIn03/7NN9/I+xHfy+HCwnFhFsxaCq4wjx1naLNmzYqrXhbAKs2YdYIeDzz3evXqKfPLW98aebF+fH9QYwKlx3G2h65pzFTCuimAmULvv/++dJ9u2LBBuq8jCWfiWMU5nLBmEy7h7rWJF5ipg+E1FGnzB6sRow4KZmjgNUdvF3pYQ4Hpq3jv2x3CDAV6h1DfIxRHjx5VO3bskKU7IgXTy/G64OIJPmunTp1S5smGbkkeMAR27733yvHEm0j/7dYK+PHey8IhIT+wUGCaNGkkfyHeoCYEusUBORnWATlaYv34/gwbNky98sorUnUU00rxOgPWeRk0aJCqVq2a5L5YQyrIeYnE8MrWrVvDHrDgYO3e7Z5SoLgfcgbs1hHBIpzW9FpMf0Z+E6aDhgLTV4sWLep3CNUp/vjjD/k/ktOMkU9WqVIlr1VesWAf1q3BfosXdqrB+hoOskT6b8+RI4f8j8KU8YwBix+oyYEvvo8++shRPQR24csY8/ABqzWj5yCaYv34/mTIkMHjwQlnQ6gTA+ipQCIiVi+tWLGitIWLYRhSd8HOAmV2rVixQt6ryONxhZ6ct956S+3evVu3JED9B5xhw+nTp+UM2Illue1CwIEibJ5yj5AvgKRp9L7i9XT13XffyesBqJlhBdvBwgHITj0WJ/j777/l/0gFLKi0+vbbb0vlVW9w0EYPA3K6kACMkwW8l50Kr225cuWSvI9c4XOIXg1/PSeR/tuRx4XeRut1jlcMWGzAmgw4qODMOx6haFDZsmXlOhJTsYJnNMX68UN1/PhxGRZCAi6GtsIJgcHFixfDOosHvSvW7CcLAkUUBENysevZHrqhMZNm1apVso3eHnxZYm0Rp8HQx6ZNm/SWZwi+cD/07nmCfVOjRg2ZQea6jxYsWCBDQtgfgOAOMyBCCTiyZs0aNwcI63l6K5roC4bQ/P2deP+h2rB1pu8OvZcYOjl58qTse8xAQ6FGJC9v27ZN38s50COF9xICjHnz5unWpHAb/gZfhQuj9bfjO4YBSwqA7G18+YwcOVK3RBeCJZRzxiWYXBr0IuAAhDM+HBzxxYEPWrTE+vFDZeW0RGINECwzD1ZvTqjwHkFghWnSFpwBYmozpndjqARLyVswZIHcAqs8OgJL9Ih56nWynmssfPvtt/Icvc36siDIcA/WLIsWLZLZEgja3PcDps2XLl1agjpABVoMXbjvB6tHzA58Z8RLT5V1IAukhwUHWnwnYvq2r3xBHIhx0vLiiy/qlqSQw4ETA7z/sO/RG4DhV7w3vQWp6LXBbL9YQI/Ip59+Kt9pvqYK2xkOitbfHk/vR2+SRcCC7l9Eo+4XdON7an/ppZf0T/qHAyvOqpF8iymPv/76q74lelDKGW9qzKUPtpswX758klyYLl06OQPF73Kd1htpsX58p0J9F8iYMaP878/cuXPlQOEJvuD69+8vnwdXSChGO25HIrQ1RAfo7UL+DL7MLLfddpt0dbvCl2PJkiVtvWbIVfD0ufN0eeqpp/RPeYfp2cgvwnACgg6rN8gdhnQQcCDB0RMEcQg6t2zZIgGL+35wHULDQQM9T6jJ4woJ2naeM+CggwNROCFZ3H0f4u9A6QD3dlxwULXDClgC6enDdxF6q3AC8t5773lNVMbQGvLXfAXlCADQ+4KcMgt6bhBUugbfrjD0h/W9/Dl//rxMWfe0fzxdfvjhB/2T3qG2FL7LsKwCPpOe0gXQW4fhZATJvkTyb3cVTz1+XmGqULxDSXdURHW/FCpUyGO7+eWrf9I3lMy+/fbbjbVr18qUNEw9DWRaazhheixeLpS/D8XYsWPl9xQpUkSqt0ZbtB6/ip9pza7MAEBKpXtjHugNM7DQW/bZmdb8888/y/6wqux6g+mxZtAs9/W2PIB5Fmt06tRJbyWFJQ/w865Tbc2zOqng6wpTvD3BfrDDDGo8fu48XcwzPv1T/qES6M0332yYwa5uuQqv4d133y3VWv3p16+fvP8s+D5InTq1TLm1mAdfo3fv3norMbv7oUOHDrKkRDhhiQH3fYj3EN7v7u244LWwA1VQ8d74448/dIt9mCqL/Yfp+e7wXsOUXixv4csTTzxhNG7cWG8lGDRokJSV8Mbu6wB//vmnx/3j6WIGH/qn/LOmr+N/d5MmTZL3mj+R/tstd911l1T3DheW5g8zBBvBwoEud+7cicpH4wssQ4YMidYlwQeyZ8+eUlp9wIAB8mbHl50ZAcucenz5ux4MccBG2eWXXnpJSr8D3uwNGjQwzDMRWdcGZavxMzhImmdzRt26deVAhA9GqAHLqFGjZM2avXv36pboitbjBxKwfPXVV7L2kTejR4+WmiaBshOw4Mser+usWbN0i2cInnHwQb2QokWLJvnCwnsO73dfgRXedzjgW7A2U5o0aRK9p/CF7X7gwXPEsgg4MYi1999/X8reuwcmeH52X6NHHnkk0Xo55hmuvAaun1PskzVr1uitBPgu+Prrr20fLPAY9913n96KnD179sjfFIrx48fLPjDP7HVLYPD9hQOs+8H++eeflwO3L9if5tm/fDe4wrpGPXr0kOuu9YQQuOJAaX1/xhICMdRPee6553TLVXhNfv/9d73lWTT/diwHgeAoXFiHxSGQXFu7dm2Z1eI6KwSJUOimQztgHBHT9JCjgW5ZJCuiyxrdhUiiMj+sMusC02ORu4E8CHSNYhz+zjvvlJ/FjA1U00WtF0yzRVc0xi2RL4DZSeguRDe+3SEDX/B78BzRdY68nGiL5uNjCMMqz48xdF/wWvtKnMOy7JFa7dRKcvQ3dIBhG7zPsDwBEvGwL12hSx7vF29JjXDTTTfJ8JAF7zO8L1EvxIJS8q5DHth/eG/i+Zlni7o1drCSNf5G19o4+ExiWjreW3a47wf8jWDtB3yukdtjJYoDPvPo4sd+NwNc3eobcofch5ScyhoKCjbHAQmoSERFlWsLZlphWQTXoTdPrByOqlWr6paE6bcYukP+x6FDhxKtZI2hQeQbYXjMmt0WKxgWMk8wJXfMdagWzwv70gw8dItn0fzbMRQfiSU6ookBixsk1OEDhroreCO6Qh4GgpF3331XDoI48KLYEoryoJw1xtYx5ohcDSQ+Ag7MODAg/wVTo3PlyiUHHrQjHwAfcHxR4oJia0i6whsWj7Vw4UJZkwRTbEOdn48DMmY7IXnR34coEqLx+JiBZJXlR/6AlaiMA5LV7g6FvbytaYIDDgpy4Us3UuX58TzxfsCXiR3Iq8AMGAQu5tmZtGFcGlN1u3XrJtve1K1bV/JT8DqYZ9SyzhPWNkEgjRL+OOhgTN41nwWfB+R8IQB3Qn0MBBoI+PG5QY4aYBoocinwGbSjZ8+eMpsI60chaRT7ETkBKIuO/Bvcjm1XSK7EY2A/4HNqBw7Y8RawBJvjcNddd0n+B/JVrAM39iHep64BsSfIJ0KCs7WcB+D7E8m8+A5EEI0Cj4BgEo+D1wx5I044AONzhc+J67IO06dPl9wef6L1t+NnkWMUzCwwR9E9LclSsENCvsrIoxsdXeQYMzfPuqQb1Qxu9K0JKwSj7ZlnnpFtdMNjG13J6I63xrTNN7e0Wysao2seQwgWrPSK283gSbZDyWH58ccfpdvxhx9+0C3RFevH9wY5H2YAZZhnMonyFwDDA+YBXEq8IzcimK5yO0NCgOEr9zFsX8zAWN4LVld79+7dZajELoznuw7J4b2MbXQ3e4LPg/nl6HGl2VhAzglWnzWDeylLjyEyM+DTt9qHz6rr8K75pW6YQZDeSgrLNFSqVElv+Ybfhc80Pv+RFo4hIWulZtfvskAhDwu/A/sJQxZ28yXwvjMDJb2VGN6rnuC1f+WVV/RWbOFzkS5dOhnmt2CVd1/vJUu0/nbkJuG1GTJkiG4JHYeEwgxdv8HA2ZQ3mE+PMyyccaP3A//jbM8628WQTsGCBa8MQ6C7D8M5yBTHGb5rO1hdgeZrkahLEVE2zr7R2wLWwnyu97Fj48aNsnoyhjRQij7aYv34vvg6a8bzxpkNpsCiWzZSPSyAoUFUArYL76XHHntMZgNhSBG9V1hk0i7MOnMdksPfhm2r0q879MRgVhfOlDH0FGuoIovhWbyn8BphCCuYM0esNO06jRc9mb56afB4qHyNmYKo2+ILZodguA3vr0hDD12oPQ1Y9BC9V3ivBwvfb/hOxLRy9NZ5m17uDu871149V3ivukPvwuTJk1Xr1q2lJzzWU3UxMw3fbdb0Zswsxd9kp8cvWn+71YOLmX5xLSFuoWC9+eabciZVunRpOdPFrAdk7WMbybT33nvvlSgUZ+0VKlSQM3uc1SNZF6yFqcwvXWPp0qXSBjg7NwMgSd57/PHHDfMLRa57OxN2t3PnTiNPnjzyeOGAM7kNGzboLf9i/fh2+Dtr3rFjh2Ee1KQXIlB2e1jQ84TXHwmvdpkHTfkZ9NhNmTJFt0YGFtZDD1C3bt2kx8kJ8FkyD9SSGH/69GndGlnmQUISIV9++WXpafUFPRXoUY0n+ByYAZbeCs7s2bPlfYnvq0hBYm+ZMmVkZpNTFkrE642/e9OmTdKLEannFezfbs3OdO1RDBVnCcUpdEvjC9SVr252zCw6deqU3vIN3Y3o7saXsr8vSVfoxi9YsKAEVOGAWSh4g9o9qMb68e2qWbOmDK1gRsj8+fN161X4oNevX19vBcZuwILX9rrrrjM+/fRT3WIPpvdiqmIwwVSgMAwTjccJBLrFP//8c70VHcdtTsXHEI2vKeZOhFmQmTJlCuh7xh3eI5iJ4m92TKguXbrkmCFKwPdd6tSpjddee8248847gxqitCuYvx0nyBg6DScOCcUpDPkgmdaVr252JOJhbQc70N2I7m5U3PRV3tkVZshg5hGSvgIpkucNEsqQiIxhKjvDbLF+/EBgyAdJ0ZgZhtlc7jBLy1OybjjhtcXfh+TXQJhnWJLcF8nhKguGYaLxOIHAmkd2FzgMFwzT+oPEVSRMYhgtnqCSMIaeXWelBArvEVS1jnRiP4YnrarEToDhZRQsxGcY31GRTG4N5m9fvHjxlWrWcU0HLpRM4Gwdw05t2rTRLcFBFI+zJHSB4+wfbxUUHvMn1o8fDPezZiRMAmosYEgLSdbBsNvDAkjqNb/sJUGZ4hsSbcNZoCta8DlALwGGGyhw6E3G91S0e/382bJlizwvDO2GUyx6WFLhH/OPoWTgwoULMi0VZbqRjGi3RwY/hzMrXDCVF8vzI7HQSvQFJKViYTxfZ9mxfvxwwMcBZ0iY6oxkajMAk56MYGAKYvPmzdXTTz+tW3x75plnJCkbdU8oPuH9UqhQITV//nyvZdWdDO9ZJN/arTVDV6HEBaZ3I3E5HHWzwmX06NGSBI116Oz27Ntx9913y9pd9evX1y1RgICFkgcsG4CXNBIXT2W33cX68cMFSbBIaEPydCgC6WEB5DZh+QdMW6b4hKnwnqqexgskcCOZOZI5GMmZt6nIsVS1atUky2+EA3tYKCSYuoaFviIBU+wwZduXWD++0wTawwI4M+/SpYv0MDnpLI38Q+EwVOJFMcJ4LdCFzy+me3fv3t3n6soUH3788Uep1o7q2CgaGU6x6GFhwEIUIcEELIAlGpDsi4rJnpK2yXlQLwn1YDCMiCrV8QyJo3gPYgg23k4SKDFMfsB3CFaUDrdYBCycJUTkMFhiAOX3UaSMnA+z2FDICwX24j1YARQhvHz5shQmo/iFYpRYE2vIkCG6Jf4xYCFyIFRyDXSaM8UGFmPEmlWYdp8cYEE/rM+EdYCsytwUfzDtHwuCxmPytzcMWJIhjPLhrC8csEItZu1gocZAYIYPZkyECn8LutuR4Z7ShDOjnyIHdTGSW74RahI1btxYViqn+INFWzHjskePHroleWDAkgxhSi7G00OFlVexmi2m6yEJD2tY2IXhDORghALL1ePvQAIqklGxpDoCKCKKvLfeektOFMaNG6dbKB5glXAk7mPlcbulJeIGkm4p+UHhtVBgam+9evX0VsIq1XfccYftImqhPj6g+Na6dev0liGl661VsONBoNOaiZwGxeQwfXXBggW6hZwMSwTgezoaK+OzND+FDFMq0cMSKnQpuo7JI1LH6qMYq/dl37590hNjrTIdrIMHD8rfcuutt+oWJeW+UULfDIZ0i/N98MEHUj7eugSyKjNRrGEpAhSR69u3r8xcI+c6cuSIrOKOnvFIrIyP1eFdv8t27typb4keTmtORtB1i3WKMLUSwyfWWia7d++Wmgr+XmoEB++++65cr1y5skyJ69Onj2xDy5YtZYocltn3BBnpWJenXr16qmzZshK0WNMiEUTZ6VquXbu21LLA2hd4fFTBtWDZdjxHDBXFw2yMqVOnJgncUAk40uusEIUb8iG+//776FY1pYCsWbNGvm/LlCmjW8JrypQpckLqCseYokWL6q3IY8CSjHz77bcyHRaFnxYsWKCKFy+ubwkcig0heHBN2mrRooV8IMaPH69bEvvyyy9V3bp1JfIuX768Onr0aNCl9LF4HB7/zJkzukXJ7y1cuLAEAVhYkoiIUg4OCSUjtWrVkiGbggULhhSsAHoyXNfyAaxCi9/tDYIVQNdxlSpVQlr3B4+PqpuuPSx4fKxzgpVRiYgoZWEPSzLz6KOPyvgiAhaUyq9Ro4batWuXzPIJZEgIvSXIMsdS8ZbSpUtLcSx/8/pR3RVLrXfo0EG3BD4kBHiciRMnXnm86dOnywV5LERElLIwYElmMJ0Y65igNsSgQYNCmtaGvBcML1WoUEF6brJmzSpVWP1BfgmGpEqUKKFbgoPS4Ej269Spk9SBGTVqlAQ9KNRFREQpCwOWZOjEiROS3R8OyBfZv3+/5I7kypVLtyaF4Zv06dOrDRs2SC8PEmNDGRKynDt3Tm3cuFFyZ0qVKpX86goQEZEtDFgoZL///rtUxly/fr0MRz3zzDOqWbNm+lYiIqLQMWChkOEthClvGLbBdGj0xhAREYUTAxYiIiJyPE5rJiIiIsdjwEJERESOx4CFiIiIHI8BCxERETkeAxYiIiJyPAYsRERE5HgMWIiIiMjxGLAQERGR4zFgISIiIsdjwEJERESOx4CFiIiIHI8BCxERETkeAxaiKDl27JjasWOHOn/+vG4hIiK7uFozUYSdOnVKvfLKK+qmm25S6dKlU5MnT1aPPfaY6t+/v74HERH5w4CFKMIGDBigLl++rF599VXZPnr0qMqfP7+aOXOmqlWrlrQREZFvHBIiirBy5cqp7Nmz6y2lbrzxRpU5c2a1c+dO3UJERP6wh4UoyhYsWKAaNWqkNm7cqAoUKKBbiYjIFwYsRCFCMu0nn3yijh8/rtKkSaMaN26sNmzYoBo0aKBSp07ciYn25557To0bN06VKFFCt4bP+PHj1YULF/RWgrRp06qCBQuqSpUqJXk+RETxggELUQh+++039fHHH6uBAweqHDlyqL///ltyVn766Se1Zs0afa8ECxculLyVoUOHqmuvvVZt375dlSxZUt8aHhhmqlixourcubOqU6eOtB0+fFiNGTNGbd26VS1fvlxlypRJ2omI4gkDFqIQ1KhRQ33zzTfSi2HZsmWL+uijj9SwYcN0i1Jjx46VAKVZs2ayvXr1asljadKkiWyHy5EjR1SuXLnU/v37ZVaS5dChQypv3rwSSN133326lYgofjBgIQrBQw89pFq2bKmaNm0qw0Fw7tw5CRys/JThw4errl27ynVXGB4qVaqU3gqPL774QvXp00eCIwuGiLp06aIOHjyoZsyYoa655hp9CxFR/GDAQhSCbdu2qW7duqmff/5ZhndQXwXDMenTp9f3iK727dvLUNRTTz2l8NFGT8uKFSskiKlZs6a+FxFR/GHAQhQGqF6LHhPks5w4cUJNmzZN3xJdSORFcPLkk0/qFqU2b96sqlWrpt577z3VsGFD3UpEFF8YsBAFaeLEiTIc5OrSpUuqbNmyat26dbolerzlrwAScFFld/r06bqFiCi+cI4jURD+/PNPmXnjDoEK8lpiYenSpapw4cJJghXMDMKwEIaLiIjiFXtYiIKAnopZs2bJVObbb79d5c6dW4aELl68KNOaXWcNRcPgwYPVlClTJOG3bt260vbff//J8BT+f/nll1WZMmWkncguvJ/37t0rM9py5sypW4ligwELURCwHhCCFczAwYycf//9VxUrVkxlyZJF34MovmFGGabf33bbberXX39Va9eulWFQBOhEscCAhYiIEkFPXfHixWU40RpixGw4bCOIIYoF5rAQUbKAIboPP/xQb5ErnJc+88wzateuXbrFNwxpVq1aVW8luPXWW7lgJ8UUAxYiipq//vpLhhc8mTt3rr4WOFQbnjp1qmrTpo1uIVepUqVSPXr0UPXr15faQf6guCCm6Fu9Kwh4sH+ffvpp2SaKBQ4JEVFUIM+ndevW6rrrrlMTJkzQrQnOnj0rhe2+/fZblTFjRt1qD1a/xlpOixcvjlnBvnixcuVK1bx5c/XLL7+obNmy6VbfcIho27atyp49u3rttde4gCbFDN95RDYg2RBnqbjg7BOzJuxccPBF/RPrZz1d8uXLJzN5fIn144cDFl10H2awYDHIJUuWBBysIPkZZ/1YqyklBCsI9NCLhNk7wbj33ntVq1atZE0rO+eqCCQ7duyoHn/8cZmJhsRbolhhwEJkQ+PGjdVdd90l13GG+dVXX6lTp075vZw+fVqCAcwmQu0WrO782WefqRdeeEEVLFhQft+BAwekzZdYP36gLl++LFO/J0+erEaOHClJnBYcKHHgbdeunVq1apW07dmzR7355psyZBSIvn37Sq8NKvwmd0OGDJHXD6txY9FMvLbB6N69u9q4caP6/PPPdYtneL8guMFyEwhqseTDiBEj9K1EMYAhISLyb9++fUbOnDlxWmrceOONxu7du/Utwbl06ZIxZ84co3jx4kaxYsUM8yCvb/Es1o8fiLZt28rvhvHjxxtVq1aV62PGjDFKlixpLFmyxBg7dqxx3XXXGXv37jU2bdpkXHvttYYZuMj97Fi3bp1xww03GGaQo1uSr/Xr1xuffvqp3jKMDRs2JNoO1DvvvGOYQYhx5swZ3ZLYyZMnjQIFCsh7zfVSr149fQ+i6GPAQhSA5cuXG2nTppUv79KlSxv//vuvviV4+B1169a9coD3JdaPb0Gw1L9/f2PChAm65aqzZ88aadKkuXIwvHDhgpEpUyZj8+bNErA8/fTT0g4PPvigMWrUKLmeO3fugAKWGjVqGJ06ddJbFIhTp04ZWbNmNT7++GPdQuR8HBIiCsADDzygzAOsXEdlW6wlZH6OZDtYyNuYNGmS+vrrr3WLd7F+fMDyA8g3wVIAGMpxh6Eo5FhgQUgwgxcpsoekW0DejOXmm29OtG0Xho5++OEHGRoJBoaoTp48qbcSYD9iKMvJsFbVsWPH9NZVaA8E8omeffZZNXr0aN1C5HwMWIgChC965F8AqoEiGTFUOIAgcdSOWDx+165d1YMPPnjlgkClc+fO+tbEEJyg6NiiRYtk21oeoHTp0rLtatOmTapGjRp6yz5MY8ZyCEgitevQoUOqS5cuqlKlSjLrBUsoPPXUU7KKNQIVBH92pvxGGwI/5PdUqVJFVuFGLgue60svvSR5LHjdMAU5UA8//LDkxCCHiSguoJuFKKXA8IenYYxAmQdgo3LlyjI0kypVqoCGU8Ihlo9vHjiNxYsXywXDQp6sXbtWhmzwvMwDrAxlwdKlSw0zyDCmTp1qfPDBB8YXX3wh7RDIkFCdOnWMhg0b6i3fkJuDfJm8efMaH330UZJcnc8//1xyeLJnzx7WPJ5wWLZsmVG0aFGjQ4cOSfJNkPdToUIFI3Xq1MbGjRt1q30YFrrmmmuMKVOm6BYiZ2PAQikKDoiPPPKI3grN0aNHjZtvvlmChsyZM0uORjTF6vHtBCyWY8eO6WuJIVHWPThAQvGJEyf0lnfnzp2TZN1BgwbpFu+QP/PEE08YhQsXNn7//XfdmlTNmjUdl1D6+uuvy9/51Vdf6Zak3njjDUnADjbQuuuuu4wXXnhBbxE5G4eEiIKEQlpz5syRQmjI2zAPjOr48eP61siL9ePb4a04mXmQldwV8ztIfffddzIkg2nW119/vb6Hd3/88Yc6c+aMrdWnO3ToIMXosJI1Fqf0pkKFCqpy5cp6K/ZQVRYrbA8dOlTVrl1btyaF540hrmDygKB8+fKSi0QUDxiwEIUAB00UdYMdO3ZIEmigCZChiPXjhwoBCyrUvv766+rTTz/Vrb4dPnxY/vdXe+XHH39UH330kQQt5cqV062eYQXi6tWr663YQjIwirWh7g7+9wWl8xs0aKC3Aoc8IK4PRPGCAQtRiBo2bKj69Okj19FbgDPjaIr144cCRfDQi9C7d29VqFAh3eqbFbD4Ky2PZFoERM8//7xu8Q4HfQQtrvCzKJ4WbSjohllQzz33nN+eEyxIiERcd9Y+8idr1qyS1IseKyKnY8BCFAZYY8Xqun/77bfDXjnWn1g/fjRZB2PMbPJl4cKFckB3D0TswkwkzCKKNjxvwNpKwcCsrJIlS0pZfX8QsICnqdJETsOAhZIt9Dxg6qbrBWuorF69Okk7LnaHJDzBmTCCBEznhX/++Uf+j5ZYP340HTlyRGXIkEHWVPIGw2LI5/GVt2JB/g/WJHKHAHDevHl6y7du3bp5fE95urzzzjv6pzzDc0FeUoECBXSLd7t27dLXrrrhhhtkH2F9Jn9wX3Ba7hORJ1ytmZItdKtbxcssSNjs1auXx+AEiaA4EAYLZ6lY5wWBElYPjrZoPT7qsPTv31+uo4Ac6pn4gueVJUsWlTZtWt2SGA7Q2Pd2VwFGvguGkLA+kq+gBT0rSExesWKFbvEMwUb79u0TDUktX75cckkeffRRW88L97UK4/mDIMHXIo+oETNu3DgJpHy9H2fPni2BxjPPPKNblNq+fbvUVqlVq5YsfunPzJkzZThs7969tgIkolhiDwslWzhYISnR9ZInTx45CLi34xJKsIKDFbrwsRpxLIKVWD++L3he1iKHniAh1lNPgTfIXcF5lr9eJDwuqvK6B62uULgOvVOuwYoVLGBmERaZtAOzmzy9pzxd/K1IjeeNSsG//vqrbkkKf/v06dNVixYtdEtCBeJZs2ZJENOvXz/d6hv+TsiVK5f8T+RkDFiIQoQDYp06dVThwoVlZeJoi/bjI0cCB0dc3Mvbe7Jy5UpZUsCb3bt3y3O3C70x4G8YY9CgQRIgYJaQJ8uWLVPDhw+XHhtXmDmD6ru4vUiRIro1ejA9HYm06PXxtCLzvn37ZLVtVL/FsgcWJAij+i2ed9GiRXWrbwh8EACmT59etxA5F4eEKEVB1ze63O3mJviDXIlGjRpJgiNqongb9oiUaD0+SvMjQPEF05NdYSho/vz5MkzlabgBQxcohY8eBSuXwo6ffvpJ3X///dJrc8899+hWzzAs2LNnT1l3CQm0+fLlkwM+elbQs+NtBhF6KkaMGBGzGiUY7ho2bJj09jRv3lxyk/7++2953uih6du3r+S5uENCMqZ7IwjEMJw/mDaN1w2/l8jpGLBQihLugKVNmzZq69atMp3Y0wEk0mL9+N6gZwB5JjjYYu0j92Dnww8/VPnz55c1hiZPniy5FHahRwlDMOgdwWtpB4Y+fv/9dwlg0Jtz2223+cxNQe5K06ZNJVDAzwSz3lE4YP8gqEMAgv2FvBxfybTodcH9EWyNHz9ederUSd/iGYrOIQAK1+eBKJI4JEQpCvJU/NXvsAtn7phxhOmv4QgW7K6WbIn14/uCYmTdu3eXXhT34QlUtUUuEYKCYKbTYvgCFVp//vln3eIfElDxM0hGxfPxl0ibN29e6XXA4pLVqlXTrdGXLl06VapUKfX444+rO++80+/Mn5w5c0qwiKRoOwXl0PMUq2CMKGDoYSGiwGANl0KFChmHDh3SLaHBAnyBrOkS68e3yzzYGosWLdJbSTVv3twYOXKk3rKvb9++sj5QJB0/flxfiy9Yj8nO2kLbtm2Tdah27dqlW4icjQELUYCslX/D9UU/e/ZsI2PGjIZ5tqtbfIv149u1atUqCapg8ODB8r+7fPnyBbXS8JIlS+Rg+8cff+gWChQWVyxdurTeInI+DgkRBQC5FqjjgmRSVFENFmbaIEkWSaOY4YN1Y9D170+sHz8QSPrE8Buq8N5333269SqsfXTu3Dm/awJ5gtwLzOAZPXq0bqFAYVo0XnuieMGkWyKbUDIdORB169ZV9957r271DfkamMGDOilI/EQF0rVr18rB2vWjh/VjkOTpS6wfPxh4bOSLuE6bRdIstrHWD2b6BLuMwPvvvy/1RlAM0F+ZfkoM+x2zs1BoDvWKiOIBAxYiG5CAiV4Cu9VMA4FESRx0kWDpTawfP1wwO2jRokWSFFq/fn1Jag2mhwUw9Rc/izor/mbDUGIIVpD07G81aCInYcBCZAOml3pabyYcMHPJKobmTawfP1wwRRhDUZhKi9k3oZ7dL1iwQKZNb9y4UaY6k3+YAo+6OuvXr09UeI7I6RiwEFFcQ70XFIMLZfHKlALVgTGc+Mknn9geViRyCibdElFcQ1IvcmVQNI28Q+4Q1h764IMPGKxQXGLAQkRxDSs2Y8YL8nxQ3ZWSQkc6ghXkrGCBTKJ4xCEhogChOium7Ia6bg8+ehjKQB4BFukLBNaMwSJ9oUJuDJYrQC5J1qxZdWv8QlIyZwx5hlliqPhLFK/Yw0IUIMywwLTQUGBWDhbj+/XXX6WmSsOGDa8s9e/Pli1bfK5+bBce98UXX1T/+9//ZPZO586d9S3xi8GKdwxWKN6xh4UoQKht4m8tGn9Q+GzkyJGqTJkyso1aJKizYndII9TngNk6CHowjGLNFMFsG6ysjECKiMhp2MNCZBOGghBY7N+/X7cE5+DBg2r58uWJKtUWK1ZMapJcunRJtySFIAWr6mKxQ1/3s8Na3dl1Wiuew7Rp0/QWEZGzsIeFyAasgIvps82bN5eeiHXr1ulblAQQ48aN01ve1a5dW7Vq1UotXrxYVa9eXQqfWfbs2SMBDIaK8uXLp1uvQrDSt29f1axZM+mFueWWW64U/cJH+Omnn/Y7pITkVPws8m9QuO2nn35S33//vb5VqYkTJ6pBgwZJFVwiIqdhwEJkA5bhR1Lq3LlzpVJrKD0RGPpB8HLmzBndotTOnTtV4cKFJQG2QIECuvUqa92dkiVLymwPrAEUSpVSlLRH/gz+HguCrsGDB6tdu3bpFiIi5+CQEJENpUuXVvnz51ejRo1Sbdu21a3BQU8KamK49rD8/fff6tprr/U68wfBDIIVWLJkiXrwwQflerDwHNzL/OM5FCxYUG8RETkLe1iIbPrll1/Uk08+Kb0dQ4YMkSEiCHRICO644w4ZgsH/gDoiuCCPxRc8NtYUwiKGqVKlkjZ8hJEo62+dIdchoQMHDqj7779ffp+Vx9KuXTtVvHhxWZuHiMhpGLAQ2bR161YJDBB4YIZNKL0c+F3IScGifajSip4bBD05cuTQ9/Ds448/lvVzvvjiC90SvClTpqiVK1dKXg5mCy1dulRNmDDhSiBEROQkDFiIAoDgAtOJ06dPr1uCh5wULNqHAnSlSpWSHhBPLl68KI+JS7169aQODBJ/wwHDQAieECjddtttupWIyHkYsBA5XNOmTaU+CoKKoUOHyuwerLBMRJSSMOmWyOEwowe9K6jiymCFiFIq9rAQERGR47GHhYiIiByPAQsRERE5HgMWIiIicjwGLEREROR4DFiIiIjI8RiwEBERkeMxYCEiIiLHY8BCREREjseAhYiIiByPAQsRERE5HgMWIiIicjwGLEREROR4DFiI4sSxY8fUjh071Pnz53ULEVHKwdWaiRzu1KlT6pVXXlE33XSTSpcunZo8ebJ67LHHVP/+/fU9iIiSPwYsRA43YMAAdfnyZfXqq6/K9tGjR1X+/PnVzJkzVa1ataSNiCi545AQkcOVK1dOZc+eXW8pdeONN6rMmTOrnTt36hYiouSPPSxEcWbBggWqUaNGauPGjapAgQK6lYgoeWPAQhRjSKb95JNP1PHjx1WaNGlU48aN1YYNG1SDBg1U6tSJO0HR/txzz6lx48apEiVK6NbwGT9+vLpw4YLeSpA2bVpVsGBBValSpSTPh4goWhiwEMXQb7/9pj7++GM1cOBAlSNHDvX3339LzspPP/2k1qxZo++VYOHChZK3MnToUHXttdeq7du3q5IlS+pbwwPDTBUrVlSdO3dWderUkbbDhw+rMWPGqK1bt6rly5erTJkySTsRUTQxYCGKoRo1aqhvvvlGejEsW7ZsUR999JEaNmyYblFq7NixEqA0a9ZMtlevXi15LE2aNJHtcDly5IjKlSuX2r9/v8xKshw6dEjlzZtXAqn77rtPtxIRRQ8DFqIYeuihh1TLli1V06ZNZTgIzp07J4GDlZ8yfPhw1bVrV7nuCsNDpUqV0lvh8cUXX6g+ffpIcGTBEFGXLl3UwYMH1YwZM9Q111yjbyEiih4GLEQxtG3bNtWtWzf1888/y/AO6qtgOCZ9+vT6HtHVvn17GYp66qmnFL4a0NOyYsUKCWJq1qyp70VEFH0MWIgcANVr0WOCfJYTJ06oadOm6VuiC4m8CE6efPJJ3aLU5s2bVbVq1dR7772nGjZsqFuJiKKLAQtRjEycOFGGg1xdunRJlS1bVq1bt063RI+3/BVAAi6q7E6fPl23EBFFF+coEsXAn3/+KTNv3CFQQV5LLCxdulQVLlw4SbCCmUEYFsJwERFRrLCHhSgG0FMxa9Ysmcp8++23q9y5c8uQ0MWLF2Vas+usoWgYPHiwmjJliiT81q1bV9r+++8/GZ7C/y+//LIqU6aMtBNFEuoSoSYRlp+IVS4XORMDFqIYwHpACFYwAwczcv79919VrFgxlSVLFn0PopSFi3ySPwxYiIgo5rjIJ/nDHBYioiCcPn1atWrVSp08eVK3kKvXX39dzZ07V2/5x0U+yR/2sBBRsoWcnFWrVqnKlSvrlqv+97//Sa2ZIkWK6Bb7zp49K1O8e/bsKUsZUFIY5kTPCOoK1atXT7fax0U+yR17WIgo2Ro5cmSSqeOWH374QX3//fd6yz7UzEFi8tNPP81gxQesOTV79mzVo0cPKYwYCCSgI3cFS0EwWCELAxaiKEDNlVSpUskFpe3R1W3nkjFjRklAtH7W0yVfvnwyk8eXWD9+rDz++OP6WlIvvPBCUFO1kWORM2fOFFFE76+//pJekpUrV+qWwGTNmlVNmDBB1rzC77IDi3xiyj96WG677Ta1adMmfQuldBwSIooCDCE88MADsjoz1gz67rvv1IMPPqhv9Q/TnbGS84EDB2RxRNRFwRf6rl275Pbx48erZ555Rq57EuvHDwRyQzDlO1u2bLJ+0Z49e2QtI8yqAhzQkJD5xx9/SEVeq26Mp3YsffDII49IwIap5OgRwcETs7PQu4Jp265Vff3ZvXu3Kl++vOwD5FgkZ/hbn332WfXiiy+qDz74QD333HMyaycYGNq5/vrrZRFPX6K1yCfFKQQsRBR5+/btM8wzc5wgGObBzjAPCPqW4Fy6dMmYM2eOUbx4caNYsWLG5cuX9S2exfrx7Tp//rzRsmVLo3bt2sbevXuN9u3bG71795bbpkyZYnTt2lWub9261ciXL59hBile23E9U6ZMhhmsGGZAY+TKlUuuHz9+3OjcubM8TiDq1atn9OnTR28lb2+99ZbsQzADVmPQoEGGGUzKdqDWrFljpE6d2li3bp1uSWrYsGHy3nS/bNiwQd+DUjoGLERRtHz5ciNt2rTyRVy6dGnj33//1bcED7+jbt26Ejz4E+vHtyBY6t+/vzFhwgTdkljfvn3lArNmzTJq1qwp1ytUqGDMnz9frkONGjWMUaNGeW1HwHLzzTfrVsMYOHCg0bBhQ7k+ZsyYgAKWn3/+2UiTJo1x5MgR3UKBqFatmtG8eXO9RRQ45rAQRRGGZcwDqVxHYiESQs3PoWwHC3kmkyZNUl9//bVu8S7Wjw9YfmDJkiWyFACGe/wxz8yvPEcM4WB4y5I3b16ZjeKtHZBnYzGDl0TbgZg6daqqWrXqlaGpQGCNKFRwdYd2p8NQoPvzDOZ5Y1XyL774QobtiILBgIXiGg6Sd911l3r//fd1i/MhL6Bdu3ZyfcaMGVIWP1SYkeEvP8ASi8fv2rWr5MxYFwQqmO7qjWsQhWJilipVqqhFixbprYSg6+GHH/ba7u7XX39VTzzxhN4KzJw5c1SDBg30ln+YTfTmm2/Kc0OezJAhQyRAfOmllyRPB/sLq3M7EfJ9kGxbu3ZtSTJu27atatOmjdqxY4fsQ+v9EwhMLcdrGczMLCJhfjEQxcz69esN80xbbwVn9OjRhnnWbGzatEm3ON9///1nmF/gMjSD5x7IcEo4xPLxzQO4sXjxYrlgWMideUZvVK1a1XjkkUeMQ4cOGa1btzZuvfVWwwxy5LbHH3/cGDdunDFx4kQZ1rF+xlP7sWPHjDvuuEPeI59//rnkZVgCGRJC7gX21ebNm3WLb8uWLTOKFi1qdOjQwThz5oxuTYD3KYawkNOxceNG3eoM2MfY73iN/vjjD92aAPvYDPaMbNmyGSNHjtStgSlfvrzx/PPP6y2iwDBgoZjCweX111/XW8HBASFr1qzGCy+8oFviAxIakV+BA2HmzJltHwzDJVaP7y9gsePEiROSCOrOW/vJkyclmdcVgpguXbroLd9ee+01I0OGDB5/tzu8n6+77jrjq6++0i1JvfHGG5L4HK5E5XBYtGiRkTFjRqNfv36SUO3JqlWr5P0SbCJst27dJEGbKBgcEqK4d+211yrzLFwWS4unMukoQ45hBvPgJgu/YagCq9RGS6wfPxSYIot6Mu68tWNRSdSTgd9//13t27dP/fPPP7YLv23dulWVKFHC4+92hTwXrGw9dOhQGU7xpkKFCqpSpUpB59OEG6r+4vWvXr26DAEhb8iTsmXLqjx58qiSJUvqlsBYU8KPHDmiW4jsY8BCyQLG1M+cOaM++eQT3RIfypQpIzVCAPkBqDcRzUTMWD9+LCAoQ24JEnDtlow/fPiwBCy+IFju2LGj5FThf19QIyaQfJhIQwE9FP9DwTZfELDhsxZsoJU7d27536rfQxQIBiyULNx6662SJIgZMEaIs168we9FiXFr9okrnKGi4FUwUDG1T58+ch0F3XCGHk2xfvxou//++yVJO5BiZAhYUMjOl88//1yquaLAmr8DOt6vngrW4XGiDT0eSITFcgOo4OtP37599bWrMAMKxfj8QeVbwMwjokAxYKFkA70FCBpw0I0ErGuCmQ6epqcGuy6N5bXXXrsyhPD222+rzz77TK5HS6wf3+kQSKDiqi+otAs1a9aU/wOFqdkYanGdnh0NoT5vwM9ikUl/rIDF02eIyB8GLBQVKPNdo0YNmWrqekHXPKZ2urdjLH39+vX6p/1DzgB6PgoVKhSxKc44M/dWjj3YdWksOCNHkFC8eHHZRn5FNMX68Z0MQ2ToEUC9GV9QXwT5QHYW6/M0JHLDDTdIbgdysvzB0Kf7Z8bb5amnntI/5ZlVF6VYsWLyvy87d+7U1xLDWkOo8eMP/kaIl1wpchauJURRgbfZoUOHkgzXoN4DvjDdD/Y4gGK821vynwV1HVDPA0mjWGRt2LBhUucCQzQFCxaUx8OaNwiYihQpor766iupJ1GqVCn5eW/r0mANmjVr1qg///xTAhUkCwISDj/99FM1d+5cKSCGYlh4rsGsS+MOZ51IAsUQzcCBA3Vr9ETr8VGHBSvxAgrIDRgwQK57g+eFpNm0adPqlsTw+iGQ9PdeCUWGDBlUz549fe4X1CoZN26cvBdxf2+wgjEO2K5rL6FnEOs8YVjTX08OnDt3znYvBQIgX8NZSBRu2rSpvIerVaumW5PC5xcJuVhXyILnMH/+fHnf2AnUcH8keyPg8hdIEbljDwtFBQ7qqD6KgMD1gi9SzOxwb8d9/R2AUJgLeQj79++XAwUeo1WrVnKwcP1Sxe3Dhw+Xx8HsDBxYAF/U3377rfwOrOp77733Sg4Czn5RXA3Bh1Uwa/HixfIzgDwWfMF/8803UhANRcAwDBXKkBB6h9CtjkqqsQhWYv34vvgbbihXrlzEkzjxPkVA6gueJxaJRGE1b9BzNd0M0lu0aKFbEir/YrFHBDH9+vXTrb7hPe7+mfF28Zd7g9lK6BnytY8R+GPYsEePHrolYZFKBDA4EfC1KrYrBHNgJd8SBYIBC8UlfPHjAIEAA4GHNd0UXc7NmzeXAAa5AAhikOCIZEIc2DDUtHbtWrnvyJEjZZgKihYtKrNAcDDBz6JXBT+LL3KsHOsaAOH343ehcilKjeMx7XSne4PAq06dOqpw4cLynKIt2o+PAz8O0rjYmYbub7gBvWd47pGEHhx/wxiYFowgF72FOJi7w1RqDB1iGBQrZlvQi4dewWXLlsn7MNpwcoCA/o033pAEXHcIZhGYY0YVPksWDA91795deobsPm9rqBE9lUSBYsBCcQmzWvBFijoi6dOn160J8OWKYAVfwu7Qa2MNS+HAGei6NIBABkJZl8aC/Agc5FAjBN3kof6+QEXr8V1L8yPAw+uGC4IWq90dhg+QV4MeMk9woJwyZUpU8m1wgEVw7A+miGN/YmozeiRmzpwpJfgxbIkpw7ieL18+fe8ECJoxrIVeOgTHsYAeRdQxql+/vurUqZPMeMK+79Wrl3rxxRfl9XMfLipdurTKnz+/zMyzei39wVAtMGChoJhf3kQxE2ylW/PgIeXlvTl8+PCVpfG///57wzxDl+soL46KpdCuXTujY8eOch3Kli1rmAdBY/r06UapUqV0q2GYX9bGiBEj5Hru3LmlfDmYByPD/KKX64GUeXeFsvP3339/0Mv2hyrWj++NGSAa5oHT+OWXX4wyZcro1quwv7/99lvjyy+/NMwzf90aOQMGDDBy5cqlt/xDVV1UgzWDMnlPuZfnd4fKt61atTJOnTp15b0WC6i8u3PnTtm3P/74o3xefEHl20KFCsn1wYMHy/++oIrudddd56gKvxQ/2MNCMYUEQztJhu7QRe8tCRPMg4sk95nvcTVv3jxZbA+JjUh4RMIiut8HDRqk9u7dq8aPHy+9CzjLvPPOOyXp9KGHHlK9e/eWPBUkLVqLvWGoCLOQzAOlLLCH7v1gIYlz9erV8hgYegqV3dWSLbF+fF98DTcg0Rpn6I8++qj0wkQD8jwwdIPhJzvQY4XEbuR24D3lb+YPhiwxjIRk5FgWlEMPG5LVsW+R72VNQ/YGydDIkUFv0n333adbvcPMP8xcinZPIiUTCXELUcp1wsv6M2fPnvXY82AGPMY///yjtxIEsi4N4IwaZ6ZY3C8csLBfIGspxfrx7UJPF9a48aZ58+ZBL8QXCPSQmEGI8emnn+qW8MP7MB57HrBv8JmwI2/evMaECRP0FlFg2MNCKZ639WcwE8NTzwNyZqxeoWDWpUHdmREjRsisonDMlkAuCHqHkNBpR6wf365ffvlFlltAfgsSnD3BtOgqVarorchBDwl6HPB4kYL3YTz2PGDfuOeReYJZSCjA99hjj+kWosAwYCEKQaDr0iAJE4mMqF3hOuMiUEgMRqBwzz33yAwfJHlatWV8ifXjB8LfcAPWPsLwnr81fsIFQRmSfFlWPjiYgYfZXhiqJQoGC8cRRQmK1KEwGNZsQc0XO5CvgRlLmKWEGhaohIpp2ThYu350MasDtWF8ifXjBwOPjZldrmfwmIaN7ffee0/O2qO1jAAWB0SQh2nLyG8i+/D+wb5DCQLkhxEFgwELURRs2rRJeglcp0eHCxI2UakXiZ7exPrxw+XDDz9UixYtkuRUTMGdMWNG1HpYAMnZWBwSSdx2hkEoAWq8YIgPPXxEwWLAQhQFODtHrY1IQK6NtzWOLLF+/HBBLRQMRWFdH9QFifbwAr4ukauEXirUJyH/kLdStmxZtWLFipCGIYkYsBARBeDAgQPSW4X1pLC6MvmGYUgUx0NBOqJQMGAhIgrQ8uXLVceOHaXGD6u2ete3b1+ZacecHwoHzhIiIgoQhoVQar9x48ZRWRogHr3zzjtS3JHBCoULe1iIogzVWTFl11elXjvw0UUNGCykh1V5A4G8gnDUYMHMoUOHDsmaMv6quSZHSGLOlCmT3iJXeG8EU8WayBv2sBBFGVaZ9rWUvx2YlfPUU0+pX3/9VWqqYDkBHCDswIq8vlY/tgszP7C6M6Y4o4w+Fs9LaRiseMdghcKNPSxEUYbaJqgtEgqsbYNgoUyZMrKNWiSos4J1kewI9TngsUaPHn1lmipWfS5XrpyaNm2aKlKkiLQREYUTe1iIogRDQQgs9u/fr1uCc/DgQUn6dJ0iWqxYMalJgsDBGwQpSBLFYoe+7mcHAhNU97VgaQMMC2HKMRFRJLCHhSgKsBIvkg+bN28uJd7XrVunb1ESQIwbN05veVe7dm3VqlUrtXjxYlW9enV14cIFfYuSQmYIYDBUlC9fPt16FYIVzNho1qyZ9MLccsstMssF8BXw9NNP+x1SQlCCn0X+TeXKleU59OnTR9+qVMuWLSWfBmsVERGFGwMWoijYsGGDLNWP2h2o1IoeimBhOAbBCxYGtOzcuVMVLlxY7d27VxUoUEC3XmWtu4O6IS1atJA1gKyAJRiYJYPn0KNHD92i5PcikdjusBQRUSA4JEQUBaVLl5Yhk1GjRqm2bdvq1uCgJwXr6bj2sGBBPszS8TbzB8GMVeQMKw5jBeRQ4Dm4l/nHcyhYsKDeIiIKL/awEEUJ1lJ58sknpbdjyJAhV+pTBDokBHfccYeaOHGi/A9YCRcX5LH4gsdGlVYsYpgqVSppw1cAZhz5W2fIdUjoyy+/lHV1Zs+erW9NCMomTZp05TkREYUTAxaiKNm6dasEBgg8MK04lF4O/C7kpKDcOVY0Rs8Ngp4cOXLoe3iG/JIFCxaoL774QrcED2vpIBemQoUKkmyLIa+uXbvqW4mIwosBC1EUIbjAdOJwrPSLnJSNGzdK3kipUqWkB8STixcvymPiUq9ePakDg8TfcEDODGY9YcgpV65cupWIKPwYsBAlc02bNpUkWfS+DB06VP3000+ywjIRUTxh0i1RMtevXz/pXUFVVgYrRBSv2MNCREREjsceFiIiInI8BixERETkeAxYiIiIyPEYsBAREZHjMWAhIiIix2PAQkRERI7HgIWIiIgcjwELEREROR4DFiIiInI8BixERETkeAxYiIiIyPEYsBAREZHjMWAhIsc7duyY2rFjhzp//rxuIaKUhqs1E5FjnTp1Sr3yyivqpptuUunSpVOTJ09Wjz32mOrfv7++BxGlFAxYiMixBgwYoC5fvqxeffVV2T569KjKnz+/mjlzpqpVq5a0EVHKwCEhInKscuXKqezZs+stpW688UaVOXNmtXPnTt1CRCkFe1iIKG4sWLBANWrUSG3cuFEVKFBAtxJRSsCAhYhi5sKFC+rzzz9Xu3btkutVq1aVHpUMGTKo22+/Xd8rwYYNG9Rzzz2nxo0bp0qUKKFbiSil4JAQEcXE8ePHVZs2bVTZsmXVwIEDJbkWgUvlypVVzpw59b0SLFy4UI0ZM0Z6WG677Ta1adMmfQsRpRTsYSGimOjXr5+qWbOmqlChgm5JUKNGDQlMLGPHjlXbt29XzZo1k+3Vq1dLHkuTJk1km4hSBgYsRBQTr732mjp8+LB64403VKZMmXSrkuCkSJEicn348OGqa9euct0VhodKlSqlt4goJWDAQkQxcfLkSdW7d281depUSaCtVKmS6tWrl8qdO7e+BxHRVQxYiCim8BW0bds2NX/+fOlRQUXbNGnS6FuJiBIw6ZaIom7ixIn6mnnWlCqVzAjq0qWLJOAi8ZaIyB0DFiKKOvSknDhxQm8lwDZ6WzALiIjIHYeEiCiqjhw5ourVq6fKlCmjbrnlFlWoUCG1d+9e9b///U9yWvLly6fvSUR0FQMWIoqq06dPy/8ZM2aUEvuYKVSwYEGVJ08eaSci8oQBCxERETkec1iIiIjI8RiwEBHZgBwbbzOY5s6dq68RUaQwYCEi8mPPnj2qTp06avny5brlqrNnz6o333zzSm4OUUpx8eJFyUNDIn00MIeFiCJq9+7dklRrQbItaq/4g68mrOD833//6Zak8HtQpr9kyZK6JXKaNm2qHnnkEfX000/rlshJLvuMkq8ZM2bIul4oQ/Drr7+qtWvXSn0l91XWw4kBCxFFXLt27dQHH3wg17GGUN++feW6HZcvX5Yy/phNhCq4P/30k1q0aJH65Zdf5PannnpKffLJJ3I9HPB4+DI+f/681IZ59tlnVYYMGSRgqVixovr777/l8tJLL8nMJvS+TJ8+XbVq1Uplz55d/5bQxdM+o5Tl3Llzqnjx4tLjeNNNN0lbt27dZBtBTMQgYCEiiiTzjN+oVKkSTo4M8wzfmDNnjr4leOZZnfHYY48ZadOmNfbt26dbQ9e2bdsrz2/8+PFG1apV5XqTJk2Mhg0bGuZB3zCDCaNUqVLGpUuXjE2bNhnXXnutYQYucr9wiad9RinLxYsXjdatWxv79+/XLYbx3nvvGVmzZtVbkcEeFiKKiqNHj6q7775bisRlzpxZrVy5Us7SQjV06FD53e+++65u8Q09Iui6RtG6li1b6tYEOHPEc/vnn3+UGYTIGL35JaxWrVolvRw1atSQn0HeCnpTcDaJvwE9Lfh7br75Zv2bwsMp+4zIF4QRDzzwgLrnnnvUsGHDdGv4MemWiKIiR44cavbs2eq6665Tp06dUk888YQ6fvy4vjV4WOH5zJkzMgTiz7p169SSJUvU0qVLJXBxh+eFIAXDQYBFGPG8//33X9m28kgQzOTMmdNWXkkonLDPgoED2ODBg6/st0hBYIngKxAfffSR2rdvn95KPjAs+dtvv+kt//A5+OGHH/RWUnb3E17rtm3bqipVqqh33nlHt0YGAxYiipo77rhDTZgwQa4jt6JJkybq0qVLsh2KMWPGqOuvv15vJda1a1f14IMPXrkgUOncubO+NTEECOjBQL4HIIcFCaylS5eWbctff/0lQUuRIkV0S+TEYp+FAvkzWMgSCcqZMmXSreGHPKL27dur559/XrfYgx6ygQMHSmKzE+C9VKtWLek9CxZ6DBHI3nXXXbrFPwQY6DmcN2+ebknMzn5CT2PHjh3V448/LgEqEm8jCkNCRER2jBw5Ul8LTe/evSU3A5cXX3xRt0ae+SVtLF68WC79+/fXrYmZX7pGjRo1JGdkyJAhxvLly6XdPHs06tWrZ8yaNcsYNGiQsWHDBmmH3Llzhz2HxV2s9lmgRowYYQwdOlRvRQ5eix9//FFvBQb5O3fffbfkYsTSrl27jIceesiYO3euUbt2bePrr7/Wt9j322+/GWZwqLcCg7//3nvvNcygRLck5ms/HT58WPK6zIDHWLdunbF69WqjRYsW+tbIYMBCRLbdfvvt+lpokKyK5E/rADxp0iR9S2TZCVgsx44d09euwvP21J4zZ07jxIkTeisyYrXPAoF9U6JECUkYjiS8fg0aNNBbwenTp4/x4Ycf6q3YeOutt4yjR4/KdQQFCIRPnz4t23bhPb1x40a9Fbjvv//eaNq0qd5KytN+OnnypFGgQIEr70XrgiAykhiwEJFt4QpYAF96xYoVky+6DBkyyOybSAskYPHn8uXLxoIFCySQwFlqNMRinwXi1VdfNTp06KC3Igczt2bMmKG3grN582Yjb9688jrGq2XLlhklS5bUW8HB+zdPnjzGli1bdEtiTtpPzGEhopjIkiWLmjNnjrrhhhtkdk7dunWlbki8ML8/lRn4qNdff119+umnujWynL7PvvnmG3lOnmBfYabV+vXrJc8F90WOxBdffKHvYQ8SbVFPpmbNmrrFs99//12NHj1aqhDPmjVLXi9XyFVCjk3E8y7cIHkayanIIUKCN2aA4XmawZ7av3+/vpc9vva3Be8PvD+HDBkiuVB4fFepU6dWtWvX9rq8RKz2kycMWIgoZlAlc+rUqeqaa65RBw4cUPXr1/dZpdVJ8EWPGSq9e/dWhQoV0q2R59R9hhlHa9askefnbtu2bXJbhQoVJPG5U6dOMhUc+w5F+vC/OwRkSHp2t2zZMpmhhZlTnmCG14svvqj69+8vs6p69OghAYtVhM9V0aJFfc6UiQQEaa1bt1aff/65LPcwbdo0qZ6M53rnnXeqQ4cO6XsmQKD1559/6q3EFi5c6HF/WxCg4DFKlCgh+/jSpUvy2O787YdY7CdPGLAQUUyhtskbb7wh11GRtUOHDnKdvHPiPkPwhJ6TXLly6ZarUFUXB2X0juCCKsFly5ZVadOmlYBr1KhRSXpA+vTp4zHIwFRbBDveYNYKZtwgEEAVVixVgN4d1N1xZ1UqjhYrAEMPGQK83LlzS0CFpRfKlCkjs9SmTJki97GgFwWViT3xtS8QECEwxM8jEIKvvvpKgg93/vZDtPeTNwxYiCgJdN0//PDDSS74gvTUjgNQKHBG3Lx5c7mOL3Lyz2n7DNNzUWQvXbp0uuUqBFToFUHvCAIV1wJ7mI6Lei2YIuvqrbfeknox7vA4+F2eoL7O2LFj5f2IHjBAUIRg6tFHH5VtVwiujh07prc8Q48Nph17et97uvjqiUBg8vLLL8vfvGnTJgnWXKEdBf1cYbjG29RjPHdP+wLDPi+88IL0prguF4GABZ9td/72g539FA2sdEtESeALD2fC7ipXriwHBXcY4w6lpgfOzJ988kn5Uvz22289HvTCAcMRGCoAFM4aMGCAXPcGzwd5IzjoOU209pldWACvUqVKPletxpk+DurIK7GgrgwO3rgA8jqQp4Ogply5ctLmCvkfqJODv9kdApwPP/xQghorYPEFQR8CJeSQ+ILViNFTYwcCCH/vF/x9CFZQSwbvL9i6dasqVqyY5PQ0aNBA2rA2D4JRBFue/h5UP8a+QDVkVwsWLJA6OCgkZ/Wu+PL111+rnj17St6PJ3b3U6Sxh4WIksAXIbrT3S/4IvbUHmoBMpyBo8v5yy+/jPmB1xUSO1Fcy4mcts9wFo7qucg98QS9B1glGkGvBT0rOFhi4UgLFnlEob6GDRsm6W0AX2f7yP9AMT9PB3dP5+b4/XaWU0AQ4ul97+liJ7hFsIxAwgpWAENB+Pnq1avL9rhx4+TEAe3oGfHE276w8mAQALkLZj/Y3U+RxoCFiGIKByj02mCWQiQrowJyCFCeHxc7wyjIhcAaKU4TzX1mV758+VT+/PnVli1bdEtiGA5CrxCCYQvyVLD+DCrjAoId9MAgORSJxNmyZZN2V0jcRRIvfpc79ESgl8BaWsGCHg0MMblD5WBfSauRgoDFdT/s2rVLeoY+/vjjK0EM8luQq4T95q2iMvaFp/2NnkSsMO4+swe9OG3atNFbV/nbD7HaT+44JEREtuGMzdsBKRjDhw+Xy48//ihnl5GA0vwIUHxBUqYrnLXOnz9fVaxYURUoUEC3OkM09lmwkDNRsmRJ2efuunXrJvkdDz30kPSg4H2EYRYkD7v3ECFZFPkwmFHjCWZlYXaRp+EODPlhqjB6xzDkgoMtHg9Jv64w5HnrrbeqP/74w+uMo0hATxPyShA44PVDQityVDAkU758eX2vBJjdNGLECI/DsDB58mTZDwjI3GENKqwHhCE3BHcI8tATin3r/vdaixbef//9uuWqWO0njxCwEBHZEc7CcZ988omRK1cuY/v27brFGf7991/D/FKXomxlypTRrc7g1H1mQXl2b0X0zODiypICKOvuqdw7nD9/3rjhhhsMM+gwxowZY/z111/6lquwTIJ5gNdbSZmBkJS9P3PmjG5J6rPPPjPMoEFvRY8ZXBipU6c2zMBFKgIfOXJE35KUGXRJReM1a9YYZgCtW6/Ce7Vw4cIe95EF5fXxWN6YgYhRtGhRvZVUrPaTJxwSIiLbwnVGjzF5nHGjFyMcXc0rVqzwWLMjGDt37lTdu3eXhEVPU0Bjxcn7zIIk2YIFC6rvv/9etyTA46BgnJW/gtwL1JHxBCtgI1/CKih34403yv+ukL+DXgn0oHiCVbbRK4AFKj1BjwN6FDBjJ9owHIQFLTG1GfkumMrsTd68eSUZGb0o1apV061XYdYRpkW/++67uiUpDNPhsbwZNGiQ1+TzWO4nj3TgQkQUFeYXtpE1a1Zj6dKluiU0W7duNcqXL6+3wqdUqVLGokWL9FZsxcs+gwMHDsiaR2aQIts4gzcDQKQeGB9//LH0CviDcvEnT57UW57htWndurXeCsybb75pjBo1Sm9FD3pJzGBMlojAIpt2+OodAfRUNW7cWBZBDBQWj2zWrJneSipW+8kb9rAQUdQgCbBevXpq0qRJMgU2VJh1gkqeVj2ScEHpd8x4QfIiSprHUrzsMwt6BZBAisRgTFFGIi2eN3qGkJeCmUH+YJaP6wwaT/DatGjRQqY5BwKzqvCc2rVrp1uiB4nEKMmPnjLkstjhq3cE0FOFXBZUtT148KBu9Q+5PVairyex3E9e6cCFiCiitm3bJvkXGJMPhfklKmeGjRo1MlKlSmVkzJgx7CslYyE4LKuPxfxi2csST/vMHfIqkI8SaeZBWl+zBz0+yRHydnzlw7jDfvOWRwRO3E+cJUREEYdKo5iBgPF6u2f2+GrC9FSckaMeBfIgNm7cKBfXIl7PPfecnCmGGwpl4Uw/ffr0uiW64nGfEUUSAxYiiigc+JGM6a2KZqgwZIIkxuSE+4woKQYsRBRR+IpB5c1IfNVgRglyJpIb7jOipBiwEBERkeNxlhARERE5HgMWIiIicjwGLEQUNajrgJkr4YAl/1GVFgvlEVHyx4CFiKIGq/N+8MEHeis4KEaGabkoVY9y782aNZP/UzIUJFu4cKHeIkqemHRLRFGDtUlQ2yQUr7zyiqwv07lzZ9nev3+/rACMKcDe1qeJJ6iwiwAMq+tavUePPPKIz3WcsCpv+/btE9VaIUpu2MNCRBGHXpGZM2fKgoKhmjp1qixsZ8mXL59MAQ7H7441lFdv2LChWr58uZRkz507t1y8LeJnefLJJ/U1ouSLPSxEFHFY7bV169aqevXqsk6PtULtN998o8aNGyfXfaldu7Zq1aqV9NCgFwUrDaMKrOWWW26RVWcjtT5OuOzdu1f9/PPPch2r72bPnl2uA9YKwvouAwcOlFop3vzzzz+yzgsq2mI1aayAfPr0aQlwrB4WrBeEdWWw0m+TJk0kqMN9sFIwVjjGasl4LfB80DO1b98+VbFiRVW8eHF1+PBhWR14z549MvRWpEgRjz9LFHUIWIiIIuXs2bPGDz/8IOvz5M2b1+f6Jf7gZ/G1tWrVKt2SwDwgG5988onecqaePXsaL730kqzRYgZqRo0aNfQtCX+X67Y3WC/m8ccflxWPzeDByJIli2EGMLKdJk0auQ9WOr7xxhvl/7lz5xp169aV9rfeekvWEzKDPuOdd96RtgYNGshjmwGLMW3aNHmtnn/+efnZ5cuXG7lz55b1gDz9LFG0cUiIiCIqQ4YMkmMyevRo1aZNm5DyTPCz+fPnT7LiL878CxYsqLecBysKo7fjzTfflN4ODGn16tVL36rkNvP7WI0aNcrjBT0gsGjRIpUzZ06VMWNGWfkYvSGZM2eW2yzIEVq9erU6evSo9J5guAyyZcum2rZtq8xgT/JdAENNGIJCj84TTzwhvx8/h6Ep/CxWdf7rr788/ixRtHFIiIgiDrNYMJSAZNJ58+Yp88xeEmcDHRICJNvigN+lSxfZxvRmrIuDIYx06dJJm9OUKFFChnrwd3uCBNt+/fqp559/XrckVrZsWRnyGTt2rFqzZk2ShQvdh4ReffVVeUwk6nbt2vXKMBSSc3v06CFDdLhgWKl79+5q8uTJMgy0a9cutWXLFjVs2DC5vyv3nyWKOgQsRESRZAYsRpkyZYy3337bGDNmjG4NjnlwNurVq2fMmjXL+Omnn4zmzZsby5Yt07c601133WV8/fXXeisBhlwwxAL4/+GHH5b95AuGwszAxDADC9levHixcfDgQePUqVPGNddcI20YejMDOrm+dOlS45577pHrGB6CvXv3GmbwKNetNuzLmjVryn7MkSOHsX//fmk3gyNj+/btHn+WKNquGWDSsQsRUURgKAcJnKVKlUqULBuMtGnTqkaNGsmUX/QooOfltttu07c6kxmsqffee08K52FYBUmz6dOnV6VLl5bbMSSTJ08eNXjwYGUGLl57itBjgiEaDK3Nnj1bEmIfeOABGcIxAyLpaSpZsqQaMWKEDAth6GjatGmqcOHCMtyDJNs0adKo66+/Xobp0EuFISUU80MvTq1ataS3p0OHDtL7hV4xPJ/3338/yc8SRRuHhIiIogT5JAi4XGcHucJ05tdff11WU0aQgQAB6tWrl2gqN3J48HsQ9HiCQA4zqnD7qVOnJCjBNqaXYxjIyntBG4aTcD/XIAkzkbCN/CPw9LNE0caAhYjIYZBEvH379iuF49ATw0CBUjoGLEREROR4nNZMREREjseAhYiIiByPAQsRERE5HgMWIiIicjwGLEREROR4DFiIiIjI8RiwEBERkeMxYCEiIiLHY8BCREREjseAhYiIiByPAQsRERE5HgMWIiIicjwGLEREROR4DFiIiIjI8RiwEBERkeMxYCEiIiKHU+r/h3pdOpW1uw0AAAAASUVORK5CYII=)"
      ],
      "metadata": {
        "id": "SQc3O55KwD3Z"
      }
    },
    {
      "cell_type": "code",
      "source": [
        "class YOLOv1Loss(nn.Module):\n",
        "  def __init__(self, S=7, B=2, C=20, λ_coord=5, λ_noobj=0.5):\n",
        "    super().__init__()\n",
        "    self.S = S\n",
        "    self.B = B\n",
        "    self.C = C\n",
        "    self.lambda_coord = λ_coord\n",
        "    self.lambda_noobj = λ_noobj\n",
        "    self.mse = nn.MSELoss(reduction=\"sum\")\n",
        "\n",
        "  def forward(self, predictions, target):\n",
        "    # predictions are shaped (BATCH_SIZE, S*S(C+B*5) when inputted\n",
        "    predictions = predictions.reshape(-1, self.S, self.S, self.C + self.B * 5)\n",
        "\n",
        "    # Calculate IoU for the two predicted bounding boxes with target bbox\n",
        "    iou_b1 = intersection_over_union(predictions[..., 21:25], target[..., 21:25])\n",
        "    iou_b2 = intersection_over_union(predictions[..., 26:30], target[..., 21:25])\n",
        "    ious = torch.cat([iou_b1.unsqueeze(0), iou_b2.unsqueeze(0)], dim=0)\n",
        "\n",
        "    # Take the box with highest IoU out of the two prediction\n",
        "    # Note that bestbox will be indices of 0, 1 for which bbox was best\n",
        "    iou_maxes, bestbox = torch.max(ious, dim=0)\n",
        "    exists_box = target[..., 20].unsqueeze(3)  # in paper this is Iobj_i\n",
        "\n",
        "    # ======================== #\n",
        "    #   FOR BOX COORDINATES    #\n",
        "    # ======================== #\n",
        "\n",
        "    # Set boxes with no object in them to 0. We only take out one of the two\n",
        "    # predictions, which is the one with highest Iou calculated previously.\n",
        "    box_predictions = exists_box * (\n",
        "        (\n",
        "            bestbox * predictions[..., 26:30]\n",
        "            + (1 - bestbox) * predictions[..., 21:25]\n",
        "        )\n",
        "    )\n",
        "\n",
        "    box_targets = exists_box * target[..., 21:25]\n",
        "\n",
        "    # Take sqrt of width, height of boxes to ensure that\n",
        "    box_predictions[..., 2:4] = torch.sign(box_predictions[..., 2:4]) * torch.sqrt(\n",
        "        torch.abs(box_predictions[..., 2:4] + 1e-6)\n",
        "    )\n",
        "    box_targets[..., 2:4] = torch.sqrt(box_targets[..., 2:4])\n",
        "\n",
        "    box_loss = self.mse(\n",
        "        torch.flatten(box_predictions, end_dim=-2),\n",
        "        torch.flatten(box_targets, end_dim=-2),\n",
        "    )\n",
        "\n",
        "    # ==================== #\n",
        "    #   FOR OBJECT LOSS    #\n",
        "    # ==================== #\n",
        "\n",
        "    # pred_box is the confidence score for the bbox with highest IoU\n",
        "    pred_box = (\n",
        "        bestbox * predictions[..., 25:26] + (1 - bestbox) * predictions[..., 20:21]\n",
        "    )\n",
        "\n",
        "    object_loss = self.mse(\n",
        "        torch.flatten(exists_box * pred_box),\n",
        "        torch.flatten(exists_box * target[..., 20:21]),\n",
        "    )\n",
        "\n",
        "    # ======================= #\n",
        "    #   FOR NO OBJECT LOSS    #\n",
        "    # ======================= #\n",
        "\n",
        "    #max_no_obj = torch.max(predictions[..., 20:21], predictions[..., 25:26])\n",
        "    #no_object_loss = self.mse(\n",
        "    #    torch.flatten((1 - exists_box) * max_no_obj, start_dim=1),\n",
        "    #    torch.flatten((1 - exists_box) * target[..., 20:21], start_dim=1),\n",
        "    #)\n",
        "\n",
        "    no_object_loss = self.mse(\n",
        "        torch.flatten((1 - exists_box) * predictions[..., 20:21], start_dim=1),\n",
        "        torch.flatten((1 - exists_box) * target[..., 20:21], start_dim=1),\n",
        "    )\n",
        "\n",
        "    no_object_loss += self.mse(\n",
        "        torch.flatten((1 - exists_box) * predictions[..., 25:26], start_dim=1),\n",
        "        torch.flatten((1 - exists_box) * target[..., 20:21], start_dim=1)\n",
        "    )\n",
        "\n",
        "    # ================== #\n",
        "    #   FOR CLASS LOSS   #\n",
        "    # ================== #\n",
        "\n",
        "    class_loss = self.mse(\n",
        "        torch.flatten(exists_box * predictions[..., :20], end_dim=-2,),\n",
        "        torch.flatten(exists_box * target[..., :20], end_dim=-2,),\n",
        "    )\n",
        "\n",
        "    loss = (\n",
        "        self.lambda_coord * box_loss  # first two rows in paper\n",
        "        + object_loss  # third row in paper\n",
        "        + self.lambda_noobj * no_object_loss  # forth row\n",
        "        + class_loss  # fifth row\n",
        "    )\n",
        "\n",
        "    return loss\n"
      ],
      "metadata": {
        "id": "UvbjN5aqQkFs"
      },
      "execution_count": null,
      "outputs": []
    },
    {
      "cell_type": "markdown",
      "source": [
        "##Load the Pascal Visual Object Class Dataset"
      ],
      "metadata": {
        "id": "WdEdF9L5Orvz"
      }
    },
    {
      "cell_type": "code",
      "source": [
        "torch.manual_seed(0)"
      ],
      "metadata": {
        "id": "RJdBbpI3Wf09",
        "colab": {
          "base_uri": "https://localhost:8080/"
        },
        "outputId": "23c7a193-d5b2-4220-c3ab-f02b94841885"
      },
      "execution_count": null,
      "outputs": [
        {
          "output_type": "execute_result",
          "data": {
            "text/plain": [
              "<torch._C.Generator at 0x7ecfea55fd70>"
            ]
          },
          "metadata": {},
          "execution_count": 8
        }
      ]
    },
    {
      "cell_type": "code",
      "source": [
        "from google.colab import drive\n",
        "drive.mount('/content/drive')"
      ],
      "metadata": {
        "colab": {
          "base_uri": "https://localhost:8080/"
        },
        "id": "RLlkieRy_KEg",
        "outputId": "cfc44a27-444a-45ab-bea7-e8b92cd82000"
      },
      "execution_count": null,
      "outputs": [
        {
          "output_type": "stream",
          "name": "stdout",
          "text": [
            "Drive already mounted at /content/drive; to attempt to forcibly remount, call drive.mount(\"/content/drive\", force_remount=True).\n"
          ]
        }
      ]
    },
    {
      "cell_type": "code",
      "source": [
        "# Define VOC classes\n",
        "VOC_CLASSES = [\n",
        "    \"aeroplane\", \"bicycle\", \"bird\", \"boat\", \"bottle\",\n",
        "    \"bus\", \"car\", \"cat\", \"chair\", \"cow\",\n",
        "    \"diningtable\", \"dog\", \"horse\", \"motorbike\", \"person\",\n",
        "    \"pottedplant\", \"sheep\", \"sofa\", \"train\", \"tvmonitor\"\n",
        "]\n",
        "CLASS2IDX = {cls: i for i, cls in enumerate(VOC_CLASSES)}\n",
        "\n",
        "# Custom dataset wrapper\n",
        "class CleanedVOCDataset(VOCDetection):\n",
        "    def __init__(self, root, year, image_set, transforms=None):\n",
        "        super().__init__(root, year=year, image_set=image_set, download=False)\n",
        "        self.transforms = transforms\n",
        "\n",
        "    def __getitem__(self, idx):\n",
        "        img, target = super().__getitem__(idx)\n",
        "        _, h, w = img.shape\n",
        "\n",
        "        objects = target[\"annotation\"][\"object\"]\n",
        "        if not isinstance(objects, list):\n",
        "            objects = [objects]\n",
        "\n",
        "        boxes = []\n",
        "        for obj in objects:\n",
        "            name = obj[\"name\"].lower().strip()\n",
        "            if name not in CLASS2IDX:\n",
        "                continue  # skip unknown labels\n",
        "            class_id = CLASS2IDX[name]\n",
        "\n",
        "            bbox = obj[\"bndbox\"]\n",
        "            xmin, ymin = int(bbox[\"xmin\"]), int(bbox[\"ymin\"])\n",
        "            xmax, ymax = int(bbox[\"xmax\"]), int(bbox[\"ymax\"])\n",
        "\n",
        "            # convert to YOLO format (normalized)\n",
        "            x_center = ((xmin + xmax) / 2) / w\n",
        "            y_center = ((ymin + ymax) / 2) / h\n",
        "            bw = (xmax - xmin) / w\n",
        "            bh = (ymax - ymin) / h\n",
        "\n",
        "            boxes.append([class_id, x_center, y_center, bw, bh])\n",
        "\n",
        "        boxes = torch.tensor(boxes, dtype=torch.float32)\n",
        "\n",
        "        if self.transforms:\n",
        "            img = self.transforms(img)\n",
        "\n",
        "        return img, boxes  # <-- target is tensor now\n",
        "\n",
        "# Collate function for variable targets\n",
        "def collate_fn(batch):\n",
        "    images, targets = zip(*batch)\n",
        "    return list(images), list(targets)\n",
        "\n",
        "# Transforms (your pipeline)\n",
        "transforms = v2.Compose([\n",
        "    v2.ToImage(),\n",
        "    v2.ColorJitter(brightness=1.5, contrast=1.5, saturation=1.5),\n",
        "    v2.RandomHorizontalFlip(p=0.2),\n",
        "    v2.RandomVerticalFlip(p=0.2),\n",
        "    v2.Resize((448,448)),\n",
        "    v2.ToDtype(torch.float32, scale=True),\n",
        "])\n",
        "\n",
        "# Dataset\n",
        "train_dataset = CleanedVOCDataset(\n",
        "    root='/content/drive/MyDrive/_Dataset/PASCALVOC2007_AND_2012',\n",
        "    year='2007',\n",
        "    image_set='train',\n",
        "    transforms=transforms\n",
        ")\n",
        "\n",
        "# DataLoader\n",
        "train_loader = DataLoader(\n",
        "    train_dataset,\n",
        "    batch_size=8,\n",
        "    shuffle=True,\n",
        "    collate_fn=collate_fn\n",
        ")\n",
        "\n",
        "# Dataset\n",
        "test_dataset = CleanedVOCDataset(\n",
        "    root='/content/drive/MyDrive/_Dataset/PASCALVOC2007_AND_2012',\n",
        "    year='2007',\n",
        "    image_set='val',\n",
        "    transforms=transforms\n",
        ")\n",
        "\n",
        "# DataLoader\n",
        "test_loader = DataLoader(\n",
        "    test_dataset,\n",
        "    batch_size=8,\n",
        "    shuffle=True,\n",
        "    collate_fn=collate_fn\n",
        ")"
      ],
      "metadata": {
        "id": "Xr85ir6rs9C6"
      },
      "execution_count": null,
      "outputs": []
    },
    {
      "cell_type": "markdown",
      "source": [],
      "metadata": {
        "id": "5b8KcKehZQzf"
      }
    },
    {
      "cell_type": "markdown",
      "source": [
        "###AdamW\n",
        "class torch.optim.AdamW(params, lr=0.001, betas=(0.9, 0.999), eps=1e-08, weight_decay=0.01, amsgrad=False, *, maximize=False, foreach=None, capturable=False, differentiable=False, fused=None)\n"
      ],
      "metadata": {
        "id": "fsgKHPV3VGV7"
      }
    },
    {
      "cell_type": "code",
      "source": [
        "def learning_rate(epoch, epochs):\n",
        "  first_stop = 0.6 * epochs\n",
        "  second_stop = 0.8 * epochs\n",
        "  if epoch <= first_stop:\n",
        "    return 0.1\n",
        "  elif epoch <= second_stop:\n",
        "    return 0.01\n",
        "  else:\n",
        "    return 0.001\n",
        "\n",
        "\n",
        "num_epochs = 10"
      ],
      "metadata": {
        "id": "vPCDKZ1PVCtD"
      },
      "execution_count": null,
      "outputs": []
    },
    {
      "cell_type": "code",
      "source": [
        "def plot_image(image, boxes):\n",
        "  \"\"\"Plots predicted bounding boxes on the image\"\"\"\n",
        "  im = np.array(image)\n",
        "  height, width, _ = im.shape\n",
        "\n",
        "  # Create figure and axes\n",
        "  fig, ax = plt.subplots(1)\n",
        "  # Display the image\n",
        "  ax.imshow(im)\n",
        "\n",
        "  # box[0] is x midpoint, box[2] is width\n",
        "  # box[1] is y midpoint, box[3] is height\n",
        "\n",
        "  # Create a Rectangle patch\n",
        "  for box in boxes:\n",
        "      box = box[2:]\n",
        "      assert len(box) == 4, \"Got more values than in x, y, w, h, in a box!\"\n",
        "      upper_left_x = box[0] - box[2] / 2\n",
        "      upper_left_y = box[1] - box[3] / 2\n",
        "      rect = patches.Rectangle(\n",
        "          (upper_left_x * width, upper_left_y * height),\n",
        "          box[2] * width,\n",
        "          box[3] * height,\n",
        "          linewidth=1,\n",
        "          edgecolor=\"r\",\n",
        "          facecolor=\"none\",\n",
        "      )\n",
        "      # Add the patch to the Axes\n",
        "      ax.add_patch(rect)\n",
        "\n",
        "  plt.show()\n",
        "\n",
        "def get_bboxes(\n",
        "    loader,\n",
        "    model,\n",
        "    iou_threshold,\n",
        "    threshold,\n",
        "    pred_format=\"cells\",\n",
        "    box_format=\"midpoint\",\n",
        "    device=\"cuda\"):\n",
        "  all_pred_boxes = []\n",
        "  all_true_boxes = []\n",
        "\n",
        "  # make sure model is in eval before get bboxes\n",
        "  model.eval()\n",
        "  train_idx = 0\n",
        "\n",
        "  for batch_idx, (x, labels) in enumerate(loader):\n",
        "      x = x.to(device)\n",
        "      labels = labels.to(device)\n",
        "\n",
        "      with torch.no_grad():\n",
        "          predictions = model(x)\n",
        "\n",
        "      batch_size = x.shape[0]\n",
        "      true_bboxes = cellboxes_to_boxes(labels)\n",
        "      bboxes = cellboxes_to_boxes(predictions)\n",
        "\n",
        "      for idx in range(batch_size):\n",
        "          nms_boxes = nms(\n",
        "              bboxes[idx],\n",
        "              iou_threshold=iou_threshold,\n",
        "              threshold=threshold,\n",
        "              box_format=box_format,\n",
        "          )\n",
        "\n",
        "\n",
        "          #if batch_idx == 0 and idx == 0:\n",
        "          #    plot_image(x[idx].permute(1,2,0).to(\"cpu\"), nms_boxes)\n",
        "          #    print(nms_boxes)\n",
        "\n",
        "          for nms_box in nms_boxes:\n",
        "              all_pred_boxes.append([train_idx] + nms_box)\n",
        "\n",
        "          for box in true_bboxes[idx]:\n",
        "              # many will get converted to 0 pred\n",
        "              if box[1] > threshold:\n",
        "                  all_true_boxes.append([train_idx] + box)\n",
        "\n",
        "          train_idx += 1\n",
        "\n",
        "  model.train()\n",
        "  return all_pred_boxes, all_true_boxes\n",
        "\n",
        "\n",
        "\n",
        "def convert_cellboxes(predictions, S=7):\n",
        "    \"\"\"\n",
        "    Converts bounding boxes output from Yolo with\n",
        "    an image split size of S into entire image ratios\n",
        "    rather than relative to cell ratios. Tried to do this\n",
        "    vectorized, but this resulted in quite difficult to read\n",
        "    code... Use as a black box? Or implement a more intuitive,\n",
        "    using 2 for loops iterating range(S) and convert them one\n",
        "    by one, resulting in a slower but more readable implementation.\n",
        "    \"\"\"\n",
        "\n",
        "    predictions = predictions.to(\"cpu\")\n",
        "    batch_size = predictions.shape[0]\n",
        "    predictions = predictions.reshape(batch_size, 7, 7, 30)\n",
        "    bboxes1 = predictions[..., 21:25]\n",
        "    bboxes2 = predictions[..., 26:30]\n",
        "    scores = torch.cat(\n",
        "        (predictions[..., 20].unsqueeze(0), predictions[..., 25].unsqueeze(0)), dim=0\n",
        "    )\n",
        "    best_box = scores.argmax(0).unsqueeze(-1)\n",
        "    best_boxes = bboxes1 * (1 - best_box) + best_box * bboxes2\n",
        "    cell_indices = torch.arange(7).repeat(batch_size, 7, 1).unsqueeze(-1)\n",
        "    x = 1 / S * (best_boxes[..., :1] + cell_indices)\n",
        "    y = 1 / S * (best_boxes[..., 1:2] + cell_indices.permute(0, 2, 1, 3))\n",
        "    w_y = 1 / S * best_boxes[..., 2:4]\n",
        "    converted_bboxes = torch.cat((x, y, w_y), dim=-1)\n",
        "    predicted_class = predictions[..., :20].argmax(-1).unsqueeze(-1)\n",
        "    best_confidence = torch.max(predictions[..., 20], predictions[..., 25]).unsqueeze(\n",
        "        -1\n",
        "    )\n",
        "    converted_preds = torch.cat(\n",
        "        (predicted_class, best_confidence, converted_bboxes), dim=-1\n",
        "    )\n",
        "\n",
        "    return converted_preds\n",
        "\n",
        "\n",
        "def cellboxes_to_boxes(out, S=7):\n",
        "    converted_pred = convert_cellboxes(out).reshape(out.shape[0], S * S, -1)\n",
        "    converted_pred[..., 0] = converted_pred[..., 0].long()\n",
        "    all_bboxes = []\n",
        "\n",
        "    for ex_idx in range(out.shape[0]):\n",
        "        bboxes = []\n",
        "\n",
        "        for bbox_idx in range(S * S):\n",
        "            bboxes.append([x.item() for x in converted_pred[ex_idx, bbox_idx, :]])\n",
        "        all_bboxes.append(bboxes)\n",
        "\n",
        "    return all_bboxes\n",
        "\n",
        "def save_checkpoint(state, filename=\"my_checkpoint.pth.tar\"):\n",
        "    print(\"=> Saving checkpoint\")\n",
        "    torch.save(state, filename)\n",
        "\n",
        "\n",
        "def load_checkpoint(checkpoint, model, optimizer):\n",
        "    print(\"=> Loading checkpoint\")\n",
        "    model.load_state_dict(checkpoint[\"state_dict\"])\n",
        "    optimizer.load_state_dict(checkpoint[\"optimizer\"])"
      ],
      "metadata": {
        "id": "zigAFC7emSto"
      },
      "execution_count": null,
      "outputs": []
    },
    {
      "cell_type": "code",
      "source": [
        "def encode_targets(targets, S=7, C=20):\n",
        "    \"\"\"\n",
        "    Convert list of [N, 5] targets -> YOLOv1 grid tensor [S, S, C+5]\n",
        "    Each target row: [class, x, y, w, h]  (all normalized [0,1])\n",
        "    \"\"\"\n",
        "    B = len(targets)  # batch size\n",
        "    encoded = []\n",
        "\n",
        "    for b in range(B):\n",
        "        t = targets[b]  # shape [N, 5]\n",
        "        grid = torch.zeros((S, S, C + 5))  # [7, 7, 25]\n",
        "\n",
        "        for box in t:\n",
        "            cls, x, y, w, h = box.tolist()\n",
        "\n",
        "            # Find cell index for center (x,y)\n",
        "            i = int(x * S)\n",
        "            j = int(y * S)\n",
        "\n",
        "            # Safety (clamp inside grid)\n",
        "            i = min(S - 1, max(0, i))\n",
        "            j = min(S - 1, max(0, j))\n",
        "\n",
        "            # One-hot class\n",
        "            grid[j, i, int(cls)] = 1.0  # NOTE: grid[y, x] convention\n",
        "\n",
        "            # Objectness\n",
        "            grid[j, i, C] = 1.0\n",
        "\n",
        "            # Box coords (still normalized wrt image)\n",
        "            grid[j, i, C+1:C+5] = torch.tensor([x, y, w, h])\n",
        "\n",
        "        encoded.append(grid)\n",
        "\n",
        "    return torch.stack(encoded)  # [B, S, S, C+5]\n",
        "\n",
        "\n",
        "def train(train_loader, model, optimizer, criterion, device, S=7, C=20):\n",
        "    loop = tqdm(train_loader, leave=True)\n",
        "    mean_loss = []\n",
        "\n",
        "    for batch_idx, (images, targets) in enumerate(loop):\n",
        "        # Stack images into a batch tensor [B, 3, 448, 448]\n",
        "        images = torch.stack(images).to(device)\n",
        "\n",
        "        # Encode targets into YOLOv1 grid format\n",
        "        targets = encode_targets([t.to(device) for t in targets], S=S, C=C).to(device)  # [B, S, S, 25]\n",
        "\n",
        "        # Forward\n",
        "        out = model(images)\n",
        "\n",
        "        # Compute loss\n",
        "        loss_val = criterion(out, targets)\n",
        "        mean_loss.append(loss_val.item())\n",
        "\n",
        "        # Backward\n",
        "        optimizer.zero_grad()\n",
        "        loss_val.backward()\n",
        "        optimizer.step()\n",
        "\n",
        "        # Update progress bar\n",
        "        loop.set_postfix(loss=loss_val.item())\n",
        "\n",
        "    print(f\"Mean loss was {sum(mean_loss)/len(mean_loss)}\")\n",
        "\n",
        "\n",
        "def test(test_loader, model, criterion, device, S=7, C=20):\n",
        "    model.eval()  # set to evaluation mode\n",
        "    loop = tqdm(test_loader, leave=True)\n",
        "    mean_loss = []\n",
        "\n",
        "    for batch_idx, (images, targets) in enumerate(loop):\n",
        "        # Stack images into a batch tensor [B, 3, 448, 448]\n",
        "        images = torch.stack(images).to(device)\n",
        "\n",
        "        # Encode targets into YOLOv1 grid format\n",
        "        targets = encode_targets([t.to(device) for t in targets], S=S, C=C).to(device)  # [B, S, S, 25]\n",
        "\n",
        "        # Forward (no grad, eval mode)\n",
        "        out = model(images)  # [B, S, S, 30]\n",
        "\n",
        "        # Compute loss\n",
        "        loss_val = criterion(out, targets)\n",
        "        mean_loss.append(loss_val.item())\n",
        "\n",
        "        # Update progress bar\n",
        "        loop.set_postfix(loss=loss_val.item())\n",
        "\n",
        "    avg_loss = sum(mean_loss) / len(mean_loss)\n",
        "    print(f\"Mean test loss was {avg_loss}\")\n",
        "\n",
        "\n",
        "num_epochs = 1\n",
        "\n",
        "def main():\n",
        "    model = YOLOv1().to(device)\n",
        "\n",
        "    optimizer = torch.optim.AdamW(\n",
        "        model.parameters(),\n",
        "        lr=0.001,   # 0.1 is too high, changed to a safer start\n",
        "        betas=(0.9, 0.99),\n",
        "        weight_decay=0.0005,\n",
        "    )\n",
        "    criterion = YOLOv1Loss()\n",
        "\n",
        "    for epoch in range(num_epochs):\n",
        "        print(f\"Epoch [{epoch+1}/{num_epochs}]\")\n",
        "\n",
        "        # Training\n",
        "        train(train_loader, model, optimizer, criterion, device)\n",
        "\n",
        "        # Debug visualization (just first batch)\n",
        "        for images, targets in train_loader:\n",
        "            images = torch.stack(images).to(device)\n",
        "            out = model(images)\n",
        "\n",
        "            for idx in range(min(8, images.shape[0])):  # up to 8 images\n",
        "                bboxes = cellboxes_to_boxes(out)\n",
        "                bboxes = nms(\n",
        "                    bboxes[idx],\n",
        "                    iou_threshold=0.5,\n",
        "                    threshold=0.4,\n",
        "                    box_format=\"midpoint\",\n",
        "                )\n",
        "                plot_image(images[idx].permute(1, 2, 0).cpu(), bboxes)\n",
        "\n",
        "            import sys\n",
        "            sys.exit()  # remove later\n",
        "\n",
        "        # Evaluation\n",
        "        pred_boxes, target_boxes = get_bboxes(\n",
        "            train_loader, model, iou_threshold=0.5, threshold=0.4\n",
        "        )\n",
        "\n",
        "        mean_avg_prec = mean_average_precision(\n",
        "            pred_boxes, target_boxes, iou_threshold=0.5, box_format=\"midpoint\"\n",
        "        )\n",
        "        print(f\"Train mAP: {mean_avg_prec}\")\n",
        "\n",
        "        # Testing\n",
        "        test(test_loader, model, criterion, device)\n",
        "\n",
        "        # Debug visualization (just first batch)\n",
        "        for images, targets in test_loader:\n",
        "            images = torch.stack(images).to(device)\n",
        "            out = model(images)\n",
        "\n",
        "            for idx in range(min(8, images.shape[0])):  # up to 8 images\n",
        "                bboxes = cellboxes_to_boxes(out)\n",
        "                bboxes = nms(\n",
        "                    bboxes[idx],\n",
        "                    iou_threshold=0.5,\n",
        "                    threshold=0.4,\n",
        "                    box_format=\"midpoint\",\n",
        "                )\n",
        "                plot_image(images[idx].permute(1, 2, 0).cpu(), bboxes)\n",
        "\n",
        "            import sys\n",
        "            sys.exit()  # remove later\n",
        "\n",
        "        # Evaluation\n",
        "        pred_boxes, target_boxes = get_bboxes(\n",
        "            test_loader, model, iou_threshold=0.5, threshold=0.4\n",
        "        )\n",
        "\n",
        "        mean_avg_prec = mean_average_precision(\n",
        "            pred_boxes, target_boxes, iou_threshold=0.5, box_format=\"midpoint\"\n",
        "        )\n",
        "        print(f\"Test mAP: {mean_avg_prec}\")\n",
        "\n",
        "        # Save checkpoint\n",
        "        if mean_avg_prec > 0.9:\n",
        "            checkpoint = {\n",
        "                \"state_dict\": model.state_dict(),\n",
        "                \"optimizer\": optimizer.state_dict(),\n",
        "            }\n",
        "            #save_checkpoint(checkpoint, filename=LOAD_MODEL_FILE)\n",
        "            import time\n",
        "            time.sleep(10)\n",
        "\n",
        "\n",
        "\n",
        "if __name__ == \"__main__\":\n",
        "    main()"
      ],
      "metadata": {
        "id": "TKktMooQ6PVM",
        "colab": {
          "base_uri": "https://localhost:8080/"
        },
        "outputId": "2bc16301-6082-488c-b29a-7be5f12c3399"
      },
      "execution_count": null,
      "outputs": [
        {
          "output_type": "stream",
          "name": "stdout",
          "text": [
            "Epoch [1/1]\n"
          ]
        },
        {
          "output_type": "stream",
          "name": "stderr",
          "text": [
            " 56%|█████▌    | 176/313 [39:39<30:57, 13.56s/it, loss=7.55e+12]"
          ]
        }
      ]
    }
  ]
}